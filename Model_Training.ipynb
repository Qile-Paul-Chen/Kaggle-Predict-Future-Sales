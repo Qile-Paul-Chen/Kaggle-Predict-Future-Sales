{
 "cells": [
  {
   "cell_type": "code",
   "execution_count": 1,
   "metadata": {},
   "outputs": [],
   "source": [
    "import numpy as np\n",
    "import pandas as pd\n",
    "import matplotlib.pyplot as plt\n",
    "import sklearn\n",
    "import seaborn as sns\n",
    "import os"
   ]
  },
  {
   "cell_type": "markdown",
   "metadata": {},
   "source": [
    "Read input data"
   ]
  },
  {
   "cell_type": "code",
   "execution_count": 2,
   "metadata": {},
   "outputs": [],
   "source": [
    "shops = pd.read_csv(\"data/shops.csv\")\n",
    "item_categories = pd.read_csv(\"data/item_categories.csv\")\n",
    "sales_train = pd.read_csv(\"data/sales_train.csv\")\n",
    "items = pd.read_csv(\"data/items.csv\")\n",
    "\n",
    "test = pd.read_csv(\"data/test.csv\")\n",
    "sample_submission = pd.read_csv(\"data/sample_submission.csv\")"
   ]
  },
  {
   "cell_type": "markdown",
   "metadata": {},
   "source": [
    "Stack the train and test data together"
   ]
  },
  {
   "cell_type": "code",
   "execution_count": 16,
   "metadata": {},
   "outputs": [
    {
     "name": "stderr",
     "output_type": "stream",
     "text": [
      "C:\\Users\\ChenP\\AppData\\Local\\Continuum\\anaconda3\\lib\\site-packages\\pandas\\core\\frame.py:6201: FutureWarning: Sorting because non-concatenation axis is not aligned. A future version\n",
      "of pandas will change to not sort by default.\n",
      "\n",
      "To accept the future behavior, pass 'sort=True'.\n",
      "\n",
      "To retain the current behavior and silence the warning, pass sort=False\n",
      "\n",
      "  sort=sort)\n"
     ]
    },
    {
     "data": {
      "text/html": [
       "<div>\n",
       "<style scoped>\n",
       "    .dataframe tbody tr th:only-of-type {\n",
       "        vertical-align: middle;\n",
       "    }\n",
       "\n",
       "    .dataframe tbody tr th {\n",
       "        vertical-align: top;\n",
       "    }\n",
       "\n",
       "    .dataframe thead th {\n",
       "        text-align: right;\n",
       "    }\n",
       "</style>\n",
       "<table border=\"1\" class=\"dataframe\">\n",
       "  <thead>\n",
       "    <tr style=\"text-align: right;\">\n",
       "      <th></th>\n",
       "      <th>date</th>\n",
       "      <th>date_block_num</th>\n",
       "      <th>item_cnt_day</th>\n",
       "      <th>item_id</th>\n",
       "      <th>item_price</th>\n",
       "      <th>shop_id</th>\n",
       "    </tr>\n",
       "  </thead>\n",
       "  <tbody>\n",
       "    <tr>\n",
       "      <th>214198</th>\n",
       "      <td>NaN</td>\n",
       "      <td>34</td>\n",
       "      <td>NaN</td>\n",
       "      <td>19648</td>\n",
       "      <td>NaN</td>\n",
       "      <td>45</td>\n",
       "    </tr>\n",
       "    <tr>\n",
       "      <th>214199</th>\n",
       "      <td>NaN</td>\n",
       "      <td>34</td>\n",
       "      <td>NaN</td>\n",
       "      <td>969</td>\n",
       "      <td>NaN</td>\n",
       "      <td>45</td>\n",
       "    </tr>\n",
       "  </tbody>\n",
       "</table>\n",
       "</div>"
      ],
      "text/plain": [
       "       date  date_block_num  item_cnt_day  item_id  item_price  shop_id\n",
       "214198  NaN              34           NaN    19648         NaN       45\n",
       "214199  NaN              34           NaN      969         NaN       45"
      ]
     },
     "execution_count": 16,
     "metadata": {},
     "output_type": "execute_result"
    }
   ],
   "source": [
    "test['date_block_num'] = 34\n",
    "train_test = sales_train.append(test.drop(columns=['ID']))\n",
    "train_test.tail(2)"
   ]
  },
  {
   "cell_type": "markdown",
   "metadata": {},
   "source": [
    "## Feature Engineering"
   ]
  },
  {
   "cell_type": "markdown",
   "metadata": {},
   "source": [
    "Aggregate sales to monthly level and clip the value, according to the competition rule"
   ]
  },
  {
   "cell_type": "code",
   "execution_count": 4,
   "metadata": {},
   "outputs": [],
   "source": [
    "# Aggregate the sales by month\n",
    "\n",
    "train = sales_train.groupby(['date_block_num', 'shop_id', 'item_id']).agg({'item_cnt_day': ['sum']})\n",
    "train.columns = ['item_cnt_sum']\n",
    "train.reset_index(inplace=True)\n",
    "train['item_cnt_sum'] = np.clip(train['item_cnt_sum'], 0, 20)"
   ]
  },
  {
   "cell_type": "markdown",
   "metadata": {},
   "source": [
    "Let's look at the statistics for the target variable to make sure"
   ]
  },
  {
   "cell_type": "code",
   "execution_count": 5,
   "metadata": {},
   "outputs": [
    {
     "data": {
      "text/plain": [
       "count    1.609124e+06\n",
       "mean     2.022806e+00\n",
       "std      2.577964e+00\n",
       "min      0.000000e+00\n",
       "25%      1.000000e+00\n",
       "50%      1.000000e+00\n",
       "75%      2.000000e+00\n",
       "max      2.000000e+01\n",
       "Name: item_cnt_sum, dtype: float64"
      ]
     },
     "execution_count": 5,
     "metadata": {},
     "output_type": "execute_result"
    }
   ],
   "source": [
    "train['item_cnt_sum'].describe()"
   ]
  },
  {
   "cell_type": "markdown",
   "metadata": {},
   "source": [
    "Notice that we do not have all the (date_block_num, shop_id, item_id) pairs, if the sales = 0. Therefore, we need to fill in the missing pairs."
   ]
  },
  {
   "cell_type": "code",
   "execution_count": 6,
   "metadata": {},
   "outputs": [
    {
     "name": "stdout",
     "output_type": "stream",
     "text": [
      "(10913850, 3)\n"
     ]
    }
   ],
   "source": [
    "from itertools import product\n",
    "\n",
    "months = train['date_block_num'].unique()\n",
    "\n",
    "cartesian = []\n",
    "for month in months:\n",
    "    shops_in_month = train.loc[train['date_block_num']==month, 'shop_id'].unique()\n",
    "    items_in_month = train.loc[train['date_block_num']==month, 'item_id'].unique()\n",
    "    cartesian.append(np.array(list(product(*[shops_in_month, items_in_month, [month]])), dtype='int32'))\n",
    "    \n",
    "cartesian_df = pd.DataFrame(np.vstack(cartesian), columns = ['shop_id', 'item_id', 'date_block_num'], dtype=np.int32)\n",
    "print(cartesian_df.shape)"
   ]
  },
  {
   "cell_type": "markdown",
   "metadata": {},
   "source": [
    "The generated cartesian_df dataframe will contain all the unique (shop_id, item_id, date_block_num) pairs"
   ]
  },
  {
   "cell_type": "markdown",
   "metadata": {},
   "source": [
    "Append the test set into the cartesian_df"
   ]
  },
  {
   "cell_type": "code",
   "execution_count": 7,
   "metadata": {},
   "outputs": [],
   "source": [
    "test['date_block_num'] = 34\n",
    "cartesian_df = cartesian_df.append(test.drop(columns=['ID']))"
   ]
  },
  {
   "cell_type": "markdown",
   "metadata": {},
   "source": [
    "We merge it back to the train dataframe and fill NaN with zeros to include zeros in the sales record"
   ]
  },
  {
   "cell_type": "code",
   "execution_count": 8,
   "metadata": {},
   "outputs": [
    {
     "data": {
      "text/html": [
       "<div>\n",
       "<style scoped>\n",
       "    .dataframe tbody tr th:only-of-type {\n",
       "        vertical-align: middle;\n",
       "    }\n",
       "\n",
       "    .dataframe tbody tr th {\n",
       "        vertical-align: top;\n",
       "    }\n",
       "\n",
       "    .dataframe thead th {\n",
       "        text-align: right;\n",
       "    }\n",
       "</style>\n",
       "<table border=\"1\" class=\"dataframe\">\n",
       "  <thead>\n",
       "    <tr style=\"text-align: right;\">\n",
       "      <th></th>\n",
       "      <th>shop_id</th>\n",
       "      <th>item_id</th>\n",
       "      <th>date_block_num</th>\n",
       "      <th>item_cnt_sum</th>\n",
       "    </tr>\n",
       "  </thead>\n",
       "  <tbody>\n",
       "    <tr>\n",
       "      <th>0</th>\n",
       "      <td>0</td>\n",
       "      <td>32</td>\n",
       "      <td>0</td>\n",
       "      <td>6.0</td>\n",
       "    </tr>\n",
       "    <tr>\n",
       "      <th>1</th>\n",
       "      <td>0</td>\n",
       "      <td>33</td>\n",
       "      <td>0</td>\n",
       "      <td>3.0</td>\n",
       "    </tr>\n",
       "    <tr>\n",
       "      <th>2</th>\n",
       "      <td>0</td>\n",
       "      <td>35</td>\n",
       "      <td>0</td>\n",
       "      <td>1.0</td>\n",
       "    </tr>\n",
       "    <tr>\n",
       "      <th>3</th>\n",
       "      <td>0</td>\n",
       "      <td>43</td>\n",
       "      <td>0</td>\n",
       "      <td>1.0</td>\n",
       "    </tr>\n",
       "    <tr>\n",
       "      <th>4</th>\n",
       "      <td>0</td>\n",
       "      <td>51</td>\n",
       "      <td>0</td>\n",
       "      <td>2.0</td>\n",
       "    </tr>\n",
       "  </tbody>\n",
       "</table>\n",
       "</div>"
      ],
      "text/plain": [
       "   shop_id  item_id  date_block_num  item_cnt_sum\n",
       "0        0       32               0           6.0\n",
       "1        0       33               0           3.0\n",
       "2        0       35               0           1.0\n",
       "3        0       43               0           1.0\n",
       "4        0       51               0           2.0"
      ]
     },
     "execution_count": 8,
     "metadata": {},
     "output_type": "execute_result"
    }
   ],
   "source": [
    "new_train = cartesian_df.merge(train, on=['date_block_num','shop_id','item_id'], how='left').fillna(0)\n",
    "new_train.head()"
   ]
  },
  {
   "cell_type": "code",
   "execution_count": 10,
   "metadata": {},
   "outputs": [],
   "source": [
    "new_train = new_train.merge(items, on='item_id', how='left')\n",
    "new_train = new_train.merge(shops, on='shop_id', how='left')\n",
    "new_train = new_train.merge(item_categories, on='item_category_id', how='left')\n",
    "new_train['city'] = new_train['shop_name'].str.split(' ').map(lambda x : x[0])\n",
    "new_train.drop(columns=['item_name','shop_name','item_category_name'], inplace=True)\n",
    "\n",
    "#new_train.sort_values(by=['date_block_num', 'shop_id', 'item_id'], inplace=True)\n",
    "new_train.reset_index(drop=True, inplace=True)\n",
    "\n",
    "new_train.head(2)"
   ]
  },
  {
   "cell_type": "markdown",
   "metadata": {},
   "source": [
    "### Add features: item_id related features <br>\n",
    "- item_id\n",
    "- shop_id\n",
    "- last 1, 3, 6, 12 month's sale"
   ]
  },
  {
   "cell_type": "code",
   "execution_count": 13,
   "metadata": {},
   "outputs": [],
   "source": [
    "def lag_feature(df, df_shift, lags, on, col):\n",
    "    tmp = df_shift[on + [col]]\n",
    "    for i in lags:\n",
    "        shifted = tmp.copy()\n",
    "        shifted.columns = on + [col+'_lag_'+str(i)]\n",
    "        shifted['date_block_num'] += i\n",
    "        df = df.merge(shifted, on=on, how='left')\n",
    "    return df"
   ]
  },
  {
   "cell_type": "code",
   "execution_count": 14,
   "metadata": {},
   "outputs": [
    {
     "data": {
      "text/html": [
       "<div>\n",
       "<style scoped>\n",
       "    .dataframe tbody tr th:only-of-type {\n",
       "        vertical-align: middle;\n",
       "    }\n",
       "\n",
       "    .dataframe tbody tr th {\n",
       "        vertical-align: top;\n",
       "    }\n",
       "\n",
       "    .dataframe thead th {\n",
       "        text-align: right;\n",
       "    }\n",
       "</style>\n",
       "<table border=\"1\" class=\"dataframe\">\n",
       "  <thead>\n",
       "    <tr style=\"text-align: right;\">\n",
       "      <th></th>\n",
       "      <th>shop_id</th>\n",
       "      <th>item_id</th>\n",
       "      <th>date_block_num</th>\n",
       "      <th>item_cnt_sum</th>\n",
       "      <th>item_category_id</th>\n",
       "      <th>city</th>\n",
       "      <th>item_cnt_sum_lag_1</th>\n",
       "      <th>item_cnt_sum_lag_3</th>\n",
       "      <th>item_cnt_sum_lag_6</th>\n",
       "      <th>item_cnt_sum_lag_12</th>\n",
       "    </tr>\n",
       "  </thead>\n",
       "  <tbody>\n",
       "    <tr>\n",
       "      <th>0</th>\n",
       "      <td>0</td>\n",
       "      <td>32</td>\n",
       "      <td>0</td>\n",
       "      <td>6.0</td>\n",
       "      <td>40</td>\n",
       "      <td>!Якутск</td>\n",
       "      <td>NaN</td>\n",
       "      <td>NaN</td>\n",
       "      <td>NaN</td>\n",
       "      <td>NaN</td>\n",
       "    </tr>\n",
       "    <tr>\n",
       "      <th>1</th>\n",
       "      <td>0</td>\n",
       "      <td>33</td>\n",
       "      <td>0</td>\n",
       "      <td>3.0</td>\n",
       "      <td>37</td>\n",
       "      <td>!Якутск</td>\n",
       "      <td>NaN</td>\n",
       "      <td>NaN</td>\n",
       "      <td>NaN</td>\n",
       "      <td>NaN</td>\n",
       "    </tr>\n",
       "  </tbody>\n",
       "</table>\n",
       "</div>"
      ],
      "text/plain": [
       "   shop_id  item_id  date_block_num  item_cnt_sum  item_category_id     city  \\\n",
       "0        0       32               0           6.0                40  !Якутск   \n",
       "1        0       33               0           3.0                37  !Якутск   \n",
       "\n",
       "   item_cnt_sum_lag_1  item_cnt_sum_lag_3  item_cnt_sum_lag_6  \\\n",
       "0                 NaN                 NaN                 NaN   \n",
       "1                 NaN                 NaN                 NaN   \n",
       "\n",
       "   item_cnt_sum_lag_12  \n",
       "0                  NaN  \n",
       "1                  NaN  "
      ]
     },
     "execution_count": 14,
     "metadata": {},
     "output_type": "execute_result"
    }
   ],
   "source": [
    "new_train = lag_feature(new_train, new_train, lags=[1, 3, 6, 12], on=['date_block_num','shop_id','item_id'], col='item_cnt_sum')\n",
    "new_train.head(2)"
   ]
  },
  {
   "cell_type": "markdown",
   "metadata": {},
   "source": [
    "### Add features: Categorical related features <br>\n",
    "- item_category_id\n",
    "- last 1, 3, 6, 12's sale for items with the same item_category_id in the same shop"
   ]
  },
  {
   "cell_type": "code",
   "execution_count": 17,
   "metadata": {},
   "outputs": [
    {
     "data": {
      "text/html": [
       "<div>\n",
       "<style scoped>\n",
       "    .dataframe tbody tr th:only-of-type {\n",
       "        vertical-align: middle;\n",
       "    }\n",
       "\n",
       "    .dataframe tbody tr th {\n",
       "        vertical-align: top;\n",
       "    }\n",
       "\n",
       "    .dataframe thead th {\n",
       "        text-align: right;\n",
       "    }\n",
       "</style>\n",
       "<table border=\"1\" class=\"dataframe\">\n",
       "  <thead>\n",
       "    <tr style=\"text-align: right;\">\n",
       "      <th></th>\n",
       "      <th>date</th>\n",
       "      <th>date_block_num</th>\n",
       "      <th>item_cnt_day</th>\n",
       "      <th>item_id</th>\n",
       "      <th>item_price</th>\n",
       "      <th>shop_id</th>\n",
       "      <th>item_name</th>\n",
       "      <th>item_category_id</th>\n",
       "    </tr>\n",
       "  </thead>\n",
       "  <tbody>\n",
       "    <tr>\n",
       "      <th>0</th>\n",
       "      <td>02.01.2013</td>\n",
       "      <td>0</td>\n",
       "      <td>1.0</td>\n",
       "      <td>22154</td>\n",
       "      <td>999.0</td>\n",
       "      <td>59</td>\n",
       "      <td>ЯВЛЕНИЕ 2012 (BD)</td>\n",
       "      <td>37</td>\n",
       "    </tr>\n",
       "    <tr>\n",
       "      <th>1</th>\n",
       "      <td>03.01.2013</td>\n",
       "      <td>0</td>\n",
       "      <td>1.0</td>\n",
       "      <td>2552</td>\n",
       "      <td>899.0</td>\n",
       "      <td>25</td>\n",
       "      <td>DEEP PURPLE  The House Of Blue Light  LP</td>\n",
       "      <td>58</td>\n",
       "    </tr>\n",
       "  </tbody>\n",
       "</table>\n",
       "</div>"
      ],
      "text/plain": [
       "         date  date_block_num  item_cnt_day  item_id  item_price  shop_id  \\\n",
       "0  02.01.2013               0           1.0    22154       999.0       59   \n",
       "1  03.01.2013               0           1.0     2552       899.0       25   \n",
       "\n",
       "                                  item_name  item_category_id  \n",
       "0                         ЯВЛЕНИЕ 2012 (BD)                37  \n",
       "1  DEEP PURPLE  The House Of Blue Light  LP                58  "
      ]
     },
     "execution_count": 17,
     "metadata": {},
     "output_type": "execute_result"
    }
   ],
   "source": [
    "train_master = train_test.merge(items, on='item_id', how='left')\n",
    "train_master = train_master.merge(shops[['shop_id']], on='shop_id', how='left')\n",
    "train_master = train_master.merge(item_categories[['item_category_id']], on='item_category_id', how='left')\n",
    "train_master.head(2)"
   ]
  },
  {
   "cell_type": "code",
   "execution_count": 18,
   "metadata": {},
   "outputs": [
    {
     "data": {
      "text/html": [
       "<div>\n",
       "<style scoped>\n",
       "    .dataframe tbody tr th:only-of-type {\n",
       "        vertical-align: middle;\n",
       "    }\n",
       "\n",
       "    .dataframe tbody tr th {\n",
       "        vertical-align: top;\n",
       "    }\n",
       "\n",
       "    .dataframe thead th {\n",
       "        text-align: right;\n",
       "    }\n",
       "</style>\n",
       "<table border=\"1\" class=\"dataframe\">\n",
       "  <thead>\n",
       "    <tr style=\"text-align: right;\">\n",
       "      <th></th>\n",
       "      <th>date_block_num</th>\n",
       "      <th>shop_id</th>\n",
       "      <th>item_category_id</th>\n",
       "      <th>item_cnt_by_cat_sum</th>\n",
       "    </tr>\n",
       "  </thead>\n",
       "  <tbody>\n",
       "    <tr>\n",
       "      <th>0</th>\n",
       "      <td>0</td>\n",
       "      <td>0</td>\n",
       "      <td>2</td>\n",
       "      <td>53.0</td>\n",
       "    </tr>\n",
       "    <tr>\n",
       "      <th>1</th>\n",
       "      <td>0</td>\n",
       "      <td>0</td>\n",
       "      <td>3</td>\n",
       "      <td>28.0</td>\n",
       "    </tr>\n",
       "  </tbody>\n",
       "</table>\n",
       "</div>"
      ],
      "text/plain": [
       "   date_block_num  shop_id  item_category_id  item_cnt_by_cat_sum\n",
       "0               0        0                 2                 53.0\n",
       "1               0        0                 3                 28.0"
      ]
     },
     "execution_count": 18,
     "metadata": {},
     "output_type": "execute_result"
    }
   ],
   "source": [
    "df = train_master.groupby(['date_block_num', 'shop_id', 'item_category_id']).agg({'item_cnt_day':['sum']})\n",
    "df.columns = ['item_cnt_by_cat_sum']\n",
    "df.reset_index(inplace=True)\n",
    "df.head(2)"
   ]
  },
  {
   "cell_type": "code",
   "execution_count": 19,
   "metadata": {},
   "outputs": [
    {
     "data": {
      "text/html": [
       "<div>\n",
       "<style scoped>\n",
       "    .dataframe tbody tr th:only-of-type {\n",
       "        vertical-align: middle;\n",
       "    }\n",
       "\n",
       "    .dataframe tbody tr th {\n",
       "        vertical-align: top;\n",
       "    }\n",
       "\n",
       "    .dataframe thead th {\n",
       "        text-align: right;\n",
       "    }\n",
       "</style>\n",
       "<table border=\"1\" class=\"dataframe\">\n",
       "  <thead>\n",
       "    <tr style=\"text-align: right;\">\n",
       "      <th></th>\n",
       "      <th>shop_id</th>\n",
       "      <th>item_id</th>\n",
       "      <th>date_block_num</th>\n",
       "      <th>item_cnt_sum</th>\n",
       "      <th>item_category_id</th>\n",
       "      <th>city</th>\n",
       "      <th>item_cnt_sum_lag_1</th>\n",
       "      <th>item_cnt_sum_lag_3</th>\n",
       "      <th>item_cnt_sum_lag_6</th>\n",
       "      <th>item_cnt_sum_lag_12</th>\n",
       "      <th>item_cnt_by_cat_sum_lag_1</th>\n",
       "      <th>item_cnt_by_cat_sum_lag_3</th>\n",
       "      <th>item_cnt_by_cat_sum_lag_6</th>\n",
       "      <th>item_cnt_by_cat_sum_lag_12</th>\n",
       "    </tr>\n",
       "  </thead>\n",
       "  <tbody>\n",
       "    <tr>\n",
       "      <th>0</th>\n",
       "      <td>0</td>\n",
       "      <td>32</td>\n",
       "      <td>0</td>\n",
       "      <td>6.0</td>\n",
       "      <td>40</td>\n",
       "      <td>!Якутск</td>\n",
       "      <td>NaN</td>\n",
       "      <td>NaN</td>\n",
       "      <td>NaN</td>\n",
       "      <td>NaN</td>\n",
       "      <td>NaN</td>\n",
       "      <td>NaN</td>\n",
       "      <td>NaN</td>\n",
       "      <td>NaN</td>\n",
       "    </tr>\n",
       "    <tr>\n",
       "      <th>1</th>\n",
       "      <td>0</td>\n",
       "      <td>33</td>\n",
       "      <td>0</td>\n",
       "      <td>3.0</td>\n",
       "      <td>37</td>\n",
       "      <td>!Якутск</td>\n",
       "      <td>NaN</td>\n",
       "      <td>NaN</td>\n",
       "      <td>NaN</td>\n",
       "      <td>NaN</td>\n",
       "      <td>NaN</td>\n",
       "      <td>NaN</td>\n",
       "      <td>NaN</td>\n",
       "      <td>NaN</td>\n",
       "    </tr>\n",
       "  </tbody>\n",
       "</table>\n",
       "</div>"
      ],
      "text/plain": [
       "   shop_id  item_id  date_block_num  item_cnt_sum  item_category_id     city  \\\n",
       "0        0       32               0           6.0                40  !Якутск   \n",
       "1        0       33               0           3.0                37  !Якутск   \n",
       "\n",
       "   item_cnt_sum_lag_1  item_cnt_sum_lag_3  item_cnt_sum_lag_6  \\\n",
       "0                 NaN                 NaN                 NaN   \n",
       "1                 NaN                 NaN                 NaN   \n",
       "\n",
       "   item_cnt_sum_lag_12  item_cnt_by_cat_sum_lag_1  item_cnt_by_cat_sum_lag_3  \\\n",
       "0                  NaN                        NaN                        NaN   \n",
       "1                  NaN                        NaN                        NaN   \n",
       "\n",
       "   item_cnt_by_cat_sum_lag_6  item_cnt_by_cat_sum_lag_12  \n",
       "0                        NaN                         NaN  \n",
       "1                        NaN                         NaN  "
      ]
     },
     "execution_count": 19,
     "metadata": {},
     "output_type": "execute_result"
    }
   ],
   "source": [
    "new_train = lag_feature(new_train, df, lags=[1,3,6,12], on=['date_block_num','shop_id','item_category_id'], col='item_cnt_by_cat_sum')\n",
    "new_train.head(2)"
   ]
  },
  {
   "cell_type": "markdown",
   "metadata": {},
   "source": [
    "### Add features: month and city label"
   ]
  },
  {
   "cell_type": "markdown",
   "metadata": {},
   "source": [
    "Add a month feature"
   ]
  },
  {
   "cell_type": "code",
   "execution_count": 21,
   "metadata": {},
   "outputs": [],
   "source": [
    "new_train['month'] = new_train['date_block_num'] % 12"
   ]
  },
  {
   "cell_type": "markdown",
   "metadata": {},
   "source": [
    "Label encode the categorical variables"
   ]
  },
  {
   "cell_type": "code",
   "execution_count": 22,
   "metadata": {},
   "outputs": [
    {
     "data": {
      "text/html": [
       "<div>\n",
       "<style scoped>\n",
       "    .dataframe tbody tr th:only-of-type {\n",
       "        vertical-align: middle;\n",
       "    }\n",
       "\n",
       "    .dataframe tbody tr th {\n",
       "        vertical-align: top;\n",
       "    }\n",
       "\n",
       "    .dataframe thead th {\n",
       "        text-align: right;\n",
       "    }\n",
       "</style>\n",
       "<table border=\"1\" class=\"dataframe\">\n",
       "  <thead>\n",
       "    <tr style=\"text-align: right;\">\n",
       "      <th></th>\n",
       "      <th>shop_id</th>\n",
       "      <th>item_id</th>\n",
       "      <th>date_block_num</th>\n",
       "      <th>item_cnt_sum</th>\n",
       "      <th>item_category_id</th>\n",
       "      <th>item_cnt_sum_lag_1</th>\n",
       "      <th>item_cnt_sum_lag_3</th>\n",
       "      <th>item_cnt_sum_lag_6</th>\n",
       "      <th>item_cnt_sum_lag_12</th>\n",
       "      <th>item_cnt_by_cat_sum_lag_1</th>\n",
       "      <th>item_cnt_by_cat_sum_lag_3</th>\n",
       "      <th>item_cnt_by_cat_sum_lag_6</th>\n",
       "      <th>item_cnt_by_cat_sum_lag_12</th>\n",
       "      <th>month</th>\n",
       "      <th>city_label</th>\n",
       "    </tr>\n",
       "  </thead>\n",
       "  <tbody>\n",
       "    <tr>\n",
       "      <th>0</th>\n",
       "      <td>0</td>\n",
       "      <td>32</td>\n",
       "      <td>0</td>\n",
       "      <td>6.0</td>\n",
       "      <td>40</td>\n",
       "      <td>NaN</td>\n",
       "      <td>NaN</td>\n",
       "      <td>NaN</td>\n",
       "      <td>NaN</td>\n",
       "      <td>NaN</td>\n",
       "      <td>NaN</td>\n",
       "      <td>NaN</td>\n",
       "      <td>NaN</td>\n",
       "      <td>0</td>\n",
       "      <td>0</td>\n",
       "    </tr>\n",
       "    <tr>\n",
       "      <th>1</th>\n",
       "      <td>0</td>\n",
       "      <td>33</td>\n",
       "      <td>0</td>\n",
       "      <td>3.0</td>\n",
       "      <td>37</td>\n",
       "      <td>NaN</td>\n",
       "      <td>NaN</td>\n",
       "      <td>NaN</td>\n",
       "      <td>NaN</td>\n",
       "      <td>NaN</td>\n",
       "      <td>NaN</td>\n",
       "      <td>NaN</td>\n",
       "      <td>NaN</td>\n",
       "      <td>0</td>\n",
       "      <td>0</td>\n",
       "    </tr>\n",
       "  </tbody>\n",
       "</table>\n",
       "</div>"
      ],
      "text/plain": [
       "   shop_id  item_id  date_block_num  item_cnt_sum  item_category_id  \\\n",
       "0        0       32               0           6.0                40   \n",
       "1        0       33               0           3.0                37   \n",
       "\n",
       "   item_cnt_sum_lag_1  item_cnt_sum_lag_3  item_cnt_sum_lag_6  \\\n",
       "0                 NaN                 NaN                 NaN   \n",
       "1                 NaN                 NaN                 NaN   \n",
       "\n",
       "   item_cnt_sum_lag_12  item_cnt_by_cat_sum_lag_1  item_cnt_by_cat_sum_lag_3  \\\n",
       "0                  NaN                        NaN                        NaN   \n",
       "1                  NaN                        NaN                        NaN   \n",
       "\n",
       "   item_cnt_by_cat_sum_lag_6  item_cnt_by_cat_sum_lag_12  month  city_label  \n",
       "0                        NaN                         NaN      0           0  \n",
       "1                        NaN                         NaN      0           0  "
      ]
     },
     "execution_count": 22,
     "metadata": {},
     "output_type": "execute_result"
    }
   ],
   "source": [
    "from sklearn import preprocessing\n",
    "\n",
    "le = preprocessing.LabelEncoder()\n",
    "new_train['city_label'] = le.fit_transform(new_train['city'])\n",
    "new_train.drop(['city'], axis = 1, inplace=True)\n",
    "new_train.head(2)"
   ]
  },
  {
   "cell_type": "code",
   "execution_count": 17,
   "metadata": {},
   "outputs": [],
   "source": [
    "new_train.to_pickle('train_test.pkl')"
   ]
  },
  {
   "cell_type": "markdown",
   "metadata": {},
   "source": [
    "## Build an XGBoost Model"
   ]
  },
  {
   "cell_type": "markdown",
   "metadata": {},
   "source": [
    "Training set and evaluation set split: <br>\n",
    "- training set: date_block_num in range(12, 33)\n",
    "- validation set: date_block_num == 33"
   ]
  },
  {
   "cell_type": "code",
   "execution_count": 23,
   "metadata": {},
   "outputs": [],
   "source": [
    "x_train = new_train[(new_train.date_block_num >= 12) & (new_train.date_block_num <= 32)]\n",
    "x_val = new_train[new_train.date_block_num == 33]\n",
    "x_test = new_train[new_train.date_block_num == 34]\n",
    "\n",
    "y_train = x_train[['item_cnt_sum']]\n",
    "y_val = x_val[['item_cnt_sum']]\n",
    "\n",
    "x_train = x_train.drop(columns=['item_cnt_sum'])\n",
    "x_val = x_val.drop(columns=['item_cnt_sum'])\n",
    "x_test = x_test.drop(columns=['item_cnt_sum'])"
   ]
  },
  {
   "cell_type": "markdown",
   "metadata": {},
   "source": [
    "Check NaN values. They are essentially zero values (no lag sales record), so let's fill them with zeros"
   ]
  },
  {
   "cell_type": "code",
   "execution_count": 24,
   "metadata": {
    "scrolled": true
   },
   "outputs": [
    {
     "data": {
      "text/plain": [
       "shop_id                             0\n",
       "item_id                             0\n",
       "date_block_num                      0\n",
       "item_category_id                    0\n",
       "item_cnt_sum_lag_1            1288325\n",
       "item_cnt_sum_lag_3            1658858\n",
       "item_cnt_sum_lag_6            2201695\n",
       "item_cnt_sum_lag_12           3280022\n",
       "item_cnt_by_cat_sum_lag_1     1041911\n",
       "item_cnt_by_cat_sum_lag_3     1107928\n",
       "item_cnt_by_cat_sum_lag_6     1214648\n",
       "item_cnt_by_cat_sum_lag_12    1472286\n",
       "month                               0\n",
       "city_label                          0\n",
       "dtype: int64"
      ]
     },
     "execution_count": 24,
     "metadata": {},
     "output_type": "execute_result"
    }
   ],
   "source": [
    "x_train.isna().sum()"
   ]
  },
  {
   "cell_type": "code",
   "execution_count": 25,
   "metadata": {},
   "outputs": [
    {
     "data": {
      "text/plain": [
       "shop_id                            0\n",
       "item_id                            0\n",
       "date_block_num                     0\n",
       "item_category_id                   0\n",
       "item_cnt_sum_lag_1             72491\n",
       "item_cnt_sum_lag_3             85775\n",
       "item_cnt_sum_lag_6             98690\n",
       "item_cnt_sum_lag_12           125555\n",
       "item_cnt_by_cat_sum_lag_1      56776\n",
       "item_cnt_by_cat_sum_lag_3      56868\n",
       "item_cnt_by_cat_sum_lag_6      59495\n",
       "item_cnt_by_cat_sum_lag_12     58665\n",
       "month                              0\n",
       "city_label                         0\n",
       "dtype: int64"
      ]
     },
     "execution_count": 25,
     "metadata": {},
     "output_type": "execute_result"
    }
   ],
   "source": [
    "x_val.isna().sum()"
   ]
  },
  {
   "cell_type": "code",
   "execution_count": 26,
   "metadata": {},
   "outputs": [
    {
     "data": {
      "text/plain": [
       "shop_id                            0\n",
       "item_id                            0\n",
       "date_block_num                     0\n",
       "item_category_id                   0\n",
       "item_cnt_sum_lag_1             46578\n",
       "item_cnt_sum_lag_3             72504\n",
       "item_cnt_sum_lag_6             89519\n",
       "item_cnt_sum_lag_12           112807\n",
       "item_cnt_by_cat_sum_lag_1      35063\n",
       "item_cnt_by_cat_sum_lag_3      41480\n",
       "item_cnt_by_cat_sum_lag_6      46319\n",
       "item_cnt_by_cat_sum_lag_12     44716\n",
       "month                              0\n",
       "city_label                         0\n",
       "dtype: int64"
      ]
     },
     "execution_count": 26,
     "metadata": {},
     "output_type": "execute_result"
    }
   ],
   "source": [
    "x_test.isna().sum()"
   ]
  },
  {
   "cell_type": "code",
   "execution_count": 27,
   "metadata": {},
   "outputs": [
    {
     "data": {
      "text/plain": [
       "item_cnt_sum    0\n",
       "dtype: int64"
      ]
     },
     "execution_count": 27,
     "metadata": {},
     "output_type": "execute_result"
    }
   ],
   "source": [
    "y_train.isna().sum()"
   ]
  },
  {
   "cell_type": "code",
   "execution_count": 28,
   "metadata": {},
   "outputs": [
    {
     "data": {
      "text/plain": [
       "item_cnt_sum    0\n",
       "dtype: int64"
      ]
     },
     "execution_count": 28,
     "metadata": {},
     "output_type": "execute_result"
    }
   ],
   "source": [
    "y_val.isna().sum()"
   ]
  },
  {
   "cell_type": "code",
   "execution_count": 29,
   "metadata": {},
   "outputs": [],
   "source": [
    "x_train = x_train.fillna(0.0)\n",
    "x_val = x_val.fillna(0.0)\n",
    "x_test = x_test.fillna(0.0)"
   ]
  },
  {
   "cell_type": "markdown",
   "metadata": {},
   "source": [
    "Let's try an XGBoost model!"
   ]
  },
  {
   "cell_type": "code",
   "execution_count": 30,
   "metadata": {},
   "outputs": [
    {
     "name": "stdout",
     "output_type": "stream",
     "text": [
      "[20:23:43] Tree method is automatically selected to be 'approx' for faster speed. to use old behavior(exact greedy algorithm on single machine), set tree_method to 'exact'\n",
      "[0]\tvalidation_0-rmse:1.15818\tvalidation_1-rmse:1.12467\n",
      "Multiple eval metrics have been passed: 'validation_1-rmse' will be used for early stopping.\n",
      "\n",
      "Will train until validation_1-rmse hasn't improved in 10 rounds.\n",
      "[1]\tvalidation_0-rmse:1.13384\tvalidation_1-rmse:1.10234\n",
      "[2]\tvalidation_0-rmse:1.11095\tvalidation_1-rmse:1.08237\n",
      "[3]\tvalidation_0-rmse:1.07604\tvalidation_1-rmse:1.05601\n",
      "[4]\tvalidation_0-rmse:1.06467\tvalidation_1-rmse:1.04538\n",
      "[5]\tvalidation_0-rmse:1.05087\tvalidation_1-rmse:1.03539\n",
      "[6]\tvalidation_0-rmse:1.03636\tvalidation_1-rmse:1.02578\n",
      "[7]\tvalidation_0-rmse:1.02686\tvalidation_1-rmse:1.0179\n",
      "[8]\tvalidation_0-rmse:1.01869\tvalidation_1-rmse:1.01033\n",
      "[9]\tvalidation_0-rmse:1.01225\tvalidation_1-rmse:1.00488\n",
      "[10]\tvalidation_0-rmse:0.99258\tvalidation_1-rmse:0.991321\n",
      "[11]\tvalidation_0-rmse:0.976034\tvalidation_1-rmse:0.981499\n",
      "[12]\tvalidation_0-rmse:0.969057\tvalidation_1-rmse:0.97635\n",
      "[13]\tvalidation_0-rmse:0.955451\tvalidation_1-rmse:0.967238\n",
      "[14]\tvalidation_0-rmse:0.951401\tvalidation_1-rmse:0.96475\n",
      "[15]\tvalidation_0-rmse:0.94856\tvalidation_1-rmse:0.961578\n",
      "[16]\tvalidation_0-rmse:0.939057\tvalidation_1-rmse:0.956669\n",
      "[17]\tvalidation_0-rmse:0.931205\tvalidation_1-rmse:0.952978\n",
      "[18]\tvalidation_0-rmse:0.924663\tvalidation_1-rmse:0.950173\n",
      "[19]\tvalidation_0-rmse:0.91846\tvalidation_1-rmse:0.947162\n",
      "[20]\tvalidation_0-rmse:0.914002\tvalidation_1-rmse:0.944878\n",
      "[21]\tvalidation_0-rmse:0.909984\tvalidation_1-rmse:0.942835\n",
      "[22]\tvalidation_0-rmse:0.906641\tvalidation_1-rmse:0.941373\n",
      "[23]\tvalidation_0-rmse:0.904108\tvalidation_1-rmse:0.9407\n",
      "[24]\tvalidation_0-rmse:0.90123\tvalidation_1-rmse:0.940224\n",
      "[25]\tvalidation_0-rmse:0.900196\tvalidation_1-rmse:0.939148\n",
      "[26]\tvalidation_0-rmse:0.898231\tvalidation_1-rmse:0.938322\n",
      "[27]\tvalidation_0-rmse:0.896807\tvalidation_1-rmse:0.936923\n",
      "[28]\tvalidation_0-rmse:0.894493\tvalidation_1-rmse:0.936116\n",
      "[29]\tvalidation_0-rmse:0.892953\tvalidation_1-rmse:0.935436\n",
      "[30]\tvalidation_0-rmse:0.891653\tvalidation_1-rmse:0.935083\n",
      "[31]\tvalidation_0-rmse:0.89011\tvalidation_1-rmse:0.934563\n",
      "[32]\tvalidation_0-rmse:0.889007\tvalidation_1-rmse:0.934369\n",
      "[33]\tvalidation_0-rmse:0.888027\tvalidation_1-rmse:0.934173\n",
      "[34]\tvalidation_0-rmse:0.886996\tvalidation_1-rmse:0.934017\n",
      "[35]\tvalidation_0-rmse:0.886579\tvalidation_1-rmse:0.933624\n",
      "[36]\tvalidation_0-rmse:0.885593\tvalidation_1-rmse:0.933157\n",
      "[37]\tvalidation_0-rmse:0.885256\tvalidation_1-rmse:0.93271\n",
      "[38]\tvalidation_0-rmse:0.884931\tvalidation_1-rmse:0.932498\n",
      "[39]\tvalidation_0-rmse:0.884364\tvalidation_1-rmse:0.932393\n",
      "[40]\tvalidation_0-rmse:0.883614\tvalidation_1-rmse:0.932184\n",
      "[41]\tvalidation_0-rmse:0.882368\tvalidation_1-rmse:0.932011\n",
      "[42]\tvalidation_0-rmse:0.88164\tvalidation_1-rmse:0.931952\n",
      "[43]\tvalidation_0-rmse:0.881078\tvalidation_1-rmse:0.931948\n",
      "[44]\tvalidation_0-rmse:0.880567\tvalidation_1-rmse:0.931876\n",
      "[45]\tvalidation_0-rmse:0.87983\tvalidation_1-rmse:0.932138\n",
      "[46]\tvalidation_0-rmse:0.879372\tvalidation_1-rmse:0.932406\n",
      "[47]\tvalidation_0-rmse:0.878387\tvalidation_1-rmse:0.932454\n",
      "[48]\tvalidation_0-rmse:0.878207\tvalidation_1-rmse:0.932391\n",
      "[49]\tvalidation_0-rmse:0.877936\tvalidation_1-rmse:0.932322\n",
      "[50]\tvalidation_0-rmse:0.877475\tvalidation_1-rmse:0.932269\n",
      "[51]\tvalidation_0-rmse:0.877091\tvalidation_1-rmse:0.932092\n",
      "[52]\tvalidation_0-rmse:0.876797\tvalidation_1-rmse:0.932162\n",
      "[53]\tvalidation_0-rmse:0.876319\tvalidation_1-rmse:0.932013\n",
      "[54]\tvalidation_0-rmse:0.875962\tvalidation_1-rmse:0.931858\n",
      "[55]\tvalidation_0-rmse:0.875636\tvalidation_1-rmse:0.931768\n",
      "[56]\tvalidation_0-rmse:0.875241\tvalidation_1-rmse:0.931985\n",
      "[57]\tvalidation_0-rmse:0.875048\tvalidation_1-rmse:0.931956\n",
      "[58]\tvalidation_0-rmse:0.874749\tvalidation_1-rmse:0.932248\n",
      "[59]\tvalidation_0-rmse:0.874609\tvalidation_1-rmse:0.93231\n",
      "[60]\tvalidation_0-rmse:0.874369\tvalidation_1-rmse:0.932361\n",
      "[61]\tvalidation_0-rmse:0.874293\tvalidation_1-rmse:0.932438\n",
      "[62]\tvalidation_0-rmse:0.874213\tvalidation_1-rmse:0.932564\n",
      "[63]\tvalidation_0-rmse:0.873529\tvalidation_1-rmse:0.933311\n",
      "[64]\tvalidation_0-rmse:0.87346\tvalidation_1-rmse:0.933491\n",
      "[65]\tvalidation_0-rmse:0.873105\tvalidation_1-rmse:0.933518\n",
      "Stopping. Best iteration:\n",
      "[55]\tvalidation_0-rmse:0.875636\tvalidation_1-rmse:0.931768\n",
      "\n"
     ]
    },
    {
     "data": {
      "text/plain": [
       "XGBRegressor(base_score=0.5, booster='gbtree', colsample_bylevel=1,\n",
       "       colsample_bytree=0.5, gamma=0, learning_rate=0.1, max_delta_step=0,\n",
       "       max_depth=10, min_child_weight=300, missing=None, n_estimators=1000,\n",
       "       n_jobs=1, nthread=None, objective='reg:linear', random_state=0,\n",
       "       reg_alpha=0, reg_lambda=1, scale_pos_weight=1, seed=None,\n",
       "       silent=True, subsample=0.5)"
      ]
     },
     "execution_count": 30,
     "metadata": {},
     "output_type": "execute_result"
    }
   ],
   "source": [
    "from xgboost import XGBRegressor\n",
    "from xgboost import plot_importance\n",
    "\n",
    "model = XGBRegressor(\n",
    "    n_estimators=1000,\n",
    "    max_depth=10,\n",
    "    min_child_weight=300, \n",
    "    colsample_bytree=0.5, \n",
    "    subsample=0.5)\n",
    "    #eta=0.3,    \n",
    "    #seed=42)\n",
    "\n",
    "model.fit(\n",
    "    x_train, \n",
    "    y_train, \n",
    "    eval_metric=\"rmse\", \n",
    "    eval_set=[(x_train, y_train), (x_val, y_val)], \n",
    "    verbose=True, \n",
    "    early_stopping_rounds = 10)"
   ]
  },
  {
   "cell_type": "code",
   "execution_count": 31,
   "metadata": {},
   "outputs": [
    {
     "data": {
      "text/plain": [
       "<matplotlib.axes._subplots.AxesSubplot at 0x1d63206ce80>"
      ]
     },
     "execution_count": 31,
     "metadata": {},
     "output_type": "execute_result"
    },
    {
     "data": {
      "image/png": "[encoded data removed]",
      "text/plain": [
       "<Figure size 720x720 with 1 Axes>"
      ]
     },
     "metadata": {},
     "output_type": "display_data"
    }
   ],
   "source": [
    "fig, ax = plt.subplots(1, 1, figsize=(10,10))\n",
    "plot_importance(booster=model, ax=ax)"
   ]
  },
  {
   "cell_type": "markdown",
   "metadata": {},
   "source": [
    "Save the model"
   ]
  },
  {
   "cell_type": "code",
   "execution_count": 32,
   "metadata": {},
   "outputs": [],
   "source": [
    "import pickle\n",
    "\n",
    "pickle.dump(model, open('model_20190618.dat','wb'))"
   ]
  },
  {
   "cell_type": "markdown",
   "metadata": {},
   "source": [
    "## Create submission"
   ]
  },
  {
   "cell_type": "code",
   "execution_count": 33,
   "metadata": {},
   "outputs": [],
   "source": [
    "y_test = np.clip(model.predict(x_test), 0, 20)\n",
    "\n",
    "submission = pd.DataFrame({\n",
    "    \"ID\": test.index, \n",
    "    \"item_cnt_month\": y_test\n",
    "})\n",
    "\n",
    "submission.to_csv('xgb_submission.csv', index=False)"
   ]
  },
  {
   "cell_type": "code",
   "execution_count": null,
   "metadata": {},
   "outputs": [],
   "source": []
  }
 ],
 "metadata": {
  "kernelspec": {
   "display_name": "Python 3",
   "language": "python",
   "name": "python3"
  },
  "language_info": {
   "codemirror_mode": {
    "name": "ipython",
    "version": 3
   },
   "file_extension": ".py",
   "mimetype": "text/x-python",
   "name": "python",
   "nbconvert_exporter": "python",
   "pygments_lexer": "ipython3",
   "version": "3.6.5"
  }
 },
 "nbformat": 4,
 "nbformat_minor": 2
}
