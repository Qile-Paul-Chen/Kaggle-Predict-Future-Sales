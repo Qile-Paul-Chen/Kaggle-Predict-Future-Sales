{
 "cells": [
  {
   "cell_type": "code",
   "execution_count": 2,
   "metadata": {},
   "outputs": [],
   "source": [
    "import numpy as np\n",
    "import pandas as pd\n",
    "import matplotlib.pyplot as plt\n",
    "import sklearn\n",
    "import seaborn as sns\n",
    "import os"
   ]
  },
  {
   "cell_type": "markdown",
   "metadata": {},
   "source": [
    "Read input data"
   ]
  },
  {
   "cell_type": "code",
   "execution_count": 3,
   "metadata": {},
   "outputs": [],
   "source": [
    "shops = pd.read_csv(\"data/shops.csv\")\n",
    "item_categories = pd.read_csv(\"data/item_categories.csv\")\n",
    "sales_train = pd.read_csv(\"data/sales_train.csv\")\n",
    "items = pd.read_csv(\"data/items.csv\")\n",
    "\n",
    "test = pd.read_csv(\"data/test.csv\")\n",
    "sample_submission = pd.read_csv(\"data/sample_submission.csv\")"
   ]
  },
  {
   "cell_type": "code",
   "execution_count": 4,
   "metadata": {},
   "outputs": [
    {
     "data": {
      "text/html": [
       "<div>\n",
       "<style scoped>\n",
       "    .dataframe tbody tr th:only-of-type {\n",
       "        vertical-align: middle;\n",
       "    }\n",
       "\n",
       "    .dataframe tbody tr th {\n",
       "        vertical-align: top;\n",
       "    }\n",
       "\n",
       "    .dataframe thead th {\n",
       "        text-align: right;\n",
       "    }\n",
       "</style>\n",
       "<table border=\"1\" class=\"dataframe\">\n",
       "  <thead>\n",
       "    <tr style=\"text-align: right;\">\n",
       "      <th></th>\n",
       "      <th>date</th>\n",
       "      <th>date_block_num</th>\n",
       "      <th>shop_id</th>\n",
       "      <th>item_id</th>\n",
       "      <th>item_price</th>\n",
       "      <th>item_cnt_day</th>\n",
       "      <th>item_name</th>\n",
       "      <th>item_category_id</th>\n",
       "      <th>shop_name</th>\n",
       "      <th>item_category_name</th>\n",
       "      <th>city</th>\n",
       "    </tr>\n",
       "  </thead>\n",
       "  <tbody>\n",
       "    <tr>\n",
       "      <th>0</th>\n",
       "      <td>02.01.2013</td>\n",
       "      <td>0</td>\n",
       "      <td>59</td>\n",
       "      <td>22154</td>\n",
       "      <td>999.0</td>\n",
       "      <td>1.0</td>\n",
       "      <td>ЯВЛЕНИЕ 2012 (BD)</td>\n",
       "      <td>37</td>\n",
       "      <td>Ярославль ТЦ \"Альтаир\"</td>\n",
       "      <td>Кино - Blu-Ray</td>\n",
       "      <td>Ярославль</td>\n",
       "    </tr>\n",
       "    <tr>\n",
       "      <th>1</th>\n",
       "      <td>26.04.2013</td>\n",
       "      <td>3</td>\n",
       "      <td>59</td>\n",
       "      <td>944</td>\n",
       "      <td>150.0</td>\n",
       "      <td>1.0</td>\n",
       "      <td>2012 (BD)</td>\n",
       "      <td>37</td>\n",
       "      <td>Ярославль ТЦ \"Альтаир\"</td>\n",
       "      <td>Кино - Blu-Ray</td>\n",
       "      <td>Ярославль</td>\n",
       "    </tr>\n",
       "  </tbody>\n",
       "</table>\n",
       "</div>"
      ],
      "text/plain": [
       "         date  date_block_num  shop_id  item_id  item_price  item_cnt_day  \\\n",
       "0  02.01.2013               0       59    22154       999.0           1.0   \n",
       "1  26.04.2013               3       59      944       150.0           1.0   \n",
       "\n",
       "           item_name  item_category_id               shop_name  \\\n",
       "0  ЯВЛЕНИЕ 2012 (BD)                37  Ярославль ТЦ \"Альтаир\"   \n",
       "1          2012 (BD)                37  Ярославль ТЦ \"Альтаир\"   \n",
       "\n",
       "  item_category_name       city  \n",
       "0     Кино - Blu-Ray  Ярославль  \n",
       "1     Кино - Blu-Ray  Ярославль  "
      ]
     },
     "execution_count": 4,
     "metadata": {},
     "output_type": "execute_result"
    }
   ],
   "source": [
    "train_master = sales_train.merge(items, on='item_id').merge(shops, on='shop_id').merge(item_categories, on='item_category_id')\n",
    "train_master['city'] = train_master['shop_name'].str.split(' ').map(lambda x : x[0])\n",
    "train_master.head(2)"
   ]
  },
  {
   "cell_type": "markdown",
   "metadata": {},
   "source": [
    "## Feature Engineering"
   ]
  },
  {
   "cell_type": "markdown",
   "metadata": {},
   "source": [
    "Aggregate sales to monthly level and clip the value"
   ]
  },
  {
   "cell_type": "code",
   "execution_count": 48,
   "metadata": {},
   "outputs": [],
   "source": [
    "# Aggregate the sales by month\n",
    "train = sales_train.groupby(['date_block_num', 'shop_id', 'item_id']).agg({'item_cnt_day': ['sum']})\n",
    "train.columns = ['item_cnt_sum']\n",
    "train.reset_index(inplace=True)"
   ]
  },
  {
   "cell_type": "markdown",
   "metadata": {},
   "source": [
    "Let's look at the statistics for the target variable"
   ]
  },
  {
   "cell_type": "code",
   "execution_count": 50,
   "metadata": {},
   "outputs": [
    {
     "data": {
      "text/plain": [
       "count    1.609124e+06\n",
       "mean     2.267200e+00\n",
       "std      8.649882e+00\n",
       "min     -2.200000e+01\n",
       "25%      1.000000e+00\n",
       "50%      1.000000e+00\n",
       "75%      2.000000e+00\n",
       "max      2.253000e+03\n",
       "Name: item_cnt_sum, dtype: float64"
      ]
     },
     "execution_count": 50,
     "metadata": {},
     "output_type": "execute_result"
    }
   ],
   "source": [
    "train['item_cnt_sum'].describe()"
   ]
  },
  {
   "cell_type": "markdown",
   "metadata": {},
   "source": [
    "There are some values that are too large. Let's try clipping the values to [0, 20]"
   ]
  },
  {
   "cell_type": "code",
   "execution_count": 51,
   "metadata": {},
   "outputs": [],
   "source": [
    "train['item_cnt_sum'] = np.clip(train['item_cnt_sum'], 0, 20)"
   ]
  },
  {
   "cell_type": "markdown",
   "metadata": {},
   "source": [
    "Notice that we do not have all the (date_block_num, shop_id, item_id) pairs, if the sales = 0. Therefore, we need to fill in the missing pairs."
   ]
  },
  {
   "cell_type": "code",
   "execution_count": 52,
   "metadata": {},
   "outputs": [
    {
     "name": "stdout",
     "output_type": "stream",
     "text": [
      "(10913850, 3)\n"
     ]
    }
   ],
   "source": [
    "months = train['date_block_num'].unique()\n",
    "\n",
    "cartesian = []\n",
    "for month in months:\n",
    "    shops_in_month = train.loc[train['date_block_num']==month, 'shop_id'].unique()\n",
    "    items_in_month = train.loc[train['date_block_num']==month, 'item_id'].unique()\n",
    "    cartesian.append(np.array(list(product(*[shops_in_month, items_in_month, [month]])), dtype='int32'))\n",
    "    \n",
    "cartesian_df = pd.DataFrame(np.vstack(cartesian), columns = ['shop_id', 'item_id', 'date_block_num'], dtype=np.int32)\n",
    "print(cartesian_df.shape)"
   ]
  },
  {
   "cell_type": "markdown",
   "metadata": {},
   "source": [
    "The generated cartesian_df dataframe will contain all the unique (shop_id, item_id, date_block_num) pairs"
   ]
  },
  {
   "cell_type": "markdown",
   "metadata": {},
   "source": [
    "We merge it back to the train dataframe and fill NaN with zeros to include zeros in the sales record"
   ]
  },
  {
   "cell_type": "code",
   "execution_count": 53,
   "metadata": {},
   "outputs": [
    {
     "data": {
      "text/html": [
       "<div>\n",
       "<style scoped>\n",
       "    .dataframe tbody tr th:only-of-type {\n",
       "        vertical-align: middle;\n",
       "    }\n",
       "\n",
       "    .dataframe tbody tr th {\n",
       "        vertical-align: top;\n",
       "    }\n",
       "\n",
       "    .dataframe thead th {\n",
       "        text-align: right;\n",
       "    }\n",
       "</style>\n",
       "<table border=\"1\" class=\"dataframe\">\n",
       "  <thead>\n",
       "    <tr style=\"text-align: right;\">\n",
       "      <th></th>\n",
       "      <th>shop_id</th>\n",
       "      <th>item_id</th>\n",
       "      <th>date_block_num</th>\n",
       "      <th>item_cnt_sum</th>\n",
       "    </tr>\n",
       "  </thead>\n",
       "  <tbody>\n",
       "    <tr>\n",
       "      <th>0</th>\n",
       "      <td>0</td>\n",
       "      <td>32</td>\n",
       "      <td>0</td>\n",
       "      <td>6.0</td>\n",
       "    </tr>\n",
       "    <tr>\n",
       "      <th>1</th>\n",
       "      <td>0</td>\n",
       "      <td>33</td>\n",
       "      <td>0</td>\n",
       "      <td>3.0</td>\n",
       "    </tr>\n",
       "    <tr>\n",
       "      <th>2</th>\n",
       "      <td>0</td>\n",
       "      <td>35</td>\n",
       "      <td>0</td>\n",
       "      <td>1.0</td>\n",
       "    </tr>\n",
       "    <tr>\n",
       "      <th>3</th>\n",
       "      <td>0</td>\n",
       "      <td>43</td>\n",
       "      <td>0</td>\n",
       "      <td>1.0</td>\n",
       "    </tr>\n",
       "    <tr>\n",
       "      <th>4</th>\n",
       "      <td>0</td>\n",
       "      <td>51</td>\n",
       "      <td>0</td>\n",
       "      <td>2.0</td>\n",
       "    </tr>\n",
       "  </tbody>\n",
       "</table>\n",
       "</div>"
      ],
      "text/plain": [
       "   shop_id  item_id  date_block_num  item_cnt_sum\n",
       "0        0       32               0           6.0\n",
       "1        0       33               0           3.0\n",
       "2        0       35               0           1.0\n",
       "3        0       43               0           1.0\n",
       "4        0       51               0           2.0"
      ]
     },
     "execution_count": 53,
     "metadata": {},
     "output_type": "execute_result"
    }
   ],
   "source": [
    "new_train = cartesian_df.merge(train, on=['date_block_num','shop_id','item_id'], how='left').fillna(0)\n",
    "new_train.head()"
   ]
  },
  {
   "cell_type": "code",
   "execution_count": 54,
   "metadata": {},
   "outputs": [],
   "source": [
    "new_train = new_train.merge(items, on='item_id').merge(shops, on='shop_id').merge(item_categories, on='item_category_id')\n",
    "new_train['city'] = new_train['shop_name'].str.split(' ').map(lambda x : x[0])\n",
    "\n",
    "new_train.sort_values(by=['date_block_num', 'shop_id', 'item_id'], inplace=True)\n",
    "new_train.reset_index(drop=True, inplace=True)"
   ]
  },
  {
   "cell_type": "code",
   "execution_count": 56,
   "metadata": {},
   "outputs": [
    {
     "data": {
      "text/html": [
       "<div>\n",
       "<style scoped>\n",
       "    .dataframe tbody tr th:only-of-type {\n",
       "        vertical-align: middle;\n",
       "    }\n",
       "\n",
       "    .dataframe tbody tr th {\n",
       "        vertical-align: top;\n",
       "    }\n",
       "\n",
       "    .dataframe thead th {\n",
       "        text-align: right;\n",
       "    }\n",
       "</style>\n",
       "<table border=\"1\" class=\"dataframe\">\n",
       "  <thead>\n",
       "    <tr style=\"text-align: right;\">\n",
       "      <th></th>\n",
       "      <th>shop_id</th>\n",
       "      <th>item_id</th>\n",
       "      <th>date_block_num</th>\n",
       "      <th>item_cnt_sum</th>\n",
       "      <th>item_name</th>\n",
       "      <th>item_category_id</th>\n",
       "      <th>shop_name</th>\n",
       "      <th>item_category_name</th>\n",
       "      <th>city</th>\n",
       "    </tr>\n",
       "  </thead>\n",
       "  <tbody>\n",
       "    <tr>\n",
       "      <th>0</th>\n",
       "      <td>0</td>\n",
       "      <td>19</td>\n",
       "      <td>0</td>\n",
       "      <td>0.0</td>\n",
       "      <td>/ЗОЛОТАЯ КОЛЛЕКЦИЯ м/ф-72</td>\n",
       "      <td>40</td>\n",
       "      <td>!Якутск Орджоникидзе, 56 фран</td>\n",
       "      <td>Кино - DVD</td>\n",
       "      <td>!Якутск</td>\n",
       "    </tr>\n",
       "    <tr>\n",
       "      <th>1</th>\n",
       "      <td>0</td>\n",
       "      <td>27</td>\n",
       "      <td>0</td>\n",
       "      <td>0.0</td>\n",
       "      <td>007 Legends [PS3, русская версия]</td>\n",
       "      <td>19</td>\n",
       "      <td>!Якутск Орджоникидзе, 56 фран</td>\n",
       "      <td>Игры - PS3</td>\n",
       "      <td>!Якутск</td>\n",
       "    </tr>\n",
       "    <tr>\n",
       "      <th>2</th>\n",
       "      <td>0</td>\n",
       "      <td>28</td>\n",
       "      <td>0</td>\n",
       "      <td>0.0</td>\n",
       "      <td>007 Legends [PС, Jewel, русская версия]</td>\n",
       "      <td>30</td>\n",
       "      <td>!Якутск Орджоникидзе, 56 фран</td>\n",
       "      <td>Игры PC - Стандартные издания</td>\n",
       "      <td>!Якутск</td>\n",
       "    </tr>\n",
       "    <tr>\n",
       "      <th>3</th>\n",
       "      <td>0</td>\n",
       "      <td>29</td>\n",
       "      <td>0</td>\n",
       "      <td>0.0</td>\n",
       "      <td>007 Legends [Xbox 360, русская версия]</td>\n",
       "      <td>23</td>\n",
       "      <td>!Якутск Орджоникидзе, 56 фран</td>\n",
       "      <td>Игры - XBOX 360</td>\n",
       "      <td>!Якутск</td>\n",
       "    </tr>\n",
       "    <tr>\n",
       "      <th>4</th>\n",
       "      <td>0</td>\n",
       "      <td>32</td>\n",
       "      <td>0</td>\n",
       "      <td>6.0</td>\n",
       "      <td>1+1</td>\n",
       "      <td>40</td>\n",
       "      <td>!Якутск Орджоникидзе, 56 фран</td>\n",
       "      <td>Кино - DVD</td>\n",
       "      <td>!Якутск</td>\n",
       "    </tr>\n",
       "  </tbody>\n",
       "</table>\n",
       "</div>"
      ],
      "text/plain": [
       "   shop_id  item_id  date_block_num  item_cnt_sum  \\\n",
       "0        0       19               0           0.0   \n",
       "1        0       27               0           0.0   \n",
       "2        0       28               0           0.0   \n",
       "3        0       29               0           0.0   \n",
       "4        0       32               0           6.0   \n",
       "\n",
       "                                 item_name  item_category_id  \\\n",
       "0                /ЗОЛОТАЯ КОЛЛЕКЦИЯ м/ф-72                40   \n",
       "1        007 Legends [PS3, русская версия]                19   \n",
       "2  007 Legends [PС, Jewel, русская версия]                30   \n",
       "3   007 Legends [Xbox 360, русская версия]                23   \n",
       "4                                      1+1                40   \n",
       "\n",
       "                       shop_name             item_category_name     city  \n",
       "0  !Якутск Орджоникидзе, 56 фран                     Кино - DVD  !Якутск  \n",
       "1  !Якутск Орджоникидзе, 56 фран                     Игры - PS3  !Якутск  \n",
       "2  !Якутск Орджоникидзе, 56 фран  Игры PC - Стандартные издания  !Якутск  \n",
       "3  !Якутск Орджоникидзе, 56 фран                Игры - XBOX 360  !Якутск  \n",
       "4  !Якутск Орджоникидзе, 56 фран                     Кино - DVD  !Якутск  "
      ]
     },
     "execution_count": 56,
     "metadata": {},
     "output_type": "execute_result"
    }
   ],
   "source": [
    "new_train.head()"
   ]
  },
  {
   "cell_type": "markdown",
   "metadata": {},
   "source": [
    "### Add features: item_id related features <br>\n",
    "- item_id\n",
    "- shop_id\n",
    "- name of the item (?)\n",
    "- last month's sale\n",
    "- last year's sale\n",
    "- whether is on promotion (?)"
   ]
  },
  {
   "cell_type": "code",
   "execution_count": 57,
   "metadata": {},
   "outputs": [],
   "source": [
    "def lag_feature(df, df_shift, lags, on, col):\n",
    "    tmp = df_shift[on + [col]]\n",
    "    for i in lags:\n",
    "        shifted = tmp.copy()\n",
    "        shifted.columns = on + [col+'_lag_'+str(i)]\n",
    "        shifted['date_block_num'] += i\n",
    "        df = df.merge(shifted, on=on, how='left')\n",
    "    return df"
   ]
  },
  {
   "cell_type": "code",
   "execution_count": 58,
   "metadata": {},
   "outputs": [
    {
     "data": {
      "text/html": [
       "<div>\n",
       "<style scoped>\n",
       "    .dataframe tbody tr th:only-of-type {\n",
       "        vertical-align: middle;\n",
       "    }\n",
       "\n",
       "    .dataframe tbody tr th {\n",
       "        vertical-align: top;\n",
       "    }\n",
       "\n",
       "    .dataframe thead th {\n",
       "        text-align: right;\n",
       "    }\n",
       "</style>\n",
       "<table border=\"1\" class=\"dataframe\">\n",
       "  <thead>\n",
       "    <tr style=\"text-align: right;\">\n",
       "      <th></th>\n",
       "      <th>shop_id</th>\n",
       "      <th>item_id</th>\n",
       "      <th>date_block_num</th>\n",
       "      <th>item_cnt_sum</th>\n",
       "      <th>item_name</th>\n",
       "      <th>item_category_id</th>\n",
       "      <th>shop_name</th>\n",
       "      <th>item_category_name</th>\n",
       "      <th>city</th>\n",
       "      <th>item_cnt_sum_lag_1</th>\n",
       "      <th>item_cnt_sum_lag_3</th>\n",
       "      <th>item_cnt_sum_lag_6</th>\n",
       "      <th>item_cnt_sum_lag_12</th>\n",
       "    </tr>\n",
       "  </thead>\n",
       "  <tbody>\n",
       "    <tr>\n",
       "      <th>0</th>\n",
       "      <td>0</td>\n",
       "      <td>19</td>\n",
       "      <td>0</td>\n",
       "      <td>0.0</td>\n",
       "      <td>/ЗОЛОТАЯ КОЛЛЕКЦИЯ м/ф-72</td>\n",
       "      <td>40</td>\n",
       "      <td>!Якутск Орджоникидзе, 56 фран</td>\n",
       "      <td>Кино - DVD</td>\n",
       "      <td>!Якутск</td>\n",
       "      <td>NaN</td>\n",
       "      <td>NaN</td>\n",
       "      <td>NaN</td>\n",
       "      <td>NaN</td>\n",
       "    </tr>\n",
       "    <tr>\n",
       "      <th>1</th>\n",
       "      <td>0</td>\n",
       "      <td>27</td>\n",
       "      <td>0</td>\n",
       "      <td>0.0</td>\n",
       "      <td>007 Legends [PS3, русская версия]</td>\n",
       "      <td>19</td>\n",
       "      <td>!Якутск Орджоникидзе, 56 фран</td>\n",
       "      <td>Игры - PS3</td>\n",
       "      <td>!Якутск</td>\n",
       "      <td>NaN</td>\n",
       "      <td>NaN</td>\n",
       "      <td>NaN</td>\n",
       "      <td>NaN</td>\n",
       "    </tr>\n",
       "  </tbody>\n",
       "</table>\n",
       "</div>"
      ],
      "text/plain": [
       "   shop_id  item_id  date_block_num  item_cnt_sum  \\\n",
       "0        0       19               0           0.0   \n",
       "1        0       27               0           0.0   \n",
       "\n",
       "                           item_name  item_category_id  \\\n",
       "0          /ЗОЛОТАЯ КОЛЛЕКЦИЯ м/ф-72                40   \n",
       "1  007 Legends [PS3, русская версия]                19   \n",
       "\n",
       "                       shop_name item_category_name     city  \\\n",
       "0  !Якутск Орджоникидзе, 56 фран         Кино - DVD  !Якутск   \n",
       "1  !Якутск Орджоникидзе, 56 фран         Игры - PS3  !Якутск   \n",
       "\n",
       "   item_cnt_sum_lag_1  item_cnt_sum_lag_3  item_cnt_sum_lag_6  \\\n",
       "0                 NaN                 NaN                 NaN   \n",
       "1                 NaN                 NaN                 NaN   \n",
       "\n",
       "   item_cnt_sum_lag_12  \n",
       "0                  NaN  \n",
       "1                  NaN  "
      ]
     },
     "execution_count": 58,
     "metadata": {},
     "output_type": "execute_result"
    }
   ],
   "source": [
    "new_train = lag_feature(new_train, new_train, lags=[1, 3, 6, 12], on=['date_block_num','shop_id','item_id'], col='item_cnt_sum')\n",
    "new_train.head(2)"
   ]
  },
  {
   "cell_type": "markdown",
   "metadata": {},
   "source": [
    "### Add features: Categorical related features <br>\n",
    "- item_category_id\n",
    "- last month's sale for the same item_category_id\n",
    "- last year's sale for the same item_category_id"
   ]
  },
  {
   "cell_type": "code",
   "execution_count": 59,
   "metadata": {},
   "outputs": [
    {
     "data": {
      "text/html": [
       "<div>\n",
       "<style scoped>\n",
       "    .dataframe tbody tr th:only-of-type {\n",
       "        vertical-align: middle;\n",
       "    }\n",
       "\n",
       "    .dataframe tbody tr th {\n",
       "        vertical-align: top;\n",
       "    }\n",
       "\n",
       "    .dataframe thead th {\n",
       "        text-align: right;\n",
       "    }\n",
       "</style>\n",
       "<table border=\"1\" class=\"dataframe\">\n",
       "  <thead>\n",
       "    <tr style=\"text-align: right;\">\n",
       "      <th></th>\n",
       "      <th>date_block_num</th>\n",
       "      <th>shop_id</th>\n",
       "      <th>item_category_id</th>\n",
       "      <th>item_cnt_by_cat_sum</th>\n",
       "    </tr>\n",
       "  </thead>\n",
       "  <tbody>\n",
       "    <tr>\n",
       "      <th>0</th>\n",
       "      <td>0</td>\n",
       "      <td>0</td>\n",
       "      <td>2</td>\n",
       "      <td>53.0</td>\n",
       "    </tr>\n",
       "    <tr>\n",
       "      <th>1</th>\n",
       "      <td>0</td>\n",
       "      <td>0</td>\n",
       "      <td>3</td>\n",
       "      <td>28.0</td>\n",
       "    </tr>\n",
       "  </tbody>\n",
       "</table>\n",
       "</div>"
      ],
      "text/plain": [
       "   date_block_num  shop_id  item_category_id  item_cnt_by_cat_sum\n",
       "0               0        0                 2                 53.0\n",
       "1               0        0                 3                 28.0"
      ]
     },
     "execution_count": 59,
     "metadata": {},
     "output_type": "execute_result"
    }
   ],
   "source": [
    "df = train_master.groupby(['date_block_num', 'shop_id', 'item_category_id']).agg({'item_cnt_day':['sum']})\n",
    "df.columns = ['item_cnt_by_cat_sum']\n",
    "df.reset_index(inplace=True)\n",
    "df.head(2)"
   ]
  },
  {
   "cell_type": "code",
   "execution_count": 60,
   "metadata": {},
   "outputs": [
    {
     "data": {
      "text/html": [
       "<div>\n",
       "<style scoped>\n",
       "    .dataframe tbody tr th:only-of-type {\n",
       "        vertical-align: middle;\n",
       "    }\n",
       "\n",
       "    .dataframe tbody tr th {\n",
       "        vertical-align: top;\n",
       "    }\n",
       "\n",
       "    .dataframe thead th {\n",
       "        text-align: right;\n",
       "    }\n",
       "</style>\n",
       "<table border=\"1\" class=\"dataframe\">\n",
       "  <thead>\n",
       "    <tr style=\"text-align: right;\">\n",
       "      <th></th>\n",
       "      <th>shop_id</th>\n",
       "      <th>item_id</th>\n",
       "      <th>date_block_num</th>\n",
       "      <th>item_cnt_sum</th>\n",
       "      <th>item_name</th>\n",
       "      <th>item_category_id</th>\n",
       "      <th>shop_name</th>\n",
       "      <th>item_category_name</th>\n",
       "      <th>city</th>\n",
       "      <th>item_cnt_sum_lag_1</th>\n",
       "      <th>item_cnt_sum_lag_3</th>\n",
       "      <th>item_cnt_sum_lag_6</th>\n",
       "      <th>item_cnt_sum_lag_12</th>\n",
       "      <th>item_cnt_by_cat_sum_lag_1</th>\n",
       "      <th>item_cnt_by_cat_sum_lag_3</th>\n",
       "      <th>item_cnt_by_cat_sum_lag_6</th>\n",
       "      <th>item_cnt_by_cat_sum_lag_12</th>\n",
       "    </tr>\n",
       "  </thead>\n",
       "  <tbody>\n",
       "    <tr>\n",
       "      <th>0</th>\n",
       "      <td>0</td>\n",
       "      <td>19</td>\n",
       "      <td>0</td>\n",
       "      <td>0.0</td>\n",
       "      <td>/ЗОЛОТАЯ КОЛЛЕКЦИЯ м/ф-72</td>\n",
       "      <td>40</td>\n",
       "      <td>!Якутск Орджоникидзе, 56 фран</td>\n",
       "      <td>Кино - DVD</td>\n",
       "      <td>!Якутск</td>\n",
       "      <td>NaN</td>\n",
       "      <td>NaN</td>\n",
       "      <td>NaN</td>\n",
       "      <td>NaN</td>\n",
       "      <td>NaN</td>\n",
       "      <td>NaN</td>\n",
       "      <td>NaN</td>\n",
       "      <td>NaN</td>\n",
       "    </tr>\n",
       "    <tr>\n",
       "      <th>1</th>\n",
       "      <td>0</td>\n",
       "      <td>27</td>\n",
       "      <td>0</td>\n",
       "      <td>0.0</td>\n",
       "      <td>007 Legends [PS3, русская версия]</td>\n",
       "      <td>19</td>\n",
       "      <td>!Якутск Орджоникидзе, 56 фран</td>\n",
       "      <td>Игры - PS3</td>\n",
       "      <td>!Якутск</td>\n",
       "      <td>NaN</td>\n",
       "      <td>NaN</td>\n",
       "      <td>NaN</td>\n",
       "      <td>NaN</td>\n",
       "      <td>NaN</td>\n",
       "      <td>NaN</td>\n",
       "      <td>NaN</td>\n",
       "      <td>NaN</td>\n",
       "    </tr>\n",
       "  </tbody>\n",
       "</table>\n",
       "</div>"
      ],
      "text/plain": [
       "   shop_id  item_id  date_block_num  item_cnt_sum  \\\n",
       "0        0       19               0           0.0   \n",
       "1        0       27               0           0.0   \n",
       "\n",
       "                           item_name  item_category_id  \\\n",
       "0          /ЗОЛОТАЯ КОЛЛЕКЦИЯ м/ф-72                40   \n",
       "1  007 Legends [PS3, русская версия]                19   \n",
       "\n",
       "                       shop_name item_category_name     city  \\\n",
       "0  !Якутск Орджоникидзе, 56 фран         Кино - DVD  !Якутск   \n",
       "1  !Якутск Орджоникидзе, 56 фран         Игры - PS3  !Якутск   \n",
       "\n",
       "   item_cnt_sum_lag_1  item_cnt_sum_lag_3  item_cnt_sum_lag_6  \\\n",
       "0                 NaN                 NaN                 NaN   \n",
       "1                 NaN                 NaN                 NaN   \n",
       "\n",
       "   item_cnt_sum_lag_12  item_cnt_by_cat_sum_lag_1  item_cnt_by_cat_sum_lag_3  \\\n",
       "0                  NaN                        NaN                        NaN   \n",
       "1                  NaN                        NaN                        NaN   \n",
       "\n",
       "   item_cnt_by_cat_sum_lag_6  item_cnt_by_cat_sum_lag_12  \n",
       "0                        NaN                         NaN  \n",
       "1                        NaN                         NaN  "
      ]
     },
     "execution_count": 60,
     "metadata": {},
     "output_type": "execute_result"
    }
   ],
   "source": [
    "new_train = lag_feature(new_train, df, lags=[1,3,6,12], on=['date_block_num','shop_id','item_category_id'], col='item_cnt_by_cat_sum')\n",
    "new_train.head(2)"
   ]
  },
  {
   "cell_type": "markdown",
   "metadata": {},
   "source": [
    "### Add features: month and city label"
   ]
  },
  {
   "cell_type": "markdown",
   "metadata": {},
   "source": [
    "Add a month feature"
   ]
  },
  {
   "cell_type": "code",
   "execution_count": 61,
   "metadata": {},
   "outputs": [],
   "source": [
    "new_train['month'] = new_train['date_block_num'] % 12"
   ]
  },
  {
   "cell_type": "markdown",
   "metadata": {},
   "source": [
    "Label encode the categorical variables"
   ]
  },
  {
   "cell_type": "code",
   "execution_count": 62,
   "metadata": {},
   "outputs": [],
   "source": [
    "from sklearn import preprocessing"
   ]
  },
  {
   "cell_type": "code",
   "execution_count": 63,
   "metadata": {},
   "outputs": [
    {
     "data": {
      "text/html": [
       "<div>\n",
       "<style scoped>\n",
       "    .dataframe tbody tr th:only-of-type {\n",
       "        vertical-align: middle;\n",
       "    }\n",
       "\n",
       "    .dataframe tbody tr th {\n",
       "        vertical-align: top;\n",
       "    }\n",
       "\n",
       "    .dataframe thead th {\n",
       "        text-align: right;\n",
       "    }\n",
       "</style>\n",
       "<table border=\"1\" class=\"dataframe\">\n",
       "  <thead>\n",
       "    <tr style=\"text-align: right;\">\n",
       "      <th></th>\n",
       "      <th>shop_id</th>\n",
       "      <th>item_id</th>\n",
       "      <th>date_block_num</th>\n",
       "      <th>item_cnt_sum</th>\n",
       "      <th>item_name</th>\n",
       "      <th>item_category_id</th>\n",
       "      <th>item_category_name</th>\n",
       "      <th>item_cnt_sum_lag_1</th>\n",
       "      <th>item_cnt_sum_lag_3</th>\n",
       "      <th>item_cnt_sum_lag_6</th>\n",
       "      <th>item_cnt_sum_lag_12</th>\n",
       "      <th>item_cnt_by_cat_sum_lag_1</th>\n",
       "      <th>item_cnt_by_cat_sum_lag_3</th>\n",
       "      <th>item_cnt_by_cat_sum_lag_6</th>\n",
       "      <th>item_cnt_by_cat_sum_lag_12</th>\n",
       "      <th>month</th>\n",
       "      <th>city_label</th>\n",
       "    </tr>\n",
       "  </thead>\n",
       "  <tbody>\n",
       "    <tr>\n",
       "      <th>0</th>\n",
       "      <td>0</td>\n",
       "      <td>19</td>\n",
       "      <td>0</td>\n",
       "      <td>0.0</td>\n",
       "      <td>/ЗОЛОТАЯ КОЛЛЕКЦИЯ м/ф-72</td>\n",
       "      <td>40</td>\n",
       "      <td>Кино - DVD</td>\n",
       "      <td>NaN</td>\n",
       "      <td>NaN</td>\n",
       "      <td>NaN</td>\n",
       "      <td>NaN</td>\n",
       "      <td>NaN</td>\n",
       "      <td>NaN</td>\n",
       "      <td>NaN</td>\n",
       "      <td>NaN</td>\n",
       "      <td>0</td>\n",
       "      <td>0</td>\n",
       "    </tr>\n",
       "    <tr>\n",
       "      <th>1</th>\n",
       "      <td>0</td>\n",
       "      <td>27</td>\n",
       "      <td>0</td>\n",
       "      <td>0.0</td>\n",
       "      <td>007 Legends [PS3, русская версия]</td>\n",
       "      <td>19</td>\n",
       "      <td>Игры - PS3</td>\n",
       "      <td>NaN</td>\n",
       "      <td>NaN</td>\n",
       "      <td>NaN</td>\n",
       "      <td>NaN</td>\n",
       "      <td>NaN</td>\n",
       "      <td>NaN</td>\n",
       "      <td>NaN</td>\n",
       "      <td>NaN</td>\n",
       "      <td>0</td>\n",
       "      <td>0</td>\n",
       "    </tr>\n",
       "  </tbody>\n",
       "</table>\n",
       "</div>"
      ],
      "text/plain": [
       "   shop_id  item_id  date_block_num  item_cnt_sum  \\\n",
       "0        0       19               0           0.0   \n",
       "1        0       27               0           0.0   \n",
       "\n",
       "                           item_name  item_category_id item_category_name  \\\n",
       "0          /ЗОЛОТАЯ КОЛЛЕКЦИЯ м/ф-72                40         Кино - DVD   \n",
       "1  007 Legends [PS3, русская версия]                19         Игры - PS3   \n",
       "\n",
       "   item_cnt_sum_lag_1  item_cnt_sum_lag_3  item_cnt_sum_lag_6  \\\n",
       "0                 NaN                 NaN                 NaN   \n",
       "1                 NaN                 NaN                 NaN   \n",
       "\n",
       "   item_cnt_sum_lag_12  item_cnt_by_cat_sum_lag_1  item_cnt_by_cat_sum_lag_3  \\\n",
       "0                  NaN                        NaN                        NaN   \n",
       "1                  NaN                        NaN                        NaN   \n",
       "\n",
       "   item_cnt_by_cat_sum_lag_6  item_cnt_by_cat_sum_lag_12  month  city_label  \n",
       "0                        NaN                         NaN      0           0  \n",
       "1                        NaN                         NaN      0           0  "
      ]
     },
     "execution_count": 63,
     "metadata": {},
     "output_type": "execute_result"
    }
   ],
   "source": [
    "le = preprocessing.LabelEncoder()\n",
    "new_train['city_label'] = le.fit_transform(new_train['city'])\n",
    "new_train.drop(['shop_name', 'city'], axis = 1, inplace=True)\n",
    "new_train.head(2)"
   ]
  },
  {
   "cell_type": "code",
   "execution_count": 64,
   "metadata": {},
   "outputs": [],
   "source": [
    "new_train.to_pickle('train.pkl')"
   ]
  },
  {
   "cell_type": "markdown",
   "metadata": {},
   "source": [
    "## Build an XGBoost Model"
   ]
  },
  {
   "cell_type": "markdown",
   "metadata": {},
   "source": [
    "Training set and evaluation set split: <br>\n",
    "- training set: date_block_num in range(12, 33)\n",
    "- validation set: date_block_num == 33"
   ]
  },
  {
   "cell_type": "code",
   "execution_count": 65,
   "metadata": {},
   "outputs": [],
   "source": [
    "x_train = new_train[(new_train.date_block_num >= 12) & (new_train.date_block_num <= 32)]\n",
    "x_val = new_train[new_train.date_block_num == 33]"
   ]
  },
  {
   "cell_type": "code",
   "execution_count": 66,
   "metadata": {},
   "outputs": [],
   "source": [
    "y_train = x_train[['item_cnt_sum']]\n",
    "y_val = x_val[['item_cnt_sum']]\n",
    "x_train = x_train.drop(columns=['item_name', 'item_category_name', 'item_cnt_sum'])\n",
    "x_val = x_val.drop(columns=['item_name', 'item_category_name', 'item_cnt_sum'])"
   ]
  },
  {
   "cell_type": "markdown",
   "metadata": {},
   "source": [
    "Check NaN values. They are essentially zero values (no lag sales record), so let's fill them with zeros"
   ]
  },
  {
   "cell_type": "code",
   "execution_count": 67,
   "metadata": {
    "scrolled": true
   },
   "outputs": [
    {
     "data": {
      "text/plain": [
       "shop_id                             0\n",
       "item_id                             0\n",
       "date_block_num                      0\n",
       "item_category_id                    0\n",
       "item_cnt_sum_lag_1            1288325\n",
       "item_cnt_sum_lag_3            1658858\n",
       "item_cnt_sum_lag_6            2201695\n",
       "item_cnt_sum_lag_12           3280022\n",
       "item_cnt_by_cat_sum_lag_1     1041911\n",
       "item_cnt_by_cat_sum_lag_3     1107928\n",
       "item_cnt_by_cat_sum_lag_6     1214648\n",
       "item_cnt_by_cat_sum_lag_12    1472286\n",
       "month                               0\n",
       "city_label                          0\n",
       "dtype: int64"
      ]
     },
     "execution_count": 67,
     "metadata": {},
     "output_type": "execute_result"
    }
   ],
   "source": [
    "x_train.isna().sum()"
   ]
  },
  {
   "cell_type": "code",
   "execution_count": 36,
   "metadata": {},
   "outputs": [
    {
     "data": {
      "text/plain": [
       "shop_id                            0\n",
       "item_id                            0\n",
       "date_block_num                     0\n",
       "item_category_id                   0\n",
       "item_cnt_sum_lag_1             72491\n",
       "item_cnt_sum_lag_3             85775\n",
       "item_cnt_sum_lag_6             98690\n",
       "item_cnt_sum_lag_12           125555\n",
       "item_cnt_by_cat_sum_lag_1      56776\n",
       "item_cnt_by_cat_sum_lag_3      56868\n",
       "item_cnt_by_cat_sum_lag_6      59495\n",
       "item_cnt_by_cat_sum_lag_12     58665\n",
       "month                              0\n",
       "city_label                         0\n",
       "dtype: int64"
      ]
     },
     "execution_count": 36,
     "metadata": {},
     "output_type": "execute_result"
    }
   ],
   "source": [
    "x_val.isna().sum()"
   ]
  },
  {
   "cell_type": "code",
   "execution_count": 68,
   "metadata": {},
   "outputs": [
    {
     "data": {
      "text/plain": [
       "item_cnt_sum    0\n",
       "dtype: int64"
      ]
     },
     "execution_count": 68,
     "metadata": {},
     "output_type": "execute_result"
    }
   ],
   "source": [
    "y_train.isna().sum()"
   ]
  },
  {
   "cell_type": "code",
   "execution_count": 69,
   "metadata": {},
   "outputs": [
    {
     "data": {
      "text/plain": [
       "item_cnt_sum    0\n",
       "dtype: int64"
      ]
     },
     "execution_count": 69,
     "metadata": {},
     "output_type": "execute_result"
    }
   ],
   "source": [
    "y_val.isna().sum()"
   ]
  },
  {
   "cell_type": "code",
   "execution_count": 70,
   "metadata": {},
   "outputs": [],
   "source": [
    "x_train = x_train.fillna(0.0)"
   ]
  },
  {
   "cell_type": "code",
   "execution_count": 71,
   "metadata": {},
   "outputs": [],
   "source": [
    "x_val = x_val.fillna(0.0)"
   ]
  },
  {
   "cell_type": "markdown",
   "metadata": {},
   "source": [
    "Let's try an XGBoost model!"
   ]
  },
  {
   "cell_type": "code",
   "execution_count": 72,
   "metadata": {},
   "outputs": [],
   "source": [
    "from xgboost import XGBRegressor\n",
    "from xgboost import plot_importance"
   ]
  },
  {
   "cell_type": "code",
   "execution_count": 73,
   "metadata": {},
   "outputs": [
    {
     "name": "stdout",
     "output_type": "stream",
     "text": [
      "[22:45:23] Tree method is automatically selected to be 'approx' for faster speed. to use old behavior(exact greedy algorithm on single machine), set tree_method to 'exact'\n",
      "[0]\tvalidation_0-rmse:1.158\tvalidation_1-rmse:1.1242\n",
      "Multiple eval metrics have been passed: 'validation_1-rmse' will be used for early stopping.\n",
      "\n",
      "Will train until validation_1-rmse hasn't improved in 10 rounds.\n",
      "[1]\tvalidation_0-rmse:1.13344\tvalidation_1-rmse:1.10225\n",
      "[2]\tvalidation_0-rmse:1.11048\tvalidation_1-rmse:1.08166\n",
      "[3]\tvalidation_0-rmse:1.07535\tvalidation_1-rmse:1.0552\n",
      "[4]\tvalidation_0-rmse:1.0641\tvalidation_1-rmse:1.04422\n",
      "[5]\tvalidation_0-rmse:1.05077\tvalidation_1-rmse:1.03355\n",
      "[6]\tvalidation_0-rmse:1.03638\tvalidation_1-rmse:1.0235\n",
      "[7]\tvalidation_0-rmse:1.02686\tvalidation_1-rmse:1.01559\n",
      "[8]\tvalidation_0-rmse:1.01907\tvalidation_1-rmse:1.00883\n",
      "[9]\tvalidation_0-rmse:1.01245\tvalidation_1-rmse:1.00344\n",
      "[10]\tvalidation_0-rmse:0.992749\tvalidation_1-rmse:0.990359\n",
      "[11]\tvalidation_0-rmse:0.976362\tvalidation_1-rmse:0.980562\n",
      "[12]\tvalidation_0-rmse:0.969509\tvalidation_1-rmse:0.975965\n",
      "[13]\tvalidation_0-rmse:0.955972\tvalidation_1-rmse:0.967313\n",
      "[14]\tvalidation_0-rmse:0.951792\tvalidation_1-rmse:0.964961\n",
      "[15]\tvalidation_0-rmse:0.949021\tvalidation_1-rmse:0.962336\n",
      "[16]\tvalidation_0-rmse:0.939675\tvalidation_1-rmse:0.956967\n",
      "[17]\tvalidation_0-rmse:0.931876\tvalidation_1-rmse:0.952838\n",
      "[18]\tvalidation_0-rmse:0.925385\tvalidation_1-rmse:0.949829\n",
      "[19]\tvalidation_0-rmse:0.919221\tvalidation_1-rmse:0.946441\n",
      "[20]\tvalidation_0-rmse:0.914743\tvalidation_1-rmse:0.944274\n",
      "[21]\tvalidation_0-rmse:0.91076\tvalidation_1-rmse:0.942236\n",
      "[22]\tvalidation_0-rmse:0.907494\tvalidation_1-rmse:0.940891\n",
      "[23]\tvalidation_0-rmse:0.90495\tvalidation_1-rmse:0.940092\n",
      "[24]\tvalidation_0-rmse:0.902021\tvalidation_1-rmse:0.938965\n",
      "[25]\tvalidation_0-rmse:0.901017\tvalidation_1-rmse:0.938049\n",
      "[26]\tvalidation_0-rmse:0.899065\tvalidation_1-rmse:0.937415\n",
      "[27]\tvalidation_0-rmse:0.897902\tvalidation_1-rmse:0.936588\n",
      "[28]\tvalidation_0-rmse:0.896553\tvalidation_1-rmse:0.936192\n",
      "[29]\tvalidation_0-rmse:0.894987\tvalidation_1-rmse:0.93572\n",
      "[30]\tvalidation_0-rmse:0.893361\tvalidation_1-rmse:0.934869\n",
      "[31]\tvalidation_0-rmse:0.891574\tvalidation_1-rmse:0.934627\n",
      "[32]\tvalidation_0-rmse:0.890351\tvalidation_1-rmse:0.934743\n",
      "[33]\tvalidation_0-rmse:0.889201\tvalidation_1-rmse:0.934226\n",
      "[34]\tvalidation_0-rmse:0.888037\tvalidation_1-rmse:0.934005\n",
      "[35]\tvalidation_0-rmse:0.887625\tvalidation_1-rmse:0.933867\n",
      "[36]\tvalidation_0-rmse:0.886592\tvalidation_1-rmse:0.933518\n",
      "[37]\tvalidation_0-rmse:0.886223\tvalidation_1-rmse:0.93292\n",
      "[38]\tvalidation_0-rmse:0.885946\tvalidation_1-rmse:0.932748\n",
      "[39]\tvalidation_0-rmse:0.885402\tvalidation_1-rmse:0.932885\n",
      "[40]\tvalidation_0-rmse:0.884854\tvalidation_1-rmse:0.932643\n",
      "[41]\tvalidation_0-rmse:0.884436\tvalidation_1-rmse:0.932741\n",
      "[42]\tvalidation_0-rmse:0.883712\tvalidation_1-rmse:0.932611\n",
      "[43]\tvalidation_0-rmse:0.883232\tvalidation_1-rmse:0.932758\n",
      "[44]\tvalidation_0-rmse:0.882912\tvalidation_1-rmse:0.93288\n",
      "[45]\tvalidation_0-rmse:0.88217\tvalidation_1-rmse:0.932845\n",
      "[46]\tvalidation_0-rmse:0.881581\tvalidation_1-rmse:0.932757\n",
      "[47]\tvalidation_0-rmse:0.880868\tvalidation_1-rmse:0.932588\n",
      "[48]\tvalidation_0-rmse:0.880714\tvalidation_1-rmse:0.932436\n",
      "[49]\tvalidation_0-rmse:0.88035\tvalidation_1-rmse:0.932186\n",
      "[50]\tvalidation_0-rmse:0.879822\tvalidation_1-rmse:0.932178\n",
      "[51]\tvalidation_0-rmse:0.878493\tvalidation_1-rmse:0.932594\n",
      "[52]\tvalidation_0-rmse:0.878178\tvalidation_1-rmse:0.932663\n",
      "[53]\tvalidation_0-rmse:0.877743\tvalidation_1-rmse:0.932567\n",
      "[54]\tvalidation_0-rmse:0.877397\tvalidation_1-rmse:0.932598\n",
      "[55]\tvalidation_0-rmse:0.877156\tvalidation_1-rmse:0.932478\n",
      "[56]\tvalidation_0-rmse:0.876771\tvalidation_1-rmse:0.932606\n",
      "[57]\tvalidation_0-rmse:0.87641\tvalidation_1-rmse:0.932395\n",
      "[58]\tvalidation_0-rmse:0.87597\tvalidation_1-rmse:0.932222\n",
      "[59]\tvalidation_0-rmse:0.875789\tvalidation_1-rmse:0.932252\n",
      "[60]\tvalidation_0-rmse:0.874945\tvalidation_1-rmse:0.93231\n",
      "Stopping. Best iteration:\n",
      "[50]\tvalidation_0-rmse:0.879822\tvalidation_1-rmse:0.932178\n",
      "\n"
     ]
    },
    {
     "data": {
      "text/plain": [
       "XGBRegressor(base_score=0.5, booster='gbtree', colsample_bylevel=1,\n",
       "       colsample_bytree=0.5, gamma=0, learning_rate=0.1, max_delta_step=0,\n",
       "       max_depth=10, min_child_weight=300, missing=None, n_estimators=1000,\n",
       "       n_jobs=1, nthread=None, objective='reg:linear', random_state=0,\n",
       "       reg_alpha=0, reg_lambda=1, scale_pos_weight=1, seed=None,\n",
       "       silent=True, subsample=0.5)"
      ]
     },
     "execution_count": 73,
     "metadata": {},
     "output_type": "execute_result"
    }
   ],
   "source": [
    "model = XGBRegressor(\n",
    "    n_estimators=1000,\n",
    "    max_depth=10,\n",
    "    min_child_weight=300, \n",
    "    colsample_bytree=0.5, \n",
    "    subsample=0.5)\n",
    "    #eta=0.3,    \n",
    "    #seed=42)\n",
    "\n",
    "model.fit(\n",
    "    x_train, \n",
    "    y_train, \n",
    "    eval_metric=\"rmse\", \n",
    "    eval_set=[(x_train, y_train), (x_val, y_val)], \n",
    "    verbose=True, \n",
    "    early_stopping_rounds = 10)"
   ]
  },
  {
   "cell_type": "code",
   "execution_count": 75,
   "metadata": {},
   "outputs": [
    {
     "data": {
      "text/plain": [
       "<matplotlib.axes._subplots.AxesSubplot at 0x1d1932ec278>"
      ]
     },
     "execution_count": 75,
     "metadata": {},
     "output_type": "execute_result"
    },
    {
     "data": {
      "image/png": "[encoded data removed]",
      "text/plain": [
       "<Figure size 720x720 with 1 Axes>"
      ]
     },
     "metadata": {},
     "output_type": "display_data"
    }
   ],
   "source": [
    "fig, ax = plt.subplots(1, 1, figsize=(10,10))\n",
    "plot_importance(booster=model, ax=ax)"
   ]
  },
  {
   "cell_type": "code",
   "execution_count": 77,
   "metadata": {},
   "outputs": [],
   "source": [
    "import pickle\n",
    "\n",
    "pickle.dump(model, open('model.Jun17.dat','wb'))"
   ]
  },
  {
   "cell_type": "code",
   "execution_count": null,
   "metadata": {},
   "outputs": [],
   "source": []
  }
 ],
 "metadata": {
  "kernelspec": {
   "display_name": "Python 3",
   "language": "python",
   "name": "python3"
  },
  "language_info": {
   "codemirror_mode": {
    "name": "ipython",
    "version": 3
   },
   "file_extension": ".py",
   "mimetype": "text/x-python",
   "name": "python",
   "nbconvert_exporter": "python",
   "pygments_lexer": "ipython3",
   "version": "3.6.5"
  }
 },
 "nbformat": 4,
 "nbformat_minor": 2
}
