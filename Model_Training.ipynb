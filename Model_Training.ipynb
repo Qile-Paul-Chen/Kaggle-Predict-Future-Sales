{
 "cells": [
  {
   "cell_type": "code",
   "execution_count": 2,
   "metadata": {},
   "outputs": [],
   "source": [
    "import numpy as np\n",
    "import pandas as pd\n",
    "import matplotlib.pyplot as plt\n",
    "import sklearn\n",
    "import seaborn as sns\n",
    "import os"
   ]
  },
  {
   "cell_type": "markdown",
   "metadata": {},
   "source": [
    "Read input data"
   ]
  },
  {
   "cell_type": "code",
   "execution_count": 3,
   "metadata": {},
   "outputs": [],
   "source": [
    "shops = pd.read_csv(\"data/shops.csv\")\n",
    "item_categories = pd.read_csv(\"data/item_categories.csv\")\n",
    "sales_train = pd.read_csv(\"data/sales_train.csv\")\n",
    "items = pd.read_csv(\"data/items.csv\")\n",
    "\n",
    "test = pd.read_csv(\"data/test.csv\")\n",
    "sample_submission = pd.read_csv(\"data/sample_submission.csv\")"
   ]
  },
  {
   "cell_type": "code",
   "execution_count": 4,
   "metadata": {},
   "outputs": [
    {
     "data": {
      "text/html": [
       "<div>\n",
       "<style scoped>\n",
       "    .dataframe tbody tr th:only-of-type {\n",
       "        vertical-align: middle;\n",
       "    }\n",
       "\n",
       "    .dataframe tbody tr th {\n",
       "        vertical-align: top;\n",
       "    }\n",
       "\n",
       "    .dataframe thead th {\n",
       "        text-align: right;\n",
       "    }\n",
       "</style>\n",
       "<table border=\"1\" class=\"dataframe\">\n",
       "  <thead>\n",
       "    <tr style=\"text-align: right;\">\n",
       "      <th></th>\n",
       "      <th>date</th>\n",
       "      <th>date_block_num</th>\n",
       "      <th>shop_id</th>\n",
       "      <th>item_id</th>\n",
       "      <th>item_price</th>\n",
       "      <th>item_cnt_day</th>\n",
       "      <th>item_name</th>\n",
       "      <th>item_category_id</th>\n",
       "      <th>shop_name</th>\n",
       "      <th>item_category_name</th>\n",
       "      <th>city</th>\n",
       "    </tr>\n",
       "  </thead>\n",
       "  <tbody>\n",
       "    <tr>\n",
       "      <th>0</th>\n",
       "      <td>02.01.2013</td>\n",
       "      <td>0</td>\n",
       "      <td>59</td>\n",
       "      <td>22154</td>\n",
       "      <td>999.0</td>\n",
       "      <td>1.0</td>\n",
       "      <td>ЯВЛЕНИЕ 2012 (BD)</td>\n",
       "      <td>37</td>\n",
       "      <td>Ярославль ТЦ \"Альтаир\"</td>\n",
       "      <td>Кино - Blu-Ray</td>\n",
       "      <td>Ярославль</td>\n",
       "    </tr>\n",
       "    <tr>\n",
       "      <th>1</th>\n",
       "      <td>26.04.2013</td>\n",
       "      <td>3</td>\n",
       "      <td>59</td>\n",
       "      <td>944</td>\n",
       "      <td>150.0</td>\n",
       "      <td>1.0</td>\n",
       "      <td>2012 (BD)</td>\n",
       "      <td>37</td>\n",
       "      <td>Ярославль ТЦ \"Альтаир\"</td>\n",
       "      <td>Кино - Blu-Ray</td>\n",
       "      <td>Ярославль</td>\n",
       "    </tr>\n",
       "  </tbody>\n",
       "</table>\n",
       "</div>"
      ],
      "text/plain": [
       "         date  date_block_num  shop_id  item_id  item_price  item_cnt_day  \\\n",
       "0  02.01.2013               0       59    22154       999.0           1.0   \n",
       "1  26.04.2013               3       59      944       150.0           1.0   \n",
       "\n",
       "           item_name  item_category_id               shop_name  \\\n",
       "0  ЯВЛЕНИЕ 2012 (BD)                37  Ярославль ТЦ \"Альтаир\"   \n",
       "1          2012 (BD)                37  Ярославль ТЦ \"Альтаир\"   \n",
       "\n",
       "  item_category_name       city  \n",
       "0     Кино - Blu-Ray  Ярославль  \n",
       "1     Кино - Blu-Ray  Ярославль  "
      ]
     },
     "execution_count": 4,
     "metadata": {},
     "output_type": "execute_result"
    }
   ],
   "source": [
    "train_master = sales_train.merge(items, on='item_id').merge(shops, on='shop_id').merge(item_categories, on='item_category_id')\n",
    "train_master['city'] = train_master['shop_name'].str.split(' ').map(lambda x : x[0])\n",
    "train_master.head(2)"
   ]
  },
  {
   "cell_type": "markdown",
   "metadata": {},
   "source": [
    "## Feature Engineering"
   ]
  },
  {
   "cell_type": "code",
   "execution_count": 5,
   "metadata": {},
   "outputs": [],
   "source": [
    "# Aggregate the sales by month\n",
    "train = sales_train.groupby(['date_block_num', 'shop_id', 'item_id']).agg({'item_cnt_day': ['sum']})\n",
    "train.columns = ['item_cnt_sum']\n",
    "train.reset_index(inplace=True)      "
   ]
  },
  {
   "cell_type": "markdown",
   "metadata": {},
   "source": [
    "Notice that we do not have all the (date_block_num, shop_id, item_id) pairs, if the sales = 0. Therefore, we need to fill in the missing pairs."
   ]
  },
  {
   "cell_type": "code",
   "execution_count": 6,
   "metadata": {},
   "outputs": [],
   "source": [
    "from tqdm import tqdm_notebook\n",
    "from itertools import product\n",
    "\n",
    "def downcast_dtypes(df):\n",
    "    '''\n",
    "        Changes column types in the dataframe: \n",
    "                \n",
    "                `float64` type to `float32`\n",
    "                `int64`   type to `int32`\n",
    "    '''\n",
    "    \n",
    "    # Select columns to downcast\n",
    "    float_cols = [c for c in df if df[c].dtype == \"float64\"]\n",
    "    int_cols =   [c for c in df if df[c].dtype == \"int64\"]\n",
    "    \n",
    "    # Downcast\n",
    "    df[float_cols] = df[float_cols].astype(np.float16)\n",
    "    df[int_cols]   = df[int_cols].astype(np.int16)\n",
    "    \n",
    "    return df"
   ]
  },
  {
   "cell_type": "code",
   "execution_count": 7,
   "metadata": {},
   "outputs": [],
   "source": [
    "months = train['date_block_num'].unique()"
   ]
  },
  {
   "cell_type": "code",
   "execution_count": 8,
   "metadata": {},
   "outputs": [
    {
     "name": "stdout",
     "output_type": "stream",
     "text": [
      "(10913850, 3)\n"
     ]
    }
   ],
   "source": [
    "cartesian = []\n",
    "for month in months:\n",
    "    shops_in_month = train.loc[train['date_block_num']==month, 'shop_id'].unique()\n",
    "    items_in_month = train.loc[train['date_block_num']==month, 'item_id'].unique()\n",
    "    cartesian.append(np.array(list(product(*[shops_in_month, items_in_month, [month]])), dtype='int32'))\n",
    "    \n",
    "cartesian_df = pd.DataFrame(np.vstack(cartesian), columns = ['shop_id', 'item_id', 'date_block_num'], dtype=np.int32)\n",
    "print(cartesian_df.shape)"
   ]
  },
  {
   "cell_type": "markdown",
   "metadata": {},
   "source": [
    "The generated cartesian_df dataframe will contain all the unique (shop_id, item_id, date_block_num) pairs"
   ]
  },
  {
   "cell_type": "markdown",
   "metadata": {},
   "source": [
    "We merge it back to the train dataframe and fill NaN with zeros to include zeros in the sales record"
   ]
  },
  {
   "cell_type": "code",
   "execution_count": 9,
   "metadata": {},
   "outputs": [
    {
     "data": {
      "text/html": [
       "<div>\n",
       "<style scoped>\n",
       "    .dataframe tbody tr th:only-of-type {\n",
       "        vertical-align: middle;\n",
       "    }\n",
       "\n",
       "    .dataframe tbody tr th {\n",
       "        vertical-align: top;\n",
       "    }\n",
       "\n",
       "    .dataframe thead th {\n",
       "        text-align: right;\n",
       "    }\n",
       "</style>\n",
       "<table border=\"1\" class=\"dataframe\">\n",
       "  <thead>\n",
       "    <tr style=\"text-align: right;\">\n",
       "      <th></th>\n",
       "      <th>shop_id</th>\n",
       "      <th>item_id</th>\n",
       "      <th>date_block_num</th>\n",
       "      <th>item_cnt_sum</th>\n",
       "    </tr>\n",
       "  </thead>\n",
       "  <tbody>\n",
       "    <tr>\n",
       "      <th>0</th>\n",
       "      <td>0</td>\n",
       "      <td>32</td>\n",
       "      <td>0</td>\n",
       "      <td>6.0</td>\n",
       "    </tr>\n",
       "    <tr>\n",
       "      <th>1</th>\n",
       "      <td>0</td>\n",
       "      <td>33</td>\n",
       "      <td>0</td>\n",
       "      <td>3.0</td>\n",
       "    </tr>\n",
       "    <tr>\n",
       "      <th>2</th>\n",
       "      <td>0</td>\n",
       "      <td>35</td>\n",
       "      <td>0</td>\n",
       "      <td>1.0</td>\n",
       "    </tr>\n",
       "    <tr>\n",
       "      <th>3</th>\n",
       "      <td>0</td>\n",
       "      <td>43</td>\n",
       "      <td>0</td>\n",
       "      <td>1.0</td>\n",
       "    </tr>\n",
       "    <tr>\n",
       "      <th>4</th>\n",
       "      <td>0</td>\n",
       "      <td>51</td>\n",
       "      <td>0</td>\n",
       "      <td>2.0</td>\n",
       "    </tr>\n",
       "  </tbody>\n",
       "</table>\n",
       "</div>"
      ],
      "text/plain": [
       "   shop_id  item_id  date_block_num  item_cnt_sum\n",
       "0        0       32               0           6.0\n",
       "1        0       33               0           3.0\n",
       "2        0       35               0           1.0\n",
       "3        0       43               0           1.0\n",
       "4        0       51               0           2.0"
      ]
     },
     "execution_count": 9,
     "metadata": {},
     "output_type": "execute_result"
    }
   ],
   "source": [
    "new_train = cartesian_df.merge(train, on=['date_block_num','shop_id','item_id'], how='left').fillna(0)\n",
    "new_train.head()"
   ]
  },
  {
   "cell_type": "code",
   "execution_count": 10,
   "metadata": {},
   "outputs": [],
   "source": [
    "new_train = new_train.merge(items, on='item_id').merge(shops, on='shop_id').merge(item_categories, on='item_category_id')\n",
    "new_train['city'] = new_train['shop_name'].str.split(' ').map(lambda x : x[0])\n",
    "\n",
    "new_train.sort_values(by=['date_block_num', 'shop_id', 'item_id'], inplace=True)\n",
    "new_train.reset_index(drop=True, inplace=True)"
   ]
  },
  {
   "cell_type": "code",
   "execution_count": 11,
   "metadata": {},
   "outputs": [],
   "source": [
    "train_backup = new_train.copy()"
   ]
  },
  {
   "cell_type": "code",
   "execution_count": 12,
   "metadata": {},
   "outputs": [
    {
     "data": {
      "text/html": [
       "<div>\n",
       "<style scoped>\n",
       "    .dataframe tbody tr th:only-of-type {\n",
       "        vertical-align: middle;\n",
       "    }\n",
       "\n",
       "    .dataframe tbody tr th {\n",
       "        vertical-align: top;\n",
       "    }\n",
       "\n",
       "    .dataframe thead th {\n",
       "        text-align: right;\n",
       "    }\n",
       "</style>\n",
       "<table border=\"1\" class=\"dataframe\">\n",
       "  <thead>\n",
       "    <tr style=\"text-align: right;\">\n",
       "      <th></th>\n",
       "      <th>shop_id</th>\n",
       "      <th>item_id</th>\n",
       "      <th>date_block_num</th>\n",
       "      <th>item_cnt_sum</th>\n",
       "      <th>item_name</th>\n",
       "      <th>item_category_id</th>\n",
       "      <th>shop_name</th>\n",
       "      <th>item_category_name</th>\n",
       "      <th>city</th>\n",
       "    </tr>\n",
       "  </thead>\n",
       "  <tbody>\n",
       "    <tr>\n",
       "      <th>0</th>\n",
       "      <td>0</td>\n",
       "      <td>19</td>\n",
       "      <td>0</td>\n",
       "      <td>0.0</td>\n",
       "      <td>/ЗОЛОТАЯ КОЛЛЕКЦИЯ м/ф-72</td>\n",
       "      <td>40</td>\n",
       "      <td>!Якутск Орджоникидзе, 56 фран</td>\n",
       "      <td>Кино - DVD</td>\n",
       "      <td>!Якутск</td>\n",
       "    </tr>\n",
       "    <tr>\n",
       "      <th>1</th>\n",
       "      <td>0</td>\n",
       "      <td>27</td>\n",
       "      <td>0</td>\n",
       "      <td>0.0</td>\n",
       "      <td>007 Legends [PS3, русская версия]</td>\n",
       "      <td>19</td>\n",
       "      <td>!Якутск Орджоникидзе, 56 фран</td>\n",
       "      <td>Игры - PS3</td>\n",
       "      <td>!Якутск</td>\n",
       "    </tr>\n",
       "    <tr>\n",
       "      <th>2</th>\n",
       "      <td>0</td>\n",
       "      <td>28</td>\n",
       "      <td>0</td>\n",
       "      <td>0.0</td>\n",
       "      <td>007 Legends [PС, Jewel, русская версия]</td>\n",
       "      <td>30</td>\n",
       "      <td>!Якутск Орджоникидзе, 56 фран</td>\n",
       "      <td>Игры PC - Стандартные издания</td>\n",
       "      <td>!Якутск</td>\n",
       "    </tr>\n",
       "    <tr>\n",
       "      <th>3</th>\n",
       "      <td>0</td>\n",
       "      <td>29</td>\n",
       "      <td>0</td>\n",
       "      <td>0.0</td>\n",
       "      <td>007 Legends [Xbox 360, русская версия]</td>\n",
       "      <td>23</td>\n",
       "      <td>!Якутск Орджоникидзе, 56 фран</td>\n",
       "      <td>Игры - XBOX 360</td>\n",
       "      <td>!Якутск</td>\n",
       "    </tr>\n",
       "    <tr>\n",
       "      <th>4</th>\n",
       "      <td>0</td>\n",
       "      <td>32</td>\n",
       "      <td>0</td>\n",
       "      <td>6.0</td>\n",
       "      <td>1+1</td>\n",
       "      <td>40</td>\n",
       "      <td>!Якутск Орджоникидзе, 56 фран</td>\n",
       "      <td>Кино - DVD</td>\n",
       "      <td>!Якутск</td>\n",
       "    </tr>\n",
       "  </tbody>\n",
       "</table>\n",
       "</div>"
      ],
      "text/plain": [
       "   shop_id  item_id  date_block_num  item_cnt_sum  \\\n",
       "0        0       19               0           0.0   \n",
       "1        0       27               0           0.0   \n",
       "2        0       28               0           0.0   \n",
       "3        0       29               0           0.0   \n",
       "4        0       32               0           6.0   \n",
       "\n",
       "                                 item_name  item_category_id  \\\n",
       "0                /ЗОЛОТАЯ КОЛЛЕКЦИЯ м/ф-72                40   \n",
       "1        007 Legends [PS3, русская версия]                19   \n",
       "2  007 Legends [PС, Jewel, русская версия]                30   \n",
       "3   007 Legends [Xbox 360, русская версия]                23   \n",
       "4                                      1+1                40   \n",
       "\n",
       "                       shop_name             item_category_name     city  \n",
       "0  !Якутск Орджоникидзе, 56 фран                     Кино - DVD  !Якутск  \n",
       "1  !Якутск Орджоникидзе, 56 фран                     Игры - PS3  !Якутск  \n",
       "2  !Якутск Орджоникидзе, 56 фран  Игры PC - Стандартные издания  !Якутск  \n",
       "3  !Якутск Орджоникидзе, 56 фран                Игры - XBOX 360  !Якутск  \n",
       "4  !Якутск Орджоникидзе, 56 фран                     Кино - DVD  !Якутск  "
      ]
     },
     "execution_count": 12,
     "metadata": {},
     "output_type": "execute_result"
    }
   ],
   "source": [
    "new_train.head()"
   ]
  },
  {
   "cell_type": "markdown",
   "metadata": {},
   "source": [
    "### Add features: item_id related features <br>\n",
    "- item_id\n",
    "- shop_id\n",
    "- name of the item (?)\n",
    "- last month's sale\n",
    "- last year's sale\n",
    "- whether is on promotion (?)"
   ]
  },
  {
   "cell_type": "code",
   "execution_count": 12,
   "metadata": {},
   "outputs": [],
   "source": [
    "#new_train = train_backup.copy()"
   ]
  },
  {
   "cell_type": "code",
   "execution_count": 13,
   "metadata": {},
   "outputs": [],
   "source": [
    "def lag_feature(df, df_shift, lags, on, col):\n",
    "    tmp = df_shift[on + [col]]\n",
    "    for i in lags:\n",
    "        shifted = tmp.copy()\n",
    "        shifted.columns = on + [col+'_lag_'+str(i)]\n",
    "        shifted['date_block_num'] += i\n",
    "        df = df.merge(shifted, on=on, how='left')\n",
    "    return df"
   ]
  },
  {
   "cell_type": "code",
   "execution_count": 14,
   "metadata": {},
   "outputs": [
    {
     "data": {
      "text/html": [
       "<div>\n",
       "<style scoped>\n",
       "    .dataframe tbody tr th:only-of-type {\n",
       "        vertical-align: middle;\n",
       "    }\n",
       "\n",
       "    .dataframe tbody tr th {\n",
       "        vertical-align: top;\n",
       "    }\n",
       "\n",
       "    .dataframe thead th {\n",
       "        text-align: right;\n",
       "    }\n",
       "</style>\n",
       "<table border=\"1\" class=\"dataframe\">\n",
       "  <thead>\n",
       "    <tr style=\"text-align: right;\">\n",
       "      <th></th>\n",
       "      <th>shop_id</th>\n",
       "      <th>item_id</th>\n",
       "      <th>date_block_num</th>\n",
       "      <th>item_cnt_sum</th>\n",
       "      <th>item_name</th>\n",
       "      <th>item_category_id</th>\n",
       "      <th>shop_name</th>\n",
       "      <th>item_category_name</th>\n",
       "      <th>city</th>\n",
       "      <th>item_cnt_sum_lag_1</th>\n",
       "      <th>item_cnt_sum_lag_3</th>\n",
       "      <th>item_cnt_sum_lag_6</th>\n",
       "      <th>item_cnt_sum_lag_12</th>\n",
       "    </tr>\n",
       "  </thead>\n",
       "  <tbody>\n",
       "    <tr>\n",
       "      <th>0</th>\n",
       "      <td>0</td>\n",
       "      <td>19</td>\n",
       "      <td>0</td>\n",
       "      <td>0.0</td>\n",
       "      <td>/ЗОЛОТАЯ КОЛЛЕКЦИЯ м/ф-72</td>\n",
       "      <td>40</td>\n",
       "      <td>!Якутск Орджоникидзе, 56 фран</td>\n",
       "      <td>Кино - DVD</td>\n",
       "      <td>!Якутск</td>\n",
       "      <td>NaN</td>\n",
       "      <td>NaN</td>\n",
       "      <td>NaN</td>\n",
       "      <td>NaN</td>\n",
       "    </tr>\n",
       "    <tr>\n",
       "      <th>1</th>\n",
       "      <td>0</td>\n",
       "      <td>27</td>\n",
       "      <td>0</td>\n",
       "      <td>0.0</td>\n",
       "      <td>007 Legends [PS3, русская версия]</td>\n",
       "      <td>19</td>\n",
       "      <td>!Якутск Орджоникидзе, 56 фран</td>\n",
       "      <td>Игры - PS3</td>\n",
       "      <td>!Якутск</td>\n",
       "      <td>NaN</td>\n",
       "      <td>NaN</td>\n",
       "      <td>NaN</td>\n",
       "      <td>NaN</td>\n",
       "    </tr>\n",
       "  </tbody>\n",
       "</table>\n",
       "</div>"
      ],
      "text/plain": [
       "   shop_id  item_id  date_block_num  item_cnt_sum  \\\n",
       "0        0       19               0           0.0   \n",
       "1        0       27               0           0.0   \n",
       "\n",
       "                           item_name  item_category_id  \\\n",
       "0          /ЗОЛОТАЯ КОЛЛЕКЦИЯ м/ф-72                40   \n",
       "1  007 Legends [PS3, русская версия]                19   \n",
       "\n",
       "                       shop_name item_category_name     city  \\\n",
       "0  !Якутск Орджоникидзе, 56 фран         Кино - DVD  !Якутск   \n",
       "1  !Якутск Орджоникидзе, 56 фран         Игры - PS3  !Якутск   \n",
       "\n",
       "   item_cnt_sum_lag_1  item_cnt_sum_lag_3  item_cnt_sum_lag_6  \\\n",
       "0                 NaN                 NaN                 NaN   \n",
       "1                 NaN                 NaN                 NaN   \n",
       "\n",
       "   item_cnt_sum_lag_12  \n",
       "0                  NaN  \n",
       "1                  NaN  "
      ]
     },
     "execution_count": 14,
     "metadata": {},
     "output_type": "execute_result"
    }
   ],
   "source": [
    "new_train = lag_feature(new_train, new_train, lags=[1, 3, 6, 12], on=['date_block_num','shop_id','item_id'], col='item_cnt_sum')\n",
    "new_train.head(2)"
   ]
  },
  {
   "cell_type": "markdown",
   "metadata": {},
   "source": [
    "### Add features: Categorical related features <br>\n",
    "- item_category_id\n",
    "- last month's sale for the same item_category_id\n",
    "- last year's sale for the same item_category_id"
   ]
  },
  {
   "cell_type": "code",
   "execution_count": null,
   "metadata": {},
   "outputs": [],
   "source": [
    "#train_backup_2 = train.copy()"
   ]
  },
  {
   "cell_type": "code",
   "execution_count": 15,
   "metadata": {},
   "outputs": [
    {
     "data": {
      "text/html": [
       "<div>\n",
       "<style scoped>\n",
       "    .dataframe tbody tr th:only-of-type {\n",
       "        vertical-align: middle;\n",
       "    }\n",
       "\n",
       "    .dataframe tbody tr th {\n",
       "        vertical-align: top;\n",
       "    }\n",
       "\n",
       "    .dataframe thead th {\n",
       "        text-align: right;\n",
       "    }\n",
       "</style>\n",
       "<table border=\"1\" class=\"dataframe\">\n",
       "  <thead>\n",
       "    <tr style=\"text-align: right;\">\n",
       "      <th></th>\n",
       "      <th>date_block_num</th>\n",
       "      <th>shop_id</th>\n",
       "      <th>item_category_id</th>\n",
       "      <th>item_cnt_by_cat_sum</th>\n",
       "    </tr>\n",
       "  </thead>\n",
       "  <tbody>\n",
       "    <tr>\n",
       "      <th>0</th>\n",
       "      <td>0</td>\n",
       "      <td>0</td>\n",
       "      <td>2</td>\n",
       "      <td>53.0</td>\n",
       "    </tr>\n",
       "    <tr>\n",
       "      <th>1</th>\n",
       "      <td>0</td>\n",
       "      <td>0</td>\n",
       "      <td>3</td>\n",
       "      <td>28.0</td>\n",
       "    </tr>\n",
       "  </tbody>\n",
       "</table>\n",
       "</div>"
      ],
      "text/plain": [
       "   date_block_num  shop_id  item_category_id  item_cnt_by_cat_sum\n",
       "0               0        0                 2                 53.0\n",
       "1               0        0                 3                 28.0"
      ]
     },
     "execution_count": 15,
     "metadata": {},
     "output_type": "execute_result"
    }
   ],
   "source": [
    "df = train_master.groupby(['date_block_num', 'shop_id', 'item_category_id']).agg({'item_cnt_day':['sum']})\n",
    "df.columns = ['item_cnt_by_cat_sum']\n",
    "df.reset_index(inplace=True)\n",
    "df.head(2)"
   ]
  },
  {
   "cell_type": "code",
   "execution_count": 17,
   "metadata": {},
   "outputs": [
    {
     "data": {
      "text/html": [
       "<div>\n",
       "<style scoped>\n",
       "    .dataframe tbody tr th:only-of-type {\n",
       "        vertical-align: middle;\n",
       "    }\n",
       "\n",
       "    .dataframe tbody tr th {\n",
       "        vertical-align: top;\n",
       "    }\n",
       "\n",
       "    .dataframe thead th {\n",
       "        text-align: right;\n",
       "    }\n",
       "</style>\n",
       "<table border=\"1\" class=\"dataframe\">\n",
       "  <thead>\n",
       "    <tr style=\"text-align: right;\">\n",
       "      <th></th>\n",
       "      <th>shop_id</th>\n",
       "      <th>item_id</th>\n",
       "      <th>date_block_num</th>\n",
       "      <th>item_cnt_sum</th>\n",
       "      <th>item_name</th>\n",
       "      <th>item_category_id</th>\n",
       "      <th>shop_name</th>\n",
       "      <th>item_category_name</th>\n",
       "      <th>city</th>\n",
       "      <th>item_cnt_sum_lag_1</th>\n",
       "      <th>item_cnt_sum_lag_3</th>\n",
       "      <th>item_cnt_sum_lag_6</th>\n",
       "      <th>item_cnt_sum_lag_12</th>\n",
       "      <th>item_cnt_by_cat_sum_lag_1</th>\n",
       "      <th>item_cnt_by_cat_sum_lag_3</th>\n",
       "      <th>item_cnt_by_cat_sum_lag_6</th>\n",
       "      <th>item_cnt_by_cat_sum_lag_12</th>\n",
       "    </tr>\n",
       "  </thead>\n",
       "  <tbody>\n",
       "    <tr>\n",
       "      <th>0</th>\n",
       "      <td>0</td>\n",
       "      <td>19</td>\n",
       "      <td>0</td>\n",
       "      <td>0.0</td>\n",
       "      <td>/ЗОЛОТАЯ КОЛЛЕКЦИЯ м/ф-72</td>\n",
       "      <td>40</td>\n",
       "      <td>!Якутск Орджоникидзе, 56 фран</td>\n",
       "      <td>Кино - DVD</td>\n",
       "      <td>!Якутск</td>\n",
       "      <td>NaN</td>\n",
       "      <td>NaN</td>\n",
       "      <td>NaN</td>\n",
       "      <td>NaN</td>\n",
       "      <td>NaN</td>\n",
       "      <td>NaN</td>\n",
       "      <td>NaN</td>\n",
       "      <td>NaN</td>\n",
       "    </tr>\n",
       "    <tr>\n",
       "      <th>1</th>\n",
       "      <td>0</td>\n",
       "      <td>27</td>\n",
       "      <td>0</td>\n",
       "      <td>0.0</td>\n",
       "      <td>007 Legends [PS3, русская версия]</td>\n",
       "      <td>19</td>\n",
       "      <td>!Якутск Орджоникидзе, 56 фран</td>\n",
       "      <td>Игры - PS3</td>\n",
       "      <td>!Якутск</td>\n",
       "      <td>NaN</td>\n",
       "      <td>NaN</td>\n",
       "      <td>NaN</td>\n",
       "      <td>NaN</td>\n",
       "      <td>NaN</td>\n",
       "      <td>NaN</td>\n",
       "      <td>NaN</td>\n",
       "      <td>NaN</td>\n",
       "    </tr>\n",
       "  </tbody>\n",
       "</table>\n",
       "</div>"
      ],
      "text/plain": [
       "   shop_id  item_id  date_block_num  item_cnt_sum  \\\n",
       "0        0       19               0           0.0   \n",
       "1        0       27               0           0.0   \n",
       "\n",
       "                           item_name  item_category_id  \\\n",
       "0          /ЗОЛОТАЯ КОЛЛЕКЦИЯ м/ф-72                40   \n",
       "1  007 Legends [PS3, русская версия]                19   \n",
       "\n",
       "                       shop_name item_category_name     city  \\\n",
       "0  !Якутск Орджоникидзе, 56 фран         Кино - DVD  !Якутск   \n",
       "1  !Якутск Орджоникидзе, 56 фран         Игры - PS3  !Якутск   \n",
       "\n",
       "   item_cnt_sum_lag_1  item_cnt_sum_lag_3  item_cnt_sum_lag_6  \\\n",
       "0                 NaN                 NaN                 NaN   \n",
       "1                 NaN                 NaN                 NaN   \n",
       "\n",
       "   item_cnt_sum_lag_12  item_cnt_by_cat_sum_lag_1  item_cnt_by_cat_sum_lag_3  \\\n",
       "0                  NaN                        NaN                        NaN   \n",
       "1                  NaN                        NaN                        NaN   \n",
       "\n",
       "   item_cnt_by_cat_sum_lag_6  item_cnt_by_cat_sum_lag_12  \n",
       "0                        NaN                         NaN  \n",
       "1                        NaN                         NaN  "
      ]
     },
     "execution_count": 17,
     "metadata": {},
     "output_type": "execute_result"
    }
   ],
   "source": [
    "new_train = lag_feature(new_train, df, lags=[1,3,6,12], on=['date_block_num','shop_id','item_category_id'], col='item_cnt_by_cat_sum')\n",
    "new_train.head(2)"
   ]
  },
  {
   "cell_type": "markdown",
   "metadata": {},
   "source": [
    "### OBSOLETE: Fill in missing (date_block_num, shop_id, item_id) pairs"
   ]
  },
  {
   "cell_type": "markdown",
   "metadata": {},
   "source": [
    "First, let us look at what (shop_id, item_id) pairs in the test set are in the sales record within a year. If not, then we will simply predict them to be ZEROs."
   ]
  },
  {
   "cell_type": "code",
   "execution_count": null,
   "metadata": {},
   "outputs": [],
   "source": [
    "# calculate the sum of items sold in the past twelve months\n",
    "df_sum_one_year = train[train.date_block_num >= 22].groupby(['shop_id', 'item_id']).agg({'item_cnt_sum':['sum']})\n",
    "df_sum_one_year.columns = ['item_cnt_sum']\n",
    "df_sum_one_year.reset_index(inplace=True)\n",
    "df_sum_one_year.head()"
   ]
  },
  {
   "cell_type": "code",
   "execution_count": null,
   "metadata": {},
   "outputs": [],
   "source": [
    "test_nonzero = test.merge(df_sum_one_year, on=['shop_id', 'item_id'], how='left').fillna(0)\n",
    "test_nonzero = test_nonzero[test_nonzero.item_cnt_sum > 0]\n",
    "test_nonzero.head()"
   ]
  },
  {
   "cell_type": "markdown",
   "metadata": {},
   "source": [
    "### Add features: month and city label"
   ]
  },
  {
   "cell_type": "markdown",
   "metadata": {},
   "source": [
    "Add a month feature"
   ]
  },
  {
   "cell_type": "code",
   "execution_count": 18,
   "metadata": {},
   "outputs": [],
   "source": [
    "new_train['month'] = new_train['date_block_num'] % 12"
   ]
  },
  {
   "cell_type": "markdown",
   "metadata": {},
   "source": [
    "Label encode the categorical variables"
   ]
  },
  {
   "cell_type": "code",
   "execution_count": 19,
   "metadata": {},
   "outputs": [],
   "source": [
    "from sklearn import preprocessing"
   ]
  },
  {
   "cell_type": "code",
   "execution_count": 20,
   "metadata": {},
   "outputs": [
    {
     "data": {
      "text/html": [
       "<div>\n",
       "<style scoped>\n",
       "    .dataframe tbody tr th:only-of-type {\n",
       "        vertical-align: middle;\n",
       "    }\n",
       "\n",
       "    .dataframe tbody tr th {\n",
       "        vertical-align: top;\n",
       "    }\n",
       "\n",
       "    .dataframe thead th {\n",
       "        text-align: right;\n",
       "    }\n",
       "</style>\n",
       "<table border=\"1\" class=\"dataframe\">\n",
       "  <thead>\n",
       "    <tr style=\"text-align: right;\">\n",
       "      <th></th>\n",
       "      <th>shop_id</th>\n",
       "      <th>item_id</th>\n",
       "      <th>date_block_num</th>\n",
       "      <th>item_cnt_sum</th>\n",
       "      <th>item_name</th>\n",
       "      <th>item_category_id</th>\n",
       "      <th>item_category_name</th>\n",
       "      <th>item_cnt_sum_lag_1</th>\n",
       "      <th>item_cnt_sum_lag_3</th>\n",
       "      <th>item_cnt_sum_lag_6</th>\n",
       "      <th>item_cnt_sum_lag_12</th>\n",
       "      <th>item_cnt_by_cat_sum_lag_1</th>\n",
       "      <th>item_cnt_by_cat_sum_lag_3</th>\n",
       "      <th>item_cnt_by_cat_sum_lag_6</th>\n",
       "      <th>item_cnt_by_cat_sum_lag_12</th>\n",
       "      <th>month</th>\n",
       "      <th>city_label</th>\n",
       "    </tr>\n",
       "  </thead>\n",
       "  <tbody>\n",
       "    <tr>\n",
       "      <th>0</th>\n",
       "      <td>0</td>\n",
       "      <td>19</td>\n",
       "      <td>0</td>\n",
       "      <td>0.0</td>\n",
       "      <td>/ЗОЛОТАЯ КОЛЛЕКЦИЯ м/ф-72</td>\n",
       "      <td>40</td>\n",
       "      <td>Кино - DVD</td>\n",
       "      <td>NaN</td>\n",
       "      <td>NaN</td>\n",
       "      <td>NaN</td>\n",
       "      <td>NaN</td>\n",
       "      <td>NaN</td>\n",
       "      <td>NaN</td>\n",
       "      <td>NaN</td>\n",
       "      <td>NaN</td>\n",
       "      <td>0</td>\n",
       "      <td>0</td>\n",
       "    </tr>\n",
       "    <tr>\n",
       "      <th>1</th>\n",
       "      <td>0</td>\n",
       "      <td>27</td>\n",
       "      <td>0</td>\n",
       "      <td>0.0</td>\n",
       "      <td>007 Legends [PS3, русская версия]</td>\n",
       "      <td>19</td>\n",
       "      <td>Игры - PS3</td>\n",
       "      <td>NaN</td>\n",
       "      <td>NaN</td>\n",
       "      <td>NaN</td>\n",
       "      <td>NaN</td>\n",
       "      <td>NaN</td>\n",
       "      <td>NaN</td>\n",
       "      <td>NaN</td>\n",
       "      <td>NaN</td>\n",
       "      <td>0</td>\n",
       "      <td>0</td>\n",
       "    </tr>\n",
       "  </tbody>\n",
       "</table>\n",
       "</div>"
      ],
      "text/plain": [
       "   shop_id  item_id  date_block_num  item_cnt_sum  \\\n",
       "0        0       19               0           0.0   \n",
       "1        0       27               0           0.0   \n",
       "\n",
       "                           item_name  item_category_id item_category_name  \\\n",
       "0          /ЗОЛОТАЯ КОЛЛЕКЦИЯ м/ф-72                40         Кино - DVD   \n",
       "1  007 Legends [PS3, русская версия]                19         Игры - PS3   \n",
       "\n",
       "   item_cnt_sum_lag_1  item_cnt_sum_lag_3  item_cnt_sum_lag_6  \\\n",
       "0                 NaN                 NaN                 NaN   \n",
       "1                 NaN                 NaN                 NaN   \n",
       "\n",
       "   item_cnt_sum_lag_12  item_cnt_by_cat_sum_lag_1  item_cnt_by_cat_sum_lag_3  \\\n",
       "0                  NaN                        NaN                        NaN   \n",
       "1                  NaN                        NaN                        NaN   \n",
       "\n",
       "   item_cnt_by_cat_sum_lag_6  item_cnt_by_cat_sum_lag_12  month  city_label  \n",
       "0                        NaN                         NaN      0           0  \n",
       "1                        NaN                         NaN      0           0  "
      ]
     },
     "execution_count": 20,
     "metadata": {},
     "output_type": "execute_result"
    }
   ],
   "source": [
    "le = preprocessing.LabelEncoder()\n",
    "new_train['city_label'] = le.fit_transform(new_train['city'])\n",
    "new_train.drop(['shop_name', 'city'], axis = 1, inplace=True)\n",
    "new_train.head(2)"
   ]
  },
  {
   "cell_type": "code",
   "execution_count": 23,
   "metadata": {},
   "outputs": [],
   "source": [
    "new_train.to_pickle('train.pkl')"
   ]
  },
  {
   "cell_type": "markdown",
   "metadata": {},
   "source": [
    "## Build an XGBoost Model"
   ]
  },
  {
   "cell_type": "markdown",
   "metadata": {},
   "source": [
    "Training set and evaluation set split: <br>\n",
    "- training set: date_block_num in range(12, 33)\n",
    "- validation set: date_block_num == 33"
   ]
  },
  {
   "cell_type": "code",
   "execution_count": 35,
   "metadata": {},
   "outputs": [],
   "source": [
    "x_train = new_train[(new_train.date_block_num >= 12) & (new_train.date_block_num <= 32)]\n",
    "x_val = new_train[new_train.date_block_num == 33]"
   ]
  },
  {
   "cell_type": "code",
   "execution_count": 37,
   "metadata": {},
   "outputs": [],
   "source": [
    "y_train = x_train[['item_cnt_sum']]\n",
    "y_val = x_val[['item_cnt_sum']]\n",
    "x_train = x_train[['shop_id','item_id','item_category_id','month','city_label',\n",
    "                   'item_cnt_sum_lag_1','item_cnt_sum_lag_3','item_cnt_sum_lag_6','item_cnt_sum_lag_12']]\n",
    "x_val = x_val[['shop_id','item_id','item_category_id','month','city_label',\n",
    "                   'item_cnt_sum_lag_1','item_cnt_sum_lag_3','item_cnt_sum_lag_6','item_cnt_sum_lag_12']]"
   ]
  },
  {
   "cell_type": "code",
   "execution_count": 1,
   "metadata": {},
   "outputs": [],
   "source": [
    "import xgboost as xgb"
   ]
  },
  {
   "cell_type": "code",
   "execution_count": 38,
   "metadata": {},
   "outputs": [
    {
     "data": {
      "text/plain": [
       "shop_id                      0\n",
       "item_id                      0\n",
       "item_category_id             0\n",
       "month                        0\n",
       "city_label                   0\n",
       "item_cnt_sum_lag_1     1288325\n",
       "item_cnt_sum_lag_3     1658858\n",
       "item_cnt_sum_lag_6     2201695\n",
       "item_cnt_sum_lag_12    3280022\n",
       "dtype: int64"
      ]
     },
     "execution_count": 38,
     "metadata": {},
     "output_type": "execute_result"
    }
   ],
   "source": [
    "x_train.isna().sum()"
   ]
  },
  {
   "cell_type": "code",
   "execution_count": 39,
   "metadata": {},
   "outputs": [
    {
     "data": {
      "text/plain": [
       "shop_id                     0\n",
       "item_id                     0\n",
       "item_category_id            0\n",
       "month                       0\n",
       "city_label                  0\n",
       "item_cnt_sum_lag_1      72491\n",
       "item_cnt_sum_lag_3      85775\n",
       "item_cnt_sum_lag_6      98690\n",
       "item_cnt_sum_lag_12    125555\n",
       "dtype: int64"
      ]
     },
     "execution_count": 39,
     "metadata": {},
     "output_type": "execute_result"
    }
   ],
   "source": [
    "x_val.isna().sum()"
   ]
  },
  {
   "cell_type": "code",
   "execution_count": 40,
   "metadata": {},
   "outputs": [
    {
     "data": {
      "text/plain": [
       "item_cnt_sum    0\n",
       "dtype: int64"
      ]
     },
     "execution_count": 40,
     "metadata": {},
     "output_type": "execute_result"
    }
   ],
   "source": [
    "y_train.isna().sum()"
   ]
  },
  {
   "cell_type": "code",
   "execution_count": 41,
   "metadata": {},
   "outputs": [
    {
     "data": {
      "text/plain": [
       "item_cnt_sum    0\n",
       "dtype: int64"
      ]
     },
     "execution_count": 41,
     "metadata": {},
     "output_type": "execute_result"
    }
   ],
   "source": [
    "y_val.isna().sum()"
   ]
  },
  {
   "cell_type": "code",
   "execution_count": 42,
   "metadata": {},
   "outputs": [],
   "source": [
    "x_train = x_train.fillna(0.0)"
   ]
  },
  {
   "cell_type": "code",
   "execution_count": 43,
   "metadata": {},
   "outputs": [],
   "source": [
    "x_val = x_val.fillna(0.0)"
   ]
  },
  {
   "cell_type": "code",
   "execution_count": 32,
   "metadata": {},
   "outputs": [],
   "source": [
    "from xgboost import XGBRegressor\n",
    "from xgboost import plot_importance"
   ]
  },
  {
   "cell_type": "code",
   "execution_count": 44,
   "metadata": {},
   "outputs": [
    {
     "name": "stdout",
     "output_type": "stream",
     "text": [
      "[0]\tvalidation_0-rmse:3.36269\tvalidation_1-rmse:5.23473\n",
      "Multiple eval metrics have been passed: 'validation_1-rmse' will be used for early stopping.\n",
      "\n",
      "Will train until validation_1-rmse hasn't improved in 50 rounds.\n",
      "[1]\tvalidation_0-rmse:3.24907\tvalidation_1-rmse:5.15967\n",
      "[2]\tvalidation_0-rmse:3.14981\tvalidation_1-rmse:5.08771\n",
      "[3]\tvalidation_0-rmse:3.07841\tvalidation_1-rmse:5.04267\n",
      "[4]\tvalidation_0-rmse:2.96832\tvalidation_1-rmse:4.97105\n",
      "[5]\tvalidation_0-rmse:2.91692\tvalidation_1-rmse:4.92989\n",
      "[6]\tvalidation_0-rmse:2.82384\tvalidation_1-rmse:4.88673\n",
      "[7]\tvalidation_0-rmse:2.78615\tvalidation_1-rmse:4.88107\n",
      "[8]\tvalidation_0-rmse:2.71989\tvalidation_1-rmse:4.84633\n",
      "[9]\tvalidation_0-rmse:2.65333\tvalidation_1-rmse:4.82679\n",
      "[10]\tvalidation_0-rmse:2.60152\tvalidation_1-rmse:4.79729\n",
      "[11]\tvalidation_0-rmse:2.59515\tvalidation_1-rmse:4.79451\n",
      "[12]\tvalidation_0-rmse:2.5509\tvalidation_1-rmse:4.77739\n",
      "[13]\tvalidation_0-rmse:2.51512\tvalidation_1-rmse:4.7796\n",
      "[14]\tvalidation_0-rmse:2.48958\tvalidation_1-rmse:4.77737\n",
      "[15]\tvalidation_0-rmse:2.43929\tvalidation_1-rmse:4.74654\n",
      "[16]\tvalidation_0-rmse:2.4139\tvalidation_1-rmse:4.73597\n",
      "[17]\tvalidation_0-rmse:2.38401\tvalidation_1-rmse:4.72688\n",
      "[18]\tvalidation_0-rmse:2.36482\tvalidation_1-rmse:4.72612\n",
      "[19]\tvalidation_0-rmse:2.35223\tvalidation_1-rmse:4.72238\n",
      "[20]\tvalidation_0-rmse:2.33467\tvalidation_1-rmse:4.70872\n",
      "[21]\tvalidation_0-rmse:2.31515\tvalidation_1-rmse:4.71175\n",
      "[22]\tvalidation_0-rmse:2.30321\tvalidation_1-rmse:4.71351\n",
      "[23]\tvalidation_0-rmse:2.29251\tvalidation_1-rmse:4.69514\n",
      "[24]\tvalidation_0-rmse:2.26084\tvalidation_1-rmse:4.70709\n",
      "[25]\tvalidation_0-rmse:2.25365\tvalidation_1-rmse:4.69882\n",
      "[26]\tvalidation_0-rmse:2.24416\tvalidation_1-rmse:4.69794\n",
      "[27]\tvalidation_0-rmse:2.22994\tvalidation_1-rmse:4.70602\n",
      "[28]\tvalidation_0-rmse:2.22543\tvalidation_1-rmse:4.71108\n",
      "[29]\tvalidation_0-rmse:2.21452\tvalidation_1-rmse:4.71426\n",
      "[30]\tvalidation_0-rmse:2.20768\tvalidation_1-rmse:4.72535\n",
      "[31]\tvalidation_0-rmse:2.19754\tvalidation_1-rmse:4.72474\n",
      "[32]\tvalidation_0-rmse:2.18829\tvalidation_1-rmse:4.73276\n",
      "[33]\tvalidation_0-rmse:2.18075\tvalidation_1-rmse:4.73808\n",
      "[34]\tvalidation_0-rmse:2.1731\tvalidation_1-rmse:4.72958\n",
      "[35]\tvalidation_0-rmse:2.16868\tvalidation_1-rmse:4.72691\n",
      "[36]\tvalidation_0-rmse:2.15975\tvalidation_1-rmse:4.73371\n",
      "[37]\tvalidation_0-rmse:2.15559\tvalidation_1-rmse:4.72945\n",
      "[38]\tvalidation_0-rmse:2.14766\tvalidation_1-rmse:4.73018\n",
      "[39]\tvalidation_0-rmse:2.14599\tvalidation_1-rmse:4.7327\n",
      "[40]\tvalidation_0-rmse:2.14317\tvalidation_1-rmse:4.73287\n",
      "[41]\tvalidation_0-rmse:2.13712\tvalidation_1-rmse:4.74463\n",
      "[42]\tvalidation_0-rmse:2.12362\tvalidation_1-rmse:4.74291\n",
      "[43]\tvalidation_0-rmse:2.12111\tvalidation_1-rmse:4.73889\n",
      "[44]\tvalidation_0-rmse:2.11706\tvalidation_1-rmse:4.73622\n",
      "[45]\tvalidation_0-rmse:2.1138\tvalidation_1-rmse:4.73816\n",
      "[46]\tvalidation_0-rmse:2.11189\tvalidation_1-rmse:4.73334\n",
      "[47]\tvalidation_0-rmse:2.10724\tvalidation_1-rmse:4.72906\n",
      "[48]\tvalidation_0-rmse:2.10429\tvalidation_1-rmse:4.73375\n",
      "[49]\tvalidation_0-rmse:2.09872\tvalidation_1-rmse:4.74158\n",
      "[50]\tvalidation_0-rmse:2.0947\tvalidation_1-rmse:4.7507\n",
      "[51]\tvalidation_0-rmse:2.08917\tvalidation_1-rmse:4.76279\n",
      "[52]\tvalidation_0-rmse:2.08787\tvalidation_1-rmse:4.75861\n",
      "[53]\tvalidation_0-rmse:2.08536\tvalidation_1-rmse:4.7593\n",
      "[54]\tvalidation_0-rmse:2.08224\tvalidation_1-rmse:4.7599\n",
      "[55]\tvalidation_0-rmse:2.07594\tvalidation_1-rmse:4.75969\n",
      "[56]\tvalidation_0-rmse:2.07466\tvalidation_1-rmse:4.7589\n",
      "[57]\tvalidation_0-rmse:2.07336\tvalidation_1-rmse:4.7575\n",
      "[58]\tvalidation_0-rmse:2.07248\tvalidation_1-rmse:4.75613\n",
      "[59]\tvalidation_0-rmse:2.06746\tvalidation_1-rmse:4.7585\n",
      "[60]\tvalidation_0-rmse:2.06485\tvalidation_1-rmse:4.76201\n",
      "[61]\tvalidation_0-rmse:2.06161\tvalidation_1-rmse:4.76095\n",
      "[62]\tvalidation_0-rmse:2.05804\tvalidation_1-rmse:4.7678\n",
      "[63]\tvalidation_0-rmse:2.05585\tvalidation_1-rmse:4.76551\n",
      "[64]\tvalidation_0-rmse:2.0545\tvalidation_1-rmse:4.7626\n",
      "[65]\tvalidation_0-rmse:2.04659\tvalidation_1-rmse:4.76628\n",
      "[66]\tvalidation_0-rmse:2.0438\tvalidation_1-rmse:4.77527\n",
      "[67]\tvalidation_0-rmse:2.03968\tvalidation_1-rmse:4.77238\n",
      "[68]\tvalidation_0-rmse:2.0386\tvalidation_1-rmse:4.77244\n",
      "[69]\tvalidation_0-rmse:2.03046\tvalidation_1-rmse:4.78593\n",
      "[70]\tvalidation_0-rmse:2.02908\tvalidation_1-rmse:4.78938\n",
      "[71]\tvalidation_0-rmse:2.02518\tvalidation_1-rmse:4.79102\n",
      "[72]\tvalidation_0-rmse:2.02226\tvalidation_1-rmse:4.79235\n",
      "[73]\tvalidation_0-rmse:2.01979\tvalidation_1-rmse:4.79456\n",
      "Stopping. Best iteration:\n",
      "[23]\tvalidation_0-rmse:2.29251\tvalidation_1-rmse:4.69514\n",
      "\n"
     ]
    },
    {
     "data": {
      "text/plain": [
       "XGBRegressor(base_score=0.5, booster='gbtree', colsample_bylevel=1,\n",
       "             colsample_bytree=0.5, gamma=0, importance_type='gain',\n",
       "             learning_rate=0.1, max_delta_step=0, max_depth=10,\n",
       "             min_child_weight=1, missing=None, n_estimators=5000, n_jobs=1,\n",
       "             nthread=None, objective='reg:linear', random_state=0, reg_alpha=0,\n",
       "             reg_lambda=1, scale_pos_weight=1, seed=None, silent=True,\n",
       "             subsample=0.5)"
      ]
     },
     "execution_count": 44,
     "metadata": {},
     "output_type": "execute_result"
    }
   ],
   "source": [
    "model = XGBRegressor(\n",
    "    n_estimators=5000,\n",
    "    max_depth=10,\n",
    "    #min_child_weight=300, \n",
    "    colsample_bytree=0.5, \n",
    "    subsample=0.5)\n",
    "    #eta=0.3,    \n",
    "    #seed=42)\n",
    "\n",
    "model.fit(\n",
    "    x_train, \n",
    "    y_train, \n",
    "    eval_metric=\"rmse\", \n",
    "    eval_set=[(x_train, y_train), (x_val, y_val)], \n",
    "    verbose=True, \n",
    "    early_stopping_rounds = 50)"
   ]
  },
  {
   "cell_type": "code",
   "execution_count": null,
   "metadata": {},
   "outputs": [],
   "source": []
  }
 ],
 "metadata": {
  "kernelspec": {
   "display_name": "Python 3",
   "language": "python",
   "name": "python3"
  },
  "language_info": {
   "codemirror_mode": {
    "name": "ipython",
    "version": 3
   },
   "file_extension": ".py",
   "mimetype": "text/x-python",
   "name": "python",
   "nbconvert_exporter": "python",
   "pygments_lexer": "ipython3",
   "version": "3.6.8"
  }
 },
 "nbformat": 4,
 "nbformat_minor": 2
}
