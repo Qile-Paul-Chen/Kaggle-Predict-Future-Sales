{
 "cells": [
  {
   "cell_type": "code",
   "execution_count": 1,
   "metadata": {},
   "outputs": [],
   "source": [
    "import numpy as np\n",
    "import pandas as pd\n",
    "import matplotlib.pyplot as plt\n",
    "import sklearn\n",
    "import seaborn as sns\n",
    "import os"
   ]
  },
  {
   "cell_type": "markdown",
   "metadata": {},
   "source": [
    "Read input data"
   ]
  },
  {
   "cell_type": "code",
   "execution_count": 2,
   "metadata": {},
   "outputs": [],
   "source": [
    "shops = pd.read_csv(\"data/shops.csv\")\n",
    "item_categories = pd.read_csv(\"data/item_categories.csv\")\n",
    "sales_train = pd.read_csv(\"data/sales_train.csv\")\n",
    "items = pd.read_csv(\"data/items.csv\")\n",
    "\n",
    "test = pd.read_csv(\"data/test.csv\")\n",
    "sample_submission = pd.read_csv(\"data/sample_submission.csv\")"
   ]
  },
  {
   "cell_type": "markdown",
   "metadata": {},
   "source": [
    "Stack the train and test data together"
   ]
  },
  {
   "cell_type": "code",
   "execution_count": 3,
   "metadata": {},
   "outputs": [
    {
     "name": "stderr",
     "output_type": "stream",
     "text": [
      "C:\\Users\\ChenP\\AppData\\Local\\Continuum\\anaconda3\\lib\\site-packages\\pandas\\core\\frame.py:6201: FutureWarning: Sorting because non-concatenation axis is not aligned. A future version\n",
      "of pandas will change to not sort by default.\n",
      "\n",
      "To accept the future behavior, pass 'sort=True'.\n",
      "\n",
      "To retain the current behavior and silence the warning, pass sort=False\n",
      "\n",
      "  sort=sort)\n"
     ]
    },
    {
     "data": {
      "text/html": [
       "<div>\n",
       "<style scoped>\n",
       "    .dataframe tbody tr th:only-of-type {\n",
       "        vertical-align: middle;\n",
       "    }\n",
       "\n",
       "    .dataframe tbody tr th {\n",
       "        vertical-align: top;\n",
       "    }\n",
       "\n",
       "    .dataframe thead th {\n",
       "        text-align: right;\n",
       "    }\n",
       "</style>\n",
       "<table border=\"1\" class=\"dataframe\">\n",
       "  <thead>\n",
       "    <tr style=\"text-align: right;\">\n",
       "      <th></th>\n",
       "      <th>date</th>\n",
       "      <th>date_block_num</th>\n",
       "      <th>item_cnt_day</th>\n",
       "      <th>item_id</th>\n",
       "      <th>item_price</th>\n",
       "      <th>shop_id</th>\n",
       "    </tr>\n",
       "  </thead>\n",
       "  <tbody>\n",
       "    <tr>\n",
       "      <th>214198</th>\n",
       "      <td>NaN</td>\n",
       "      <td>34</td>\n",
       "      <td>NaN</td>\n",
       "      <td>19648</td>\n",
       "      <td>NaN</td>\n",
       "      <td>45</td>\n",
       "    </tr>\n",
       "    <tr>\n",
       "      <th>214199</th>\n",
       "      <td>NaN</td>\n",
       "      <td>34</td>\n",
       "      <td>NaN</td>\n",
       "      <td>969</td>\n",
       "      <td>NaN</td>\n",
       "      <td>45</td>\n",
       "    </tr>\n",
       "  </tbody>\n",
       "</table>\n",
       "</div>"
      ],
      "text/plain": [
       "       date  date_block_num  item_cnt_day  item_id  item_price  shop_id\n",
       "214198  NaN              34           NaN    19648         NaN       45\n",
       "214199  NaN              34           NaN      969         NaN       45"
      ]
     },
     "execution_count": 3,
     "metadata": {},
     "output_type": "execute_result"
    }
   ],
   "source": [
    "test['date_block_num'] = 34\n",
    "train_test = sales_train.append(test.drop(columns=['ID']))\n",
    "train_test.tail(2)"
   ]
  },
  {
   "cell_type": "markdown",
   "metadata": {},
   "source": [
    "## Feature Engineering"
   ]
  },
  {
   "cell_type": "markdown",
   "metadata": {},
   "source": [
    "Aggregate sales to monthly level and clip the value, and also join with other features"
   ]
  },
  {
   "cell_type": "code",
   "execution_count": 4,
   "metadata": {
    "scrolled": true
   },
   "outputs": [
    {
     "data": {
      "text/html": [
       "<div>\n",
       "<style scoped>\n",
       "    .dataframe tbody tr th:only-of-type {\n",
       "        vertical-align: middle;\n",
       "    }\n",
       "\n",
       "    .dataframe tbody tr th {\n",
       "        vertical-align: top;\n",
       "    }\n",
       "\n",
       "    .dataframe thead th {\n",
       "        text-align: right;\n",
       "    }\n",
       "</style>\n",
       "<table border=\"1\" class=\"dataframe\">\n",
       "  <thead>\n",
       "    <tr style=\"text-align: right;\">\n",
       "      <th></th>\n",
       "      <th>date_block_num</th>\n",
       "      <th>shop_id</th>\n",
       "      <th>item_id</th>\n",
       "      <th>item_cnt_sum</th>\n",
       "      <th>item_category_id</th>\n",
       "      <th>shop_name</th>\n",
       "    </tr>\n",
       "  </thead>\n",
       "  <tbody>\n",
       "    <tr>\n",
       "      <th>0</th>\n",
       "      <td>0</td>\n",
       "      <td>0</td>\n",
       "      <td>32</td>\n",
       "      <td>6.0</td>\n",
       "      <td>40</td>\n",
       "      <td>!Якутск Орджоникидзе, 56 фран</td>\n",
       "    </tr>\n",
       "    <tr>\n",
       "      <th>1</th>\n",
       "      <td>0</td>\n",
       "      <td>0</td>\n",
       "      <td>33</td>\n",
       "      <td>3.0</td>\n",
       "      <td>37</td>\n",
       "      <td>!Якутск Орджоникидзе, 56 фран</td>\n",
       "    </tr>\n",
       "  </tbody>\n",
       "</table>\n",
       "</div>"
      ],
      "text/plain": [
       "   date_block_num  shop_id  item_id  item_cnt_sum  item_category_id  \\\n",
       "0               0        0       32           6.0                40   \n",
       "1               0        0       33           3.0                37   \n",
       "\n",
       "                       shop_name  \n",
       "0  !Якутск Орджоникидзе, 56 фран  \n",
       "1  !Якутск Орджоникидзе, 56 фран  "
      ]
     },
     "execution_count": 4,
     "metadata": {},
     "output_type": "execute_result"
    }
   ],
   "source": [
    "# Aggregate sales to monthly level\n",
    "train_master = train_test.groupby(['date_block_num', 'shop_id', 'item_id']).agg({'item_cnt_day': ['sum']})\n",
    "train_master.columns = ['item_cnt_sum']\n",
    "train_master.reset_index(inplace=True)\n",
    "train_master['item_cnt_sum'] = np.clip(train_master['item_cnt_sum'], 0, 20)\n",
    "\n",
    "# Attach the item_category_id, shop_id, shop_name columns\n",
    "train_master = train_master.merge(items[['item_id','item_category_id']], on='item_id', how='left')\n",
    "train_master = train_master.merge(shops, on='shop_id', how='left')\n",
    "train_master = train_master.merge(item_categories[['item_category_id']], on='item_category_id', how='left')\n",
    "\n",
    "train_master.head(2)"
   ]
  },
  {
   "cell_type": "markdown",
   "metadata": {},
   "source": [
    "Notice that we do not have all the (date_block_num, shop_id, item_id) pairs, if the sales = 0. Therefore, we need to fill in the missing pairs."
   ]
  },
  {
   "cell_type": "code",
   "execution_count": 5,
   "metadata": {},
   "outputs": [
    {
     "name": "stdout",
     "output_type": "stream",
     "text": [
      "(10913850, 3)\n"
     ]
    }
   ],
   "source": [
    "from itertools import product\n",
    "\n",
    "months = train_master[train_master.date_block_num <= 33]['date_block_num'].unique()\n",
    "\n",
    "cartesian = []\n",
    "for month in months:\n",
    "    shops_in_month = train_master.loc[train_master['date_block_num']==month, 'shop_id'].unique()\n",
    "    items_in_month = train_master.loc[train_master['date_block_num']==month, 'item_id'].unique()\n",
    "    cartesian.append(np.array(list(product(*[shops_in_month, items_in_month, [month]])), dtype='int32'))\n",
    "    \n",
    "cartesian_df = pd.DataFrame(np.vstack(cartesian), columns = ['shop_id', 'item_id', 'date_block_num'], dtype=np.int32)\n",
    "print(cartesian_df.shape)"
   ]
  },
  {
   "cell_type": "markdown",
   "metadata": {},
   "source": [
    "The generated cartesian_df dataframe will contain all the unique (shop_id, item_id, date_block_num) pairs"
   ]
  },
  {
   "cell_type": "markdown",
   "metadata": {},
   "source": [
    "Append the test set into the cartesian_df"
   ]
  },
  {
   "cell_type": "code",
   "execution_count": 6,
   "metadata": {},
   "outputs": [],
   "source": [
    "test['date_block_num'] = 34\n",
    "cartesian_df = cartesian_df.append(test.drop(columns=['ID']))"
   ]
  },
  {
   "cell_type": "markdown",
   "metadata": {},
   "source": [
    "We merge it back to the train dataframe and fill NaN with zeros to include zeros in the sales record"
   ]
  },
  {
   "cell_type": "code",
   "execution_count": 7,
   "metadata": {},
   "outputs": [
    {
     "data": {
      "text/html": [
       "<div>\n",
       "<style scoped>\n",
       "    .dataframe tbody tr th:only-of-type {\n",
       "        vertical-align: middle;\n",
       "    }\n",
       "\n",
       "    .dataframe tbody tr th {\n",
       "        vertical-align: top;\n",
       "    }\n",
       "\n",
       "    .dataframe thead th {\n",
       "        text-align: right;\n",
       "    }\n",
       "</style>\n",
       "<table border=\"1\" class=\"dataframe\">\n",
       "  <thead>\n",
       "    <tr style=\"text-align: right;\">\n",
       "      <th></th>\n",
       "      <th>shop_id</th>\n",
       "      <th>item_id</th>\n",
       "      <th>date_block_num</th>\n",
       "      <th>item_cnt_sum</th>\n",
       "    </tr>\n",
       "  </thead>\n",
       "  <tbody>\n",
       "    <tr>\n",
       "      <th>0</th>\n",
       "      <td>0</td>\n",
       "      <td>32</td>\n",
       "      <td>0</td>\n",
       "      <td>6.0</td>\n",
       "    </tr>\n",
       "    <tr>\n",
       "      <th>1</th>\n",
       "      <td>0</td>\n",
       "      <td>33</td>\n",
       "      <td>0</td>\n",
       "      <td>3.0</td>\n",
       "    </tr>\n",
       "    <tr>\n",
       "      <th>2</th>\n",
       "      <td>0</td>\n",
       "      <td>35</td>\n",
       "      <td>0</td>\n",
       "      <td>1.0</td>\n",
       "    </tr>\n",
       "    <tr>\n",
       "      <th>3</th>\n",
       "      <td>0</td>\n",
       "      <td>43</td>\n",
       "      <td>0</td>\n",
       "      <td>1.0</td>\n",
       "    </tr>\n",
       "    <tr>\n",
       "      <th>4</th>\n",
       "      <td>0</td>\n",
       "      <td>51</td>\n",
       "      <td>0</td>\n",
       "      <td>2.0</td>\n",
       "    </tr>\n",
       "  </tbody>\n",
       "</table>\n",
       "</div>"
      ],
      "text/plain": [
       "   shop_id  item_id  date_block_num  item_cnt_sum\n",
       "0        0       32               0           6.0\n",
       "1        0       33               0           3.0\n",
       "2        0       35               0           1.0\n",
       "3        0       43               0           1.0\n",
       "4        0       51               0           2.0"
      ]
     },
     "execution_count": 7,
     "metadata": {},
     "output_type": "execute_result"
    }
   ],
   "source": [
    "new_train = cartesian_df.merge(train_master[['date_block_num','shop_id', 'item_id','item_cnt_sum']], \n",
    "                               on=['date_block_num','shop_id','item_id'], how='left').fillna(0)\n",
    "new_train.head()"
   ]
  },
  {
   "cell_type": "markdown",
   "metadata": {},
   "source": [
    "Append feature columns and deduce the city feature from the shop name"
   ]
  },
  {
   "cell_type": "code",
   "execution_count": 8,
   "metadata": {},
   "outputs": [
    {
     "data": {
      "text/html": [
       "<div>\n",
       "<style scoped>\n",
       "    .dataframe tbody tr th:only-of-type {\n",
       "        vertical-align: middle;\n",
       "    }\n",
       "\n",
       "    .dataframe tbody tr th {\n",
       "        vertical-align: top;\n",
       "    }\n",
       "\n",
       "    .dataframe thead th {\n",
       "        text-align: right;\n",
       "    }\n",
       "</style>\n",
       "<table border=\"1\" class=\"dataframe\">\n",
       "  <thead>\n",
       "    <tr style=\"text-align: right;\">\n",
       "      <th></th>\n",
       "      <th>shop_id</th>\n",
       "      <th>item_id</th>\n",
       "      <th>date_block_num</th>\n",
       "      <th>item_cnt_sum</th>\n",
       "      <th>item_category_id</th>\n",
       "      <th>city</th>\n",
       "    </tr>\n",
       "  </thead>\n",
       "  <tbody>\n",
       "    <tr>\n",
       "      <th>0</th>\n",
       "      <td>0</td>\n",
       "      <td>32</td>\n",
       "      <td>0</td>\n",
       "      <td>6.0</td>\n",
       "      <td>40</td>\n",
       "      <td>!Якутск</td>\n",
       "    </tr>\n",
       "    <tr>\n",
       "      <th>1</th>\n",
       "      <td>0</td>\n",
       "      <td>33</td>\n",
       "      <td>0</td>\n",
       "      <td>3.0</td>\n",
       "      <td>37</td>\n",
       "      <td>!Якутск</td>\n",
       "    </tr>\n",
       "  </tbody>\n",
       "</table>\n",
       "</div>"
      ],
      "text/plain": [
       "   shop_id  item_id  date_block_num  item_cnt_sum  item_category_id     city\n",
       "0        0       32               0           6.0                40  !Якутск\n",
       "1        0       33               0           3.0                37  !Якутск"
      ]
     },
     "execution_count": 8,
     "metadata": {},
     "output_type": "execute_result"
    }
   ],
   "source": [
    "# Attach the item_category_id, shop_id, shop_name columns\n",
    "new_train = new_train.merge(items[['item_id','item_category_id']], on='item_id', how='left')\n",
    "new_train = new_train.merge(shops, on='shop_id', how='left')\n",
    "new_train = new_train.merge(item_categories[['item_category_id']], on='item_category_id', how='left')\n",
    "\n",
    "# find the city attribute from the first word of the shop name\n",
    "new_train['city'] = new_train['shop_name'].str.split(' ').map(lambda x : x[0])\n",
    "new_train.drop(columns=['shop_name'], inplace=True)\n",
    "new_train.reset_index(drop=True, inplace=True)\n",
    "\n",
    "new_train.head(2)"
   ]
  },
  {
   "cell_type": "markdown",
   "metadata": {},
   "source": [
    "### Add features: item_id related features <br>\n",
    "- item_id\n",
    "- shop_id\n",
    "- last 1, 2, 3, 6, 12 month's sale for the same item_id in the same shop_id\n",
    "- last 1, 2, 3, 6, 12 month's mean sale for the same item_id in all shops"
   ]
  },
  {
   "cell_type": "markdown",
   "metadata": {},
   "source": [
    "First create a function to add lag feature more easily"
   ]
  },
  {
   "cell_type": "code",
   "execution_count": 9,
   "metadata": {},
   "outputs": [],
   "source": [
    "def lag_feature(df, df_shift, lags, on, col):\n",
    "    tmp = df_shift[on + [col]]\n",
    "    for i in lags:\n",
    "        shifted = tmp.copy()\n",
    "        shifted.columns = on + [col+'_lag_'+str(i)]\n",
    "        shifted['date_block_num'] += i\n",
    "        df = df.merge(shifted, on=on, how='left')\n",
    "    return df"
   ]
  },
  {
   "cell_type": "markdown",
   "metadata": {},
   "source": [
    "Then, lag the target variable"
   ]
  },
  {
   "cell_type": "code",
   "execution_count": 10,
   "metadata": {},
   "outputs": [
    {
     "data": {
      "text/html": [
       "<div>\n",
       "<style scoped>\n",
       "    .dataframe tbody tr th:only-of-type {\n",
       "        vertical-align: middle;\n",
       "    }\n",
       "\n",
       "    .dataframe tbody tr th {\n",
       "        vertical-align: top;\n",
       "    }\n",
       "\n",
       "    .dataframe thead th {\n",
       "        text-align: right;\n",
       "    }\n",
       "</style>\n",
       "<table border=\"1\" class=\"dataframe\">\n",
       "  <thead>\n",
       "    <tr style=\"text-align: right;\">\n",
       "      <th></th>\n",
       "      <th>shop_id</th>\n",
       "      <th>item_id</th>\n",
       "      <th>date_block_num</th>\n",
       "      <th>item_cnt_sum</th>\n",
       "      <th>item_category_id</th>\n",
       "      <th>city</th>\n",
       "      <th>item_cnt_sum_lag_1</th>\n",
       "      <th>item_cnt_sum_lag_2</th>\n",
       "      <th>item_cnt_sum_lag_3</th>\n",
       "      <th>item_cnt_sum_lag_6</th>\n",
       "      <th>item_cnt_sum_lag_12</th>\n",
       "    </tr>\n",
       "  </thead>\n",
       "  <tbody>\n",
       "    <tr>\n",
       "      <th>0</th>\n",
       "      <td>0</td>\n",
       "      <td>32</td>\n",
       "      <td>0</td>\n",
       "      <td>6.0</td>\n",
       "      <td>40</td>\n",
       "      <td>!Якутск</td>\n",
       "      <td>NaN</td>\n",
       "      <td>NaN</td>\n",
       "      <td>NaN</td>\n",
       "      <td>NaN</td>\n",
       "      <td>NaN</td>\n",
       "    </tr>\n",
       "    <tr>\n",
       "      <th>1</th>\n",
       "      <td>0</td>\n",
       "      <td>33</td>\n",
       "      <td>0</td>\n",
       "      <td>3.0</td>\n",
       "      <td>37</td>\n",
       "      <td>!Якутск</td>\n",
       "      <td>NaN</td>\n",
       "      <td>NaN</td>\n",
       "      <td>NaN</td>\n",
       "      <td>NaN</td>\n",
       "      <td>NaN</td>\n",
       "    </tr>\n",
       "  </tbody>\n",
       "</table>\n",
       "</div>"
      ],
      "text/plain": [
       "   shop_id  item_id  date_block_num  item_cnt_sum  item_category_id     city  \\\n",
       "0        0       32               0           6.0                40  !Якутск   \n",
       "1        0       33               0           3.0                37  !Якутск   \n",
       "\n",
       "   item_cnt_sum_lag_1  item_cnt_sum_lag_2  item_cnt_sum_lag_3  \\\n",
       "0                 NaN                 NaN                 NaN   \n",
       "1                 NaN                 NaN                 NaN   \n",
       "\n",
       "   item_cnt_sum_lag_6  item_cnt_sum_lag_12  \n",
       "0                 NaN                  NaN  \n",
       "1                 NaN                  NaN  "
      ]
     },
     "execution_count": 10,
     "metadata": {},
     "output_type": "execute_result"
    }
   ],
   "source": [
    "new_train = lag_feature(new_train, new_train, lags=[1,2,3,6,12], on=['date_block_num','shop_id','item_id'], col='item_cnt_sum')\n",
    "new_train.head(2)"
   ]
  },
  {
   "cell_type": "markdown",
   "metadata": {},
   "source": [
    "To lag the mean item_cnt_sum for the same item_id over all shops, we first compute the average and then lag"
   ]
  },
  {
   "cell_type": "code",
   "execution_count": 11,
   "metadata": {},
   "outputs": [
    {
     "data": {
      "text/html": [
       "<div>\n",
       "<style scoped>\n",
       "    .dataframe tbody tr th:only-of-type {\n",
       "        vertical-align: middle;\n",
       "    }\n",
       "\n",
       "    .dataframe tbody tr th {\n",
       "        vertical-align: top;\n",
       "    }\n",
       "\n",
       "    .dataframe thead th {\n",
       "        text-align: right;\n",
       "    }\n",
       "</style>\n",
       "<table border=\"1\" class=\"dataframe\">\n",
       "  <thead>\n",
       "    <tr style=\"text-align: right;\">\n",
       "      <th></th>\n",
       "      <th>shop_id</th>\n",
       "      <th>item_id</th>\n",
       "      <th>date_block_num</th>\n",
       "      <th>item_cnt_sum</th>\n",
       "      <th>item_category_id</th>\n",
       "      <th>city</th>\n",
       "      <th>item_cnt_sum_lag_1</th>\n",
       "      <th>item_cnt_sum_lag_2</th>\n",
       "      <th>item_cnt_sum_lag_3</th>\n",
       "      <th>item_cnt_sum_lag_6</th>\n",
       "      <th>item_cnt_sum_lag_12</th>\n",
       "      <th>item_cnt_sum_avg_by_shop_lag_1</th>\n",
       "      <th>item_cnt_sum_avg_by_shop_lag_2</th>\n",
       "      <th>item_cnt_sum_avg_by_shop_lag_3</th>\n",
       "      <th>item_cnt_sum_avg_by_shop_lag_6</th>\n",
       "      <th>item_cnt_sum_avg_by_shop_lag_12</th>\n",
       "    </tr>\n",
       "  </thead>\n",
       "  <tbody>\n",
       "    <tr>\n",
       "      <th>0</th>\n",
       "      <td>0</td>\n",
       "      <td>32</td>\n",
       "      <td>0</td>\n",
       "      <td>6.0</td>\n",
       "      <td>40</td>\n",
       "      <td>!Якутск</td>\n",
       "      <td>NaN</td>\n",
       "      <td>NaN</td>\n",
       "      <td>NaN</td>\n",
       "      <td>NaN</td>\n",
       "      <td>NaN</td>\n",
       "      <td>NaN</td>\n",
       "      <td>NaN</td>\n",
       "      <td>NaN</td>\n",
       "      <td>NaN</td>\n",
       "      <td>NaN</td>\n",
       "    </tr>\n",
       "    <tr>\n",
       "      <th>1</th>\n",
       "      <td>0</td>\n",
       "      <td>33</td>\n",
       "      <td>0</td>\n",
       "      <td>3.0</td>\n",
       "      <td>37</td>\n",
       "      <td>!Якутск</td>\n",
       "      <td>NaN</td>\n",
       "      <td>NaN</td>\n",
       "      <td>NaN</td>\n",
       "      <td>NaN</td>\n",
       "      <td>NaN</td>\n",
       "      <td>NaN</td>\n",
       "      <td>NaN</td>\n",
       "      <td>NaN</td>\n",
       "      <td>NaN</td>\n",
       "      <td>NaN</td>\n",
       "    </tr>\n",
       "  </tbody>\n",
       "</table>\n",
       "</div>"
      ],
      "text/plain": [
       "   shop_id  item_id  date_block_num  item_cnt_sum  item_category_id     city  \\\n",
       "0        0       32               0           6.0                40  !Якутск   \n",
       "1        0       33               0           3.0                37  !Якутск   \n",
       "\n",
       "   item_cnt_sum_lag_1  item_cnt_sum_lag_2  item_cnt_sum_lag_3  \\\n",
       "0                 NaN                 NaN                 NaN   \n",
       "1                 NaN                 NaN                 NaN   \n",
       "\n",
       "   item_cnt_sum_lag_6  item_cnt_sum_lag_12  item_cnt_sum_avg_by_shop_lag_1  \\\n",
       "0                 NaN                  NaN                             NaN   \n",
       "1                 NaN                  NaN                             NaN   \n",
       "\n",
       "   item_cnt_sum_avg_by_shop_lag_2  item_cnt_sum_avg_by_shop_lag_3  \\\n",
       "0                             NaN                             NaN   \n",
       "1                             NaN                             NaN   \n",
       "\n",
       "   item_cnt_sum_avg_by_shop_lag_6  item_cnt_sum_avg_by_shop_lag_12  \n",
       "0                             NaN                              NaN  \n",
       "1                             NaN                              NaN  "
      ]
     },
     "execution_count": 11,
     "metadata": {},
     "output_type": "execute_result"
    }
   ],
   "source": [
    "df = train_master.groupby(['date_block_num', 'item_id']).agg({'item_cnt_sum':['mean']})\n",
    "df.columns = ['item_cnt_sum_avg_by_shop']\n",
    "df.reset_index(inplace=True)\n",
    "\n",
    "new_train = lag_feature(new_train, df, lags=[1,2,3,6,12], on=['date_block_num','item_id'], col='item_cnt_sum_avg_by_shop')\n",
    "new_train.head(2)"
   ]
  },
  {
   "cell_type": "markdown",
   "metadata": {},
   "source": [
    "### Add features: Categorical related features <br>\n",
    "- item_category_id\n",
    "- last 1, 2, 3, 6, 12 months' sale for items with the same item_category_id in the same shop\n",
    "- last 1, 2, 3, 6, 12 months' sale for items with the same item_category_id averaged among all shops"
   ]
  },
  {
   "cell_type": "code",
   "execution_count": 12,
   "metadata": {},
   "outputs": [
    {
     "data": {
      "text/html": [
       "<div>\n",
       "<style scoped>\n",
       "    .dataframe tbody tr th:only-of-type {\n",
       "        vertical-align: middle;\n",
       "    }\n",
       "\n",
       "    .dataframe tbody tr th {\n",
       "        vertical-align: top;\n",
       "    }\n",
       "\n",
       "    .dataframe thead th {\n",
       "        text-align: right;\n",
       "    }\n",
       "</style>\n",
       "<table border=\"1\" class=\"dataframe\">\n",
       "  <thead>\n",
       "    <tr style=\"text-align: right;\">\n",
       "      <th></th>\n",
       "      <th>shop_id</th>\n",
       "      <th>item_id</th>\n",
       "      <th>date_block_num</th>\n",
       "      <th>item_cnt_sum</th>\n",
       "      <th>item_category_id</th>\n",
       "      <th>city</th>\n",
       "      <th>item_cnt_sum_lag_1</th>\n",
       "      <th>item_cnt_sum_lag_2</th>\n",
       "      <th>item_cnt_sum_lag_3</th>\n",
       "      <th>item_cnt_sum_lag_6</th>\n",
       "      <th>...</th>\n",
       "      <th>item_cnt_sum_avg_by_shop_lag_1</th>\n",
       "      <th>item_cnt_sum_avg_by_shop_lag_2</th>\n",
       "      <th>item_cnt_sum_avg_by_shop_lag_3</th>\n",
       "      <th>item_cnt_sum_avg_by_shop_lag_6</th>\n",
       "      <th>item_cnt_sum_avg_by_shop_lag_12</th>\n",
       "      <th>item_cnt_sum_avg_by_cat_lag_1</th>\n",
       "      <th>item_cnt_sum_avg_by_cat_lag_2</th>\n",
       "      <th>item_cnt_sum_avg_by_cat_lag_3</th>\n",
       "      <th>item_cnt_sum_avg_by_cat_lag_6</th>\n",
       "      <th>item_cnt_sum_avg_by_cat_lag_12</th>\n",
       "    </tr>\n",
       "  </thead>\n",
       "  <tbody>\n",
       "    <tr>\n",
       "      <th>0</th>\n",
       "      <td>0</td>\n",
       "      <td>32</td>\n",
       "      <td>0</td>\n",
       "      <td>6.0</td>\n",
       "      <td>40</td>\n",
       "      <td>!Якутск</td>\n",
       "      <td>NaN</td>\n",
       "      <td>NaN</td>\n",
       "      <td>NaN</td>\n",
       "      <td>NaN</td>\n",
       "      <td>...</td>\n",
       "      <td>NaN</td>\n",
       "      <td>NaN</td>\n",
       "      <td>NaN</td>\n",
       "      <td>NaN</td>\n",
       "      <td>NaN</td>\n",
       "      <td>NaN</td>\n",
       "      <td>NaN</td>\n",
       "      <td>NaN</td>\n",
       "      <td>NaN</td>\n",
       "      <td>NaN</td>\n",
       "    </tr>\n",
       "    <tr>\n",
       "      <th>1</th>\n",
       "      <td>0</td>\n",
       "      <td>33</td>\n",
       "      <td>0</td>\n",
       "      <td>3.0</td>\n",
       "      <td>37</td>\n",
       "      <td>!Якутск</td>\n",
       "      <td>NaN</td>\n",
       "      <td>NaN</td>\n",
       "      <td>NaN</td>\n",
       "      <td>NaN</td>\n",
       "      <td>...</td>\n",
       "      <td>NaN</td>\n",
       "      <td>NaN</td>\n",
       "      <td>NaN</td>\n",
       "      <td>NaN</td>\n",
       "      <td>NaN</td>\n",
       "      <td>NaN</td>\n",
       "      <td>NaN</td>\n",
       "      <td>NaN</td>\n",
       "      <td>NaN</td>\n",
       "      <td>NaN</td>\n",
       "    </tr>\n",
       "  </tbody>\n",
       "</table>\n",
       "<p>2 rows × 21 columns</p>\n",
       "</div>"
      ],
      "text/plain": [
       "   shop_id  item_id  date_block_num  item_cnt_sum  item_category_id     city  \\\n",
       "0        0       32               0           6.0                40  !Якутск   \n",
       "1        0       33               0           3.0                37  !Якутск   \n",
       "\n",
       "   item_cnt_sum_lag_1  item_cnt_sum_lag_2  item_cnt_sum_lag_3  \\\n",
       "0                 NaN                 NaN                 NaN   \n",
       "1                 NaN                 NaN                 NaN   \n",
       "\n",
       "   item_cnt_sum_lag_6               ...                \\\n",
       "0                 NaN               ...                 \n",
       "1                 NaN               ...                 \n",
       "\n",
       "   item_cnt_sum_avg_by_shop_lag_1  item_cnt_sum_avg_by_shop_lag_2  \\\n",
       "0                             NaN                             NaN   \n",
       "1                             NaN                             NaN   \n",
       "\n",
       "   item_cnt_sum_avg_by_shop_lag_3  item_cnt_sum_avg_by_shop_lag_6  \\\n",
       "0                             NaN                             NaN   \n",
       "1                             NaN                             NaN   \n",
       "\n",
       "   item_cnt_sum_avg_by_shop_lag_12  item_cnt_sum_avg_by_cat_lag_1  \\\n",
       "0                              NaN                            NaN   \n",
       "1                              NaN                            NaN   \n",
       "\n",
       "   item_cnt_sum_avg_by_cat_lag_2  item_cnt_sum_avg_by_cat_lag_3  \\\n",
       "0                            NaN                            NaN   \n",
       "1                            NaN                            NaN   \n",
       "\n",
       "   item_cnt_sum_avg_by_cat_lag_6  item_cnt_sum_avg_by_cat_lag_12  \n",
       "0                            NaN                             NaN  \n",
       "1                            NaN                             NaN  \n",
       "\n",
       "[2 rows x 21 columns]"
      ]
     },
     "execution_count": 12,
     "metadata": {},
     "output_type": "execute_result"
    }
   ],
   "source": [
    "df = train_master.groupby(['date_block_num', 'shop_id', 'item_category_id']).agg({'item_cnt_sum':['mean']})\n",
    "df.columns = ['item_cnt_sum_avg_by_cat']\n",
    "df.reset_index(inplace=True)\n",
    "\n",
    "new_train = lag_feature(new_train, df, lags=[1,2,3,6,12], \n",
    "                        on=['date_block_num','shop_id','item_category_id'], col='item_cnt_sum_avg_by_cat')\n",
    "new_train.head(2)"
   ]
  },
  {
   "cell_type": "code",
   "execution_count": 13,
   "metadata": {},
   "outputs": [
    {
     "data": {
      "text/html": [
       "<div>\n",
       "<style scoped>\n",
       "    .dataframe tbody tr th:only-of-type {\n",
       "        vertical-align: middle;\n",
       "    }\n",
       "\n",
       "    .dataframe tbody tr th {\n",
       "        vertical-align: top;\n",
       "    }\n",
       "\n",
       "    .dataframe thead th {\n",
       "        text-align: right;\n",
       "    }\n",
       "</style>\n",
       "<table border=\"1\" class=\"dataframe\">\n",
       "  <thead>\n",
       "    <tr style=\"text-align: right;\">\n",
       "      <th></th>\n",
       "      <th>shop_id</th>\n",
       "      <th>item_id</th>\n",
       "      <th>date_block_num</th>\n",
       "      <th>item_cnt_sum</th>\n",
       "      <th>item_category_id</th>\n",
       "      <th>city</th>\n",
       "      <th>item_cnt_sum_lag_1</th>\n",
       "      <th>item_cnt_sum_lag_2</th>\n",
       "      <th>item_cnt_sum_lag_3</th>\n",
       "      <th>item_cnt_sum_lag_6</th>\n",
       "      <th>...</th>\n",
       "      <th>item_cnt_sum_avg_by_cat_lag_1</th>\n",
       "      <th>item_cnt_sum_avg_by_cat_lag_2</th>\n",
       "      <th>item_cnt_sum_avg_by_cat_lag_3</th>\n",
       "      <th>item_cnt_sum_avg_by_cat_lag_6</th>\n",
       "      <th>item_cnt_sum_avg_by_cat_lag_12</th>\n",
       "      <th>item_cnt_sum_avg_by_cat_by_shop_lag_1</th>\n",
       "      <th>item_cnt_sum_avg_by_cat_by_shop_lag_2</th>\n",
       "      <th>item_cnt_sum_avg_by_cat_by_shop_lag_3</th>\n",
       "      <th>item_cnt_sum_avg_by_cat_by_shop_lag_6</th>\n",
       "      <th>item_cnt_sum_avg_by_cat_by_shop_lag_12</th>\n",
       "    </tr>\n",
       "  </thead>\n",
       "  <tbody>\n",
       "    <tr>\n",
       "      <th>0</th>\n",
       "      <td>0</td>\n",
       "      <td>32</td>\n",
       "      <td>0</td>\n",
       "      <td>6.0</td>\n",
       "      <td>40</td>\n",
       "      <td>!Якутск</td>\n",
       "      <td>NaN</td>\n",
       "      <td>NaN</td>\n",
       "      <td>NaN</td>\n",
       "      <td>NaN</td>\n",
       "      <td>...</td>\n",
       "      <td>NaN</td>\n",
       "      <td>NaN</td>\n",
       "      <td>NaN</td>\n",
       "      <td>NaN</td>\n",
       "      <td>NaN</td>\n",
       "      <td>NaN</td>\n",
       "      <td>NaN</td>\n",
       "      <td>NaN</td>\n",
       "      <td>NaN</td>\n",
       "      <td>NaN</td>\n",
       "    </tr>\n",
       "    <tr>\n",
       "      <th>1</th>\n",
       "      <td>0</td>\n",
       "      <td>33</td>\n",
       "      <td>0</td>\n",
       "      <td>3.0</td>\n",
       "      <td>37</td>\n",
       "      <td>!Якутск</td>\n",
       "      <td>NaN</td>\n",
       "      <td>NaN</td>\n",
       "      <td>NaN</td>\n",
       "      <td>NaN</td>\n",
       "      <td>...</td>\n",
       "      <td>NaN</td>\n",
       "      <td>NaN</td>\n",
       "      <td>NaN</td>\n",
       "      <td>NaN</td>\n",
       "      <td>NaN</td>\n",
       "      <td>NaN</td>\n",
       "      <td>NaN</td>\n",
       "      <td>NaN</td>\n",
       "      <td>NaN</td>\n",
       "      <td>NaN</td>\n",
       "    </tr>\n",
       "  </tbody>\n",
       "</table>\n",
       "<p>2 rows × 26 columns</p>\n",
       "</div>"
      ],
      "text/plain": [
       "   shop_id  item_id  date_block_num  item_cnt_sum  item_category_id     city  \\\n",
       "0        0       32               0           6.0                40  !Якутск   \n",
       "1        0       33               0           3.0                37  !Якутск   \n",
       "\n",
       "   item_cnt_sum_lag_1  item_cnt_sum_lag_2  item_cnt_sum_lag_3  \\\n",
       "0                 NaN                 NaN                 NaN   \n",
       "1                 NaN                 NaN                 NaN   \n",
       "\n",
       "   item_cnt_sum_lag_6                   ...                    \\\n",
       "0                 NaN                   ...                     \n",
       "1                 NaN                   ...                     \n",
       "\n",
       "   item_cnt_sum_avg_by_cat_lag_1  item_cnt_sum_avg_by_cat_lag_2  \\\n",
       "0                            NaN                            NaN   \n",
       "1                            NaN                            NaN   \n",
       "\n",
       "   item_cnt_sum_avg_by_cat_lag_3  item_cnt_sum_avg_by_cat_lag_6  \\\n",
       "0                            NaN                            NaN   \n",
       "1                            NaN                            NaN   \n",
       "\n",
       "   item_cnt_sum_avg_by_cat_lag_12  item_cnt_sum_avg_by_cat_by_shop_lag_1  \\\n",
       "0                             NaN                                    NaN   \n",
       "1                             NaN                                    NaN   \n",
       "\n",
       "   item_cnt_sum_avg_by_cat_by_shop_lag_2  \\\n",
       "0                                    NaN   \n",
       "1                                    NaN   \n",
       "\n",
       "   item_cnt_sum_avg_by_cat_by_shop_lag_3  \\\n",
       "0                                    NaN   \n",
       "1                                    NaN   \n",
       "\n",
       "   item_cnt_sum_avg_by_cat_by_shop_lag_6  \\\n",
       "0                                    NaN   \n",
       "1                                    NaN   \n",
       "\n",
       "   item_cnt_sum_avg_by_cat_by_shop_lag_12  \n",
       "0                                     NaN  \n",
       "1                                     NaN  \n",
       "\n",
       "[2 rows x 26 columns]"
      ]
     },
     "execution_count": 13,
     "metadata": {},
     "output_type": "execute_result"
    }
   ],
   "source": [
    "df = train_master.groupby(['date_block_num', 'item_category_id']).agg({'item_cnt_sum':['mean']})\n",
    "df.columns = ['item_cnt_sum_avg_by_cat_by_shop']\n",
    "df.reset_index(inplace=True)\n",
    "\n",
    "new_train = lag_feature(new_train, df, lags=[1,2,3,6,12], \n",
    "                        on=['date_block_num','item_category_id'], col='item_cnt_sum_avg_by_cat_by_shop')\n",
    "new_train.head(2)"
   ]
  },
  {
   "cell_type": "markdown",
   "metadata": {},
   "source": [
    "### Add features: month and city label"
   ]
  },
  {
   "cell_type": "markdown",
   "metadata": {},
   "source": [
    "Add a month feature"
   ]
  },
  {
   "cell_type": "code",
   "execution_count": 14,
   "metadata": {},
   "outputs": [],
   "source": [
    "new_train['month'] = new_train['date_block_num'] % 12"
   ]
  },
  {
   "cell_type": "markdown",
   "metadata": {},
   "source": [
    "Label encode the categorical variables"
   ]
  },
  {
   "cell_type": "code",
   "execution_count": 15,
   "metadata": {},
   "outputs": [
    {
     "data": {
      "text/html": [
       "<div>\n",
       "<style scoped>\n",
       "    .dataframe tbody tr th:only-of-type {\n",
       "        vertical-align: middle;\n",
       "    }\n",
       "\n",
       "    .dataframe tbody tr th {\n",
       "        vertical-align: top;\n",
       "    }\n",
       "\n",
       "    .dataframe thead th {\n",
       "        text-align: right;\n",
       "    }\n",
       "</style>\n",
       "<table border=\"1\" class=\"dataframe\">\n",
       "  <thead>\n",
       "    <tr style=\"text-align: right;\">\n",
       "      <th></th>\n",
       "      <th>shop_id</th>\n",
       "      <th>item_id</th>\n",
       "      <th>date_block_num</th>\n",
       "      <th>item_cnt_sum</th>\n",
       "      <th>item_category_id</th>\n",
       "      <th>item_cnt_sum_lag_1</th>\n",
       "      <th>item_cnt_sum_lag_2</th>\n",
       "      <th>item_cnt_sum_lag_3</th>\n",
       "      <th>item_cnt_sum_lag_6</th>\n",
       "      <th>item_cnt_sum_lag_12</th>\n",
       "      <th>...</th>\n",
       "      <th>item_cnt_sum_avg_by_cat_lag_3</th>\n",
       "      <th>item_cnt_sum_avg_by_cat_lag_6</th>\n",
       "      <th>item_cnt_sum_avg_by_cat_lag_12</th>\n",
       "      <th>item_cnt_sum_avg_by_cat_by_shop_lag_1</th>\n",
       "      <th>item_cnt_sum_avg_by_cat_by_shop_lag_2</th>\n",
       "      <th>item_cnt_sum_avg_by_cat_by_shop_lag_3</th>\n",
       "      <th>item_cnt_sum_avg_by_cat_by_shop_lag_6</th>\n",
       "      <th>item_cnt_sum_avg_by_cat_by_shop_lag_12</th>\n",
       "      <th>month</th>\n",
       "      <th>city_label</th>\n",
       "    </tr>\n",
       "  </thead>\n",
       "  <tbody>\n",
       "    <tr>\n",
       "      <th>0</th>\n",
       "      <td>0</td>\n",
       "      <td>32</td>\n",
       "      <td>0</td>\n",
       "      <td>6.0</td>\n",
       "      <td>40</td>\n",
       "      <td>NaN</td>\n",
       "      <td>NaN</td>\n",
       "      <td>NaN</td>\n",
       "      <td>NaN</td>\n",
       "      <td>NaN</td>\n",
       "      <td>...</td>\n",
       "      <td>NaN</td>\n",
       "      <td>NaN</td>\n",
       "      <td>NaN</td>\n",
       "      <td>NaN</td>\n",
       "      <td>NaN</td>\n",
       "      <td>NaN</td>\n",
       "      <td>NaN</td>\n",
       "      <td>NaN</td>\n",
       "      <td>0</td>\n",
       "      <td>0</td>\n",
       "    </tr>\n",
       "    <tr>\n",
       "      <th>1</th>\n",
       "      <td>0</td>\n",
       "      <td>33</td>\n",
       "      <td>0</td>\n",
       "      <td>3.0</td>\n",
       "      <td>37</td>\n",
       "      <td>NaN</td>\n",
       "      <td>NaN</td>\n",
       "      <td>NaN</td>\n",
       "      <td>NaN</td>\n",
       "      <td>NaN</td>\n",
       "      <td>...</td>\n",
       "      <td>NaN</td>\n",
       "      <td>NaN</td>\n",
       "      <td>NaN</td>\n",
       "      <td>NaN</td>\n",
       "      <td>NaN</td>\n",
       "      <td>NaN</td>\n",
       "      <td>NaN</td>\n",
       "      <td>NaN</td>\n",
       "      <td>0</td>\n",
       "      <td>0</td>\n",
       "    </tr>\n",
       "  </tbody>\n",
       "</table>\n",
       "<p>2 rows × 27 columns</p>\n",
       "</div>"
      ],
      "text/plain": [
       "   shop_id  item_id  date_block_num  item_cnt_sum  item_category_id  \\\n",
       "0        0       32               0           6.0                40   \n",
       "1        0       33               0           3.0                37   \n",
       "\n",
       "   item_cnt_sum_lag_1  item_cnt_sum_lag_2  item_cnt_sum_lag_3  \\\n",
       "0                 NaN                 NaN                 NaN   \n",
       "1                 NaN                 NaN                 NaN   \n",
       "\n",
       "   item_cnt_sum_lag_6  item_cnt_sum_lag_12     ...      \\\n",
       "0                 NaN                  NaN     ...       \n",
       "1                 NaN                  NaN     ...       \n",
       "\n",
       "   item_cnt_sum_avg_by_cat_lag_3  item_cnt_sum_avg_by_cat_lag_6  \\\n",
       "0                            NaN                            NaN   \n",
       "1                            NaN                            NaN   \n",
       "\n",
       "   item_cnt_sum_avg_by_cat_lag_12  item_cnt_sum_avg_by_cat_by_shop_lag_1  \\\n",
       "0                             NaN                                    NaN   \n",
       "1                             NaN                                    NaN   \n",
       "\n",
       "   item_cnt_sum_avg_by_cat_by_shop_lag_2  \\\n",
       "0                                    NaN   \n",
       "1                                    NaN   \n",
       "\n",
       "   item_cnt_sum_avg_by_cat_by_shop_lag_3  \\\n",
       "0                                    NaN   \n",
       "1                                    NaN   \n",
       "\n",
       "   item_cnt_sum_avg_by_cat_by_shop_lag_6  \\\n",
       "0                                    NaN   \n",
       "1                                    NaN   \n",
       "\n",
       "   item_cnt_sum_avg_by_cat_by_shop_lag_12  month  city_label  \n",
       "0                                     NaN      0           0  \n",
       "1                                     NaN      0           0  \n",
       "\n",
       "[2 rows x 27 columns]"
      ]
     },
     "execution_count": 15,
     "metadata": {},
     "output_type": "execute_result"
    }
   ],
   "source": [
    "from sklearn import preprocessing\n",
    "\n",
    "le = preprocessing.LabelEncoder()\n",
    "new_train['city_label'] = le.fit_transform(new_train['city'])\n",
    "new_train.drop(['city'], axis = 1, inplace=True)\n",
    "new_train.head(2)"
   ]
  },
  {
   "cell_type": "code",
   "execution_count": 16,
   "metadata": {},
   "outputs": [],
   "source": [
    "new_train.to_pickle('train_test.pkl')"
   ]
  },
  {
   "cell_type": "markdown",
   "metadata": {},
   "source": [
    "## Build an XGBoost Model"
   ]
  },
  {
   "cell_type": "markdown",
   "metadata": {},
   "source": [
    "Training set and evaluation set split: <br>\n",
    "- training set: date_block_num in range(12, 33)\n",
    "- validation set: date_block_num == 33\n",
    "- test set: date_block_num == 34"
   ]
  },
  {
   "cell_type": "code",
   "execution_count": 17,
   "metadata": {},
   "outputs": [],
   "source": [
    "x_train = new_train[(new_train.date_block_num >= 12) & (new_train.date_block_num <= 32)]\n",
    "x_val = new_train[new_train.date_block_num == 33]\n",
    "x_test = new_train[new_train.date_block_num == 34]\n",
    "\n",
    "y_train = x_train[['item_cnt_sum']]\n",
    "y_val = x_val[['item_cnt_sum']]\n",
    "\n",
    "x_train = x_train.drop(columns=['item_cnt_sum'])\n",
    "x_val = x_val.drop(columns=['item_cnt_sum'])\n",
    "x_test = x_test.drop(columns=['item_cnt_sum'])"
   ]
  },
  {
   "cell_type": "markdown",
   "metadata": {},
   "source": [
    "Check NaN values. They are essentially zero values (no lag sales record), so let's fill them with zeros"
   ]
  },
  {
   "cell_type": "code",
   "execution_count": 18,
   "metadata": {
    "scrolled": false
   },
   "outputs": [
    {
     "data": {
      "text/plain": [
       "shop_id                                         0\n",
       "item_id                                         0\n",
       "date_block_num                                  0\n",
       "item_category_id                                0\n",
       "item_cnt_sum_lag_1                        1288325\n",
       "item_cnt_sum_lag_2                        1469215\n",
       "item_cnt_sum_lag_3                        1658858\n",
       "item_cnt_sum_lag_6                        2201695\n",
       "item_cnt_sum_lag_12                       3280022\n",
       "item_cnt_sum_avg_by_shop_lag_1            1233344\n",
       "item_cnt_sum_avg_by_shop_lag_2            1388201\n",
       "item_cnt_sum_avg_by_shop_lag_3            1550066\n",
       "item_cnt_sum_avg_by_shop_lag_6            2029876\n",
       "item_cnt_sum_avg_by_shop_lag_12           2997070\n",
       "item_cnt_sum_avg_by_cat_lag_1             1041911\n",
       "item_cnt_sum_avg_by_cat_lag_2             1071368\n",
       "item_cnt_sum_avg_by_cat_lag_3             1107928\n",
       "item_cnt_sum_avg_by_cat_lag_6             1214648\n",
       "item_cnt_sum_avg_by_cat_lag_12            1472286\n",
       "item_cnt_sum_avg_by_cat_by_shop_lag_1        4705\n",
       "item_cnt_sum_avg_by_cat_by_shop_lag_2        9755\n",
       "item_cnt_sum_avg_by_cat_by_shop_lag_3       17012\n",
       "item_cnt_sum_avg_by_cat_by_shop_lag_6       44833\n",
       "item_cnt_sum_avg_by_cat_by_shop_lag_12     164220\n",
       "month                                           0\n",
       "city_label                                      0\n",
       "dtype: int64"
      ]
     },
     "execution_count": 18,
     "metadata": {},
     "output_type": "execute_result"
    }
   ],
   "source": [
    "x_train.isna().sum()"
   ]
  },
  {
   "cell_type": "code",
   "execution_count": 19,
   "metadata": {},
   "outputs": [
    {
     "data": {
      "text/plain": [
       "shop_id                                        0\n",
       "item_id                                        0\n",
       "date_block_num                                 0\n",
       "item_category_id                               0\n",
       "item_cnt_sum_lag_1                         72491\n",
       "item_cnt_sum_lag_2                         79625\n",
       "item_cnt_sum_lag_3                         85775\n",
       "item_cnt_sum_lag_6                         98690\n",
       "item_cnt_sum_lag_12                       125555\n",
       "item_cnt_sum_avg_by_shop_lag_1             60368\n",
       "item_cnt_sum_avg_by_shop_lag_2             68024\n",
       "item_cnt_sum_avg_by_shop_lag_3             74624\n",
       "item_cnt_sum_avg_by_shop_lag_6             92048\n",
       "item_cnt_sum_avg_by_shop_lag_12           122936\n",
       "item_cnt_sum_avg_by_cat_lag_1              56776\n",
       "item_cnt_sum_avg_by_cat_lag_2              57253\n",
       "item_cnt_sum_avg_by_cat_lag_3              56868\n",
       "item_cnt_sum_avg_by_cat_lag_6              59495\n",
       "item_cnt_sum_avg_by_cat_lag_12             58665\n",
       "item_cnt_sum_avg_by_cat_by_shop_lag_1         44\n",
       "item_cnt_sum_avg_by_cat_by_shop_lag_2          0\n",
       "item_cnt_sum_avg_by_cat_by_shop_lag_3        176\n",
       "item_cnt_sum_avg_by_cat_by_shop_lag_6        176\n",
       "item_cnt_sum_avg_by_cat_by_shop_lag_12      6248\n",
       "month                                          0\n",
       "city_label                                     0\n",
       "dtype: int64"
      ]
     },
     "execution_count": 19,
     "metadata": {},
     "output_type": "execute_result"
    }
   ],
   "source": [
    "x_val.isna().sum()"
   ]
  },
  {
   "cell_type": "code",
   "execution_count": 20,
   "metadata": {},
   "outputs": [
    {
     "data": {
      "text/plain": [
       "shop_id                                        0\n",
       "item_id                                        0\n",
       "date_block_num                                 0\n",
       "item_category_id                               0\n",
       "item_cnt_sum_lag_1                         46578\n",
       "item_cnt_sum_lag_2                         65247\n",
       "item_cnt_sum_lag_3                         72504\n",
       "item_cnt_sum_lag_6                         89519\n",
       "item_cnt_sum_lag_12                       112807\n",
       "item_cnt_sum_avg_by_shop_lag_1             46578\n",
       "item_cnt_sum_avg_by_shop_lag_2             61614\n",
       "item_cnt_sum_avg_by_shop_lag_3             69048\n",
       "item_cnt_sum_avg_by_shop_lag_6             86478\n",
       "item_cnt_sum_avg_by_shop_lag_12           110334\n",
       "item_cnt_sum_avg_by_cat_lag_1              35063\n",
       "item_cnt_sum_avg_by_cat_lag_2              40426\n",
       "item_cnt_sum_avg_by_cat_lag_3              41480\n",
       "item_cnt_sum_avg_by_cat_lag_6              46319\n",
       "item_cnt_sum_avg_by_cat_lag_12             44716\n",
       "item_cnt_sum_avg_by_cat_by_shop_lag_1         42\n",
       "item_cnt_sum_avg_by_cat_by_shop_lag_2         84\n",
       "item_cnt_sum_avg_by_cat_by_shop_lag_3         42\n",
       "item_cnt_sum_avg_by_cat_by_shop_lag_6        126\n",
       "item_cnt_sum_avg_by_cat_by_shop_lag_12      7014\n",
       "month                                          0\n",
       "city_label                                     0\n",
       "dtype: int64"
      ]
     },
     "execution_count": 20,
     "metadata": {},
     "output_type": "execute_result"
    }
   ],
   "source": [
    "x_test.isna().sum()"
   ]
  },
  {
   "cell_type": "code",
   "execution_count": 21,
   "metadata": {},
   "outputs": [
    {
     "data": {
      "text/plain": [
       "item_cnt_sum    0\n",
       "dtype: int64"
      ]
     },
     "execution_count": 21,
     "metadata": {},
     "output_type": "execute_result"
    }
   ],
   "source": [
    "y_train.isna().sum()"
   ]
  },
  {
   "cell_type": "code",
   "execution_count": 22,
   "metadata": {},
   "outputs": [
    {
     "data": {
      "text/plain": [
       "item_cnt_sum    0\n",
       "dtype: int64"
      ]
     },
     "execution_count": 22,
     "metadata": {},
     "output_type": "execute_result"
    }
   ],
   "source": [
    "y_val.isna().sum()"
   ]
  },
  {
   "cell_type": "code",
   "execution_count": 23,
   "metadata": {},
   "outputs": [],
   "source": [
    "x_train = x_train.fillna(0.0)\n",
    "x_val = x_val.fillna(0.0)\n",
    "x_test = x_test.fillna(0.0)"
   ]
  },
  {
   "cell_type": "markdown",
   "metadata": {},
   "source": [
    "Let's try an XGBoost model!"
   ]
  },
  {
   "cell_type": "code",
   "execution_count": 24,
   "metadata": {},
   "outputs": [
    {
     "name": "stdout",
     "output_type": "stream",
     "text": [
      "[09:08:42] Tree method is automatically selected to be 'approx' for faster speed. to use old behavior(exact greedy algorithm on single machine), set tree_method to 'exact'\n",
      "[0]\tvalidation_0-rmse:1.15811\tvalidation_1-rmse:1.12522\n",
      "Multiple eval metrics have been passed: 'validation_1-rmse' will be used for early stopping.\n",
      "\n",
      "Will train until validation_1-rmse hasn't improved in 10 rounds.\n",
      "[1]\tvalidation_0-rmse:1.11641\tvalidation_1-rmse:1.09521\n",
      "[2]\tvalidation_0-rmse:1.07594\tvalidation_1-rmse:1.06539\n",
      "[3]\tvalidation_0-rmse:1.04133\tvalidation_1-rmse:1.04205\n",
      "[4]\tvalidation_0-rmse:1.01482\tvalidation_1-rmse:1.02209\n",
      "[5]\tvalidation_0-rmse:0.989187\tvalidation_1-rmse:1.00325\n",
      "[6]\tvalidation_0-rmse:0.969257\tvalidation_1-rmse:0.990749\n",
      "[7]\tvalidation_0-rmse:0.952376\tvalidation_1-rmse:0.979194\n",
      "[8]\tvalidation_0-rmse:0.9387\tvalidation_1-rmse:0.969662\n",
      "[9]\tvalidation_0-rmse:0.92463\tvalidation_1-rmse:0.960192\n",
      "[10]\tvalidation_0-rmse:0.912944\tvalidation_1-rmse:0.952707\n",
      "[11]\tvalidation_0-rmse:0.902866\tvalidation_1-rmse:0.946875\n",
      "[12]\tvalidation_0-rmse:0.894467\tvalidation_1-rmse:0.941557\n",
      "[13]\tvalidation_0-rmse:0.887852\tvalidation_1-rmse:0.937789\n",
      "[14]\tvalidation_0-rmse:0.882117\tvalidation_1-rmse:0.934387\n",
      "[15]\tvalidation_0-rmse:0.876208\tvalidation_1-rmse:0.931372\n",
      "[16]\tvalidation_0-rmse:0.871115\tvalidation_1-rmse:0.927388\n",
      "[17]\tvalidation_0-rmse:0.866806\tvalidation_1-rmse:0.925002\n",
      "[18]\tvalidation_0-rmse:0.863083\tvalidation_1-rmse:0.92299\n",
      "[19]\tvalidation_0-rmse:0.859608\tvalidation_1-rmse:0.921149\n",
      "[20]\tvalidation_0-rmse:0.856357\tvalidation_1-rmse:0.920025\n",
      "[21]\tvalidation_0-rmse:0.853939\tvalidation_1-rmse:0.919005\n",
      "[22]\tvalidation_0-rmse:0.851367\tvalidation_1-rmse:0.918314\n",
      "[23]\tvalidation_0-rmse:0.849074\tvalidation_1-rmse:0.917991\n",
      "[24]\tvalidation_0-rmse:0.847033\tvalidation_1-rmse:0.917772\n",
      "[25]\tvalidation_0-rmse:0.845601\tvalidation_1-rmse:0.917442\n",
      "[26]\tvalidation_0-rmse:0.844187\tvalidation_1-rmse:0.917001\n",
      "[27]\tvalidation_0-rmse:0.842457\tvalidation_1-rmse:0.916758\n",
      "[28]\tvalidation_0-rmse:0.841149\tvalidation_1-rmse:0.916495\n",
      "[29]\tvalidation_0-rmse:0.839925\tvalidation_1-rmse:0.915732\n",
      "[30]\tvalidation_0-rmse:0.838768\tvalidation_1-rmse:0.916072\n",
      "[31]\tvalidation_0-rmse:0.837021\tvalidation_1-rmse:0.915111\n",
      "[32]\tvalidation_0-rmse:0.835985\tvalidation_1-rmse:0.914856\n",
      "[33]\tvalidation_0-rmse:0.835185\tvalidation_1-rmse:0.915116\n",
      "[34]\tvalidation_0-rmse:0.834219\tvalidation_1-rmse:0.914566\n",
      "[35]\tvalidation_0-rmse:0.833321\tvalidation_1-rmse:0.915373\n",
      "[36]\tvalidation_0-rmse:0.832421\tvalidation_1-rmse:0.915445\n",
      "[37]\tvalidation_0-rmse:0.831604\tvalidation_1-rmse:0.91546\n",
      "[38]\tvalidation_0-rmse:0.830399\tvalidation_1-rmse:0.915349\n",
      "[39]\tvalidation_0-rmse:0.829853\tvalidation_1-rmse:0.915233\n",
      "[40]\tvalidation_0-rmse:0.829256\tvalidation_1-rmse:0.91537\n",
      "[41]\tvalidation_0-rmse:0.828814\tvalidation_1-rmse:0.915407\n",
      "[42]\tvalidation_0-rmse:0.828189\tvalidation_1-rmse:0.915177\n",
      "[43]\tvalidation_0-rmse:0.827532\tvalidation_1-rmse:0.915556\n",
      "[44]\tvalidation_0-rmse:0.826678\tvalidation_1-rmse:0.915609\n",
      "Stopping. Best iteration:\n",
      "[34]\tvalidation_0-rmse:0.834219\tvalidation_1-rmse:0.914566\n",
      "\n"
     ]
    },
    {
     "data": {
      "text/plain": [
       "XGBRegressor(base_score=0.5, booster='gbtree', colsample_bylevel=1,\n",
       "       colsample_bytree=0.8, eta=0.3, gamma=0, learning_rate=0.1,\n",
       "       max_delta_step=0, max_depth=8, min_child_weight=300, missing=None,\n",
       "       n_estimators=1000, n_jobs=1, nthread=None, objective='reg:linear',\n",
       "       random_state=0, reg_alpha=0, reg_lambda=1, scale_pos_weight=1,\n",
       "       seed=42, silent=True, subsample=0.8)"
      ]
     },
     "execution_count": 24,
     "metadata": {},
     "output_type": "execute_result"
    }
   ],
   "source": [
    "from xgboost import XGBRegressor\n",
    "from xgboost import plot_importance\n",
    "\n",
    "model = XGBRegressor(\n",
    "    n_estimators=1000,\n",
    "    max_depth=8,\n",
    "    min_child_weight=300, \n",
    "    colsample_bytree=0.8, \n",
    "    subsample=0.8,\n",
    "    eta=0.3,    \n",
    "    seed=42)\n",
    "\n",
    "model.fit(\n",
    "    x_train, \n",
    "    y_train, \n",
    "    eval_metric=\"rmse\", \n",
    "    eval_set=[(x_train, y_train), (x_val, y_val)], \n",
    "    verbose=True, \n",
    "    early_stopping_rounds = 10)"
   ]
  },
  {
   "cell_type": "code",
   "execution_count": 25,
   "metadata": {},
   "outputs": [
    {
     "data": {
      "text/plain": [
       "<matplotlib.axes._subplots.AxesSubplot at 0x1a26af71048>"
      ]
     },
     "execution_count": 25,
     "metadata": {},
     "output_type": "execute_result"
    },
    {
     "data": {
      "image/png": "[encoded data removed]",
      "text/plain": [
       "<Figure size 720x720 with 1 Axes>"
      ]
     },
     "metadata": {},
     "output_type": "display_data"
    }
   ],
   "source": [
    "fig, ax = plt.subplots(1, 1, figsize=(10,10))\n",
    "plot_importance(booster=model, ax=ax)"
   ]
  },
  {
   "cell_type": "markdown",
   "metadata": {},
   "source": [
    "Save the model"
   ]
  },
  {
   "cell_type": "code",
   "execution_count": 26,
   "metadata": {},
   "outputs": [],
   "source": [
    "import pickle\n",
    "\n",
    "pickle.dump(model, open('model_20190618.dat','wb'))"
   ]
  },
  {
   "cell_type": "markdown",
   "metadata": {},
   "source": [
    "## Create submission"
   ]
  },
  {
   "cell_type": "code",
   "execution_count": 27,
   "metadata": {},
   "outputs": [],
   "source": [
    "y_test = np.clip(model.predict(x_test), 0, 20)\n",
    "\n",
    "submission = pd.DataFrame({\n",
    "    \"ID\": test.index, \n",
    "    \"item_cnt_month\": y_test\n",
    "})\n",
    "\n",
    "submission.to_csv('xgb_submission.csv', index=False)"
   ]
  },
  {
   "cell_type": "code",
   "execution_count": null,
   "metadata": {},
   "outputs": [],
   "source": []
  }
 ],
 "metadata": {
  "kernelspec": {
   "display_name": "Python 3",
   "language": "python",
   "name": "python3"
  },
  "language_info": {
   "codemirror_mode": {
    "name": "ipython",
    "version": 3
   },
   "file_extension": ".py",
   "mimetype": "text/x-python",
   "name": "python",
   "nbconvert_exporter": "python",
   "pygments_lexer": "ipython3",
   "version": "3.6.5"
  }
 },
 "nbformat": 4,
 "nbformat_minor": 2
}
